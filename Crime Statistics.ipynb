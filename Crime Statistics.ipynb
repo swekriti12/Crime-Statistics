{
 "cells": [
  {
   "cell_type": "code",
   "execution_count": 149,
   "metadata": {},
   "outputs": [],
   "source": [
    "#Importing necessary libraries\n",
    "import numpy as np\n",
    "import pandas as pd\n",
    "import matplotlib.pyplot as plt\n",
    "import seaborn as sns\n",
    "from openpyxl import Workbook"
   ]
  },
  {
   "cell_type": "code",
   "execution_count": 150,
   "metadata": {},
   "outputs": [],
   "source": [
    "#Loading the dataset\n",
    "Crime_Statistics = pd.read_csv(\"./35100177.csv\", dtype={'DGUID': str, 'TERMINATED': str}, low_memory=False)"
   ]
  },
  {
   "cell_type": "code",
   "execution_count": 151,
   "metadata": {},
   "outputs": [
    {
     "data": {
      "text/html": [
       "<div>\n",
       "<style scoped>\n",
       "    .dataframe tbody tr th:only-of-type {\n",
       "        vertical-align: middle;\n",
       "    }\n",
       "\n",
       "    .dataframe tbody tr th {\n",
       "        vertical-align: top;\n",
       "    }\n",
       "\n",
       "    .dataframe thead th {\n",
       "        text-align: right;\n",
       "    }\n",
       "</style>\n",
       "<table border=\"1\" class=\"dataframe\">\n",
       "  <thead>\n",
       "    <tr style=\"text-align: right;\">\n",
       "      <th></th>\n",
       "      <th>REF_DATE</th>\n",
       "      <th>GEO</th>\n",
       "      <th>DGUID</th>\n",
       "      <th>Violations</th>\n",
       "      <th>Statistics</th>\n",
       "      <th>UOM</th>\n",
       "      <th>UOM_ID</th>\n",
       "      <th>SCALAR_FACTOR</th>\n",
       "      <th>SCALAR_ID</th>\n",
       "      <th>VECTOR</th>\n",
       "      <th>COORDINATE</th>\n",
       "      <th>VALUE</th>\n",
       "      <th>STATUS</th>\n",
       "      <th>SYMBOL</th>\n",
       "      <th>TERMINATED</th>\n",
       "      <th>DECIMALS</th>\n",
       "    </tr>\n",
       "  </thead>\n",
       "  <tbody>\n",
       "    <tr>\n",
       "      <th>0</th>\n",
       "      <td>1998</td>\n",
       "      <td>Canada</td>\n",
       "      <td>2021A000011124</td>\n",
       "      <td>Total, all violations [0]</td>\n",
       "      <td>Actual incidents</td>\n",
       "      <td>Number</td>\n",
       "      <td>223</td>\n",
       "      <td>units</td>\n",
       "      <td>0</td>\n",
       "      <td>v44348247</td>\n",
       "      <td>1.1.1</td>\n",
       "      <td>2688540.00</td>\n",
       "      <td>NaN</td>\n",
       "      <td>NaN</td>\n",
       "      <td>NaN</td>\n",
       "      <td>0</td>\n",
       "    </tr>\n",
       "    <tr>\n",
       "      <th>1</th>\n",
       "      <td>1998</td>\n",
       "      <td>Canada</td>\n",
       "      <td>2021A000011124</td>\n",
       "      <td>Total, all violations [0]</td>\n",
       "      <td>Rate per 100,000 population</td>\n",
       "      <td>Rate</td>\n",
       "      <td>257</td>\n",
       "      <td>units</td>\n",
       "      <td>0</td>\n",
       "      <td>v44396346</td>\n",
       "      <td>1.1.2</td>\n",
       "      <td>8915.12</td>\n",
       "      <td>NaN</td>\n",
       "      <td>NaN</td>\n",
       "      <td>NaN</td>\n",
       "      <td>2</td>\n",
       "    </tr>\n",
       "    <tr>\n",
       "      <th>2</th>\n",
       "      <td>1998</td>\n",
       "      <td>Canada</td>\n",
       "      <td>2021A000011124</td>\n",
       "      <td>Total, all violations [0]</td>\n",
       "      <td>Percentage change in rate</td>\n",
       "      <td>Percent</td>\n",
       "      <td>239</td>\n",
       "      <td>units</td>\n",
       "      <td>0</td>\n",
       "      <td>v44391402</td>\n",
       "      <td>1.1.3</td>\n",
       "      <td>NaN</td>\n",
       "      <td>..</td>\n",
       "      <td>NaN</td>\n",
       "      <td>NaN</td>\n",
       "      <td>2</td>\n",
       "    </tr>\n",
       "    <tr>\n",
       "      <th>3</th>\n",
       "      <td>1998</td>\n",
       "      <td>Canada</td>\n",
       "      <td>2021A000011124</td>\n",
       "      <td>Total, all violations [0]</td>\n",
       "      <td>Percentage contribution to the Crime Severity ...</td>\n",
       "      <td>Percent</td>\n",
       "      <td>239</td>\n",
       "      <td>units</td>\n",
       "      <td>0</td>\n",
       "      <td>v1545644596</td>\n",
       "      <td>1.1.17</td>\n",
       "      <td>100.00</td>\n",
       "      <td>NaN</td>\n",
       "      <td>NaN</td>\n",
       "      <td>NaN</td>\n",
       "      <td>2</td>\n",
       "    </tr>\n",
       "    <tr>\n",
       "      <th>4</th>\n",
       "      <td>1998</td>\n",
       "      <td>Canada</td>\n",
       "      <td>2021A000011124</td>\n",
       "      <td>Total, all violations [0]</td>\n",
       "      <td>Unfounded incidents</td>\n",
       "      <td>Number</td>\n",
       "      <td>223</td>\n",
       "      <td>units</td>\n",
       "      <td>0</td>\n",
       "      <td>v1000149311</td>\n",
       "      <td>1.1.15</td>\n",
       "      <td>NaN</td>\n",
       "      <td>..</td>\n",
       "      <td>NaN</td>\n",
       "      <td>NaN</td>\n",
       "      <td>0</td>\n",
       "    </tr>\n",
       "  </tbody>\n",
       "</table>\n",
       "</div>"
      ],
      "text/plain": [
       "   REF_DATE     GEO           DGUID                 Violations  \\\n",
       "0      1998  Canada  2021A000011124  Total, all violations [0]   \n",
       "1      1998  Canada  2021A000011124  Total, all violations [0]   \n",
       "2      1998  Canada  2021A000011124  Total, all violations [0]   \n",
       "3      1998  Canada  2021A000011124  Total, all violations [0]   \n",
       "4      1998  Canada  2021A000011124  Total, all violations [0]   \n",
       "\n",
       "                                          Statistics      UOM  UOM_ID  \\\n",
       "0                                   Actual incidents   Number     223   \n",
       "1                        Rate per 100,000 population     Rate     257   \n",
       "2                          Percentage change in rate  Percent     239   \n",
       "3  Percentage contribution to the Crime Severity ...  Percent     239   \n",
       "4                                Unfounded incidents   Number     223   \n",
       "\n",
       "  SCALAR_FACTOR  SCALAR_ID       VECTOR COORDINATE       VALUE STATUS  SYMBOL  \\\n",
       "0         units          0    v44348247      1.1.1  2688540.00    NaN     NaN   \n",
       "1         units          0    v44396346      1.1.2     8915.12    NaN     NaN   \n",
       "2         units          0    v44391402      1.1.3         NaN     ..     NaN   \n",
       "3         units          0  v1545644596     1.1.17      100.00    NaN     NaN   \n",
       "4         units          0  v1000149311     1.1.15         NaN     ..     NaN   \n",
       "\n",
       "  TERMINATED  DECIMALS  \n",
       "0        NaN         0  \n",
       "1        NaN         2  \n",
       "2        NaN         2  \n",
       "3        NaN         2  \n",
       "4        NaN         0  "
      ]
     },
     "execution_count": 151,
     "metadata": {},
     "output_type": "execute_result"
    }
   ],
   "source": [
    "#Displaying first five rows\n",
    "Crime_Statistics.head(5)"
   ]
  },
  {
   "cell_type": "markdown",
   "metadata": {},
   "source": [
    "## 2. Understand the Dataset"
   ]
  },
  {
   "cell_type": "code",
   "execution_count": 152,
   "metadata": {},
   "outputs": [
    {
     "data": {
      "text/plain": [
       "(7244910, 16)"
      ]
     },
     "execution_count": 152,
     "metadata": {},
     "output_type": "execute_result"
    }
   ],
   "source": [
    "#Checking the shape of the dataset\n",
    "Crime_Statistics.shape"
   ]
  },
  {
   "cell_type": "markdown",
   "metadata": {},
   "source": [
    "The dataset includes 7244910 rows and 16 columns."
   ]
  },
  {
   "cell_type": "code",
   "execution_count": 153,
   "metadata": {},
   "outputs": [
    {
     "data": {
      "text/plain": [
       "Index(['REF_DATE', 'GEO', 'DGUID', 'Violations', 'Statistics', 'UOM', 'UOM_ID',\n",
       "       'SCALAR_FACTOR', 'SCALAR_ID', 'VECTOR', 'COORDINATE', 'VALUE', 'STATUS',\n",
       "       'SYMBOL', 'TERMINATED', 'DECIMALS'],\n",
       "      dtype='object')"
      ]
     },
     "execution_count": 153,
     "metadata": {},
     "output_type": "execute_result"
    }
   ],
   "source": [
    "#Checking the columns of the dataset\n",
    "Crime_Statistics.columns"
   ]
  },
  {
   "cell_type": "markdown",
   "metadata": {},
   "source": [
    "The names of the 16 columns are: 'REF_DATE', 'GEO', 'DGUID', 'Violations', 'Statistics', 'UOM', 'UOM_ID', 'SCALAR_FACTOR', 'SCALAR_ID', 'VECTOR', 'COORDINATE', 'VALUE', 'STATUS', 'SYMBOL', 'TERMINATED', and 'DECIMALS'."
   ]
  },
  {
   "cell_type": "code",
   "execution_count": 154,
   "metadata": {},
   "outputs": [
    {
     "name": "stdout",
     "output_type": "stream",
     "text": [
      "<class 'pandas.core.frame.DataFrame'>\n",
      "RangeIndex: 7244910 entries, 0 to 7244909\n",
      "Data columns (total 16 columns):\n",
      " #   Column         Dtype  \n",
      "---  ------         -----  \n",
      " 0   REF_DATE       int64  \n",
      " 1   GEO            object \n",
      " 2   DGUID          object \n",
      " 3   Violations     object \n",
      " 4   Statistics     object \n",
      " 5   UOM            object \n",
      " 6   UOM_ID         int64  \n",
      " 7   SCALAR_FACTOR  object \n",
      " 8   SCALAR_ID      int64  \n",
      " 9   VECTOR         object \n",
      " 10  COORDINATE     object \n",
      " 11  VALUE          float64\n",
      " 12  STATUS         object \n",
      " 13  SYMBOL         float64\n",
      " 14  TERMINATED     object \n",
      " 15  DECIMALS       int64  \n",
      "dtypes: float64(2), int64(4), object(10)\n",
      "memory usage: 884.4+ MB\n"
     ]
    }
   ],
   "source": [
    "#Getting more information of the dataset including missing data\n",
    "Crime_Statistics.info()"
   ]
  },
  {
   "cell_type": "markdown",
   "metadata": {},
   "source": [
    "The above data represents the data type of each columns."
   ]
  },
  {
   "cell_type": "markdown",
   "metadata": {},
   "source": [
    "## 3. Data Filtering"
   ]
  },
  {
   "cell_type": "markdown",
   "metadata": {},
   "source": [
    "As per the Metadata \"Youth population data are not available prior to 2004, therefore the rates shown are incorrect and should not be used\", so the best approach would be to remove the dataset till the year 2004 for reliable and accurate analysis, ensuring that all insights and conclusions drawn are based on valid and dependable data.\n",
    "\n",
    "The dataset is now focused on reliable data from 2005 onwards."
   ]
  },
  {
   "cell_type": "code",
   "execution_count": 155,
   "metadata": {},
   "outputs": [],
   "source": [
    "#Filtering data for years 2005 and beyond\n",
    "Crime_Statistics = Crime_Statistics[Crime_Statistics['REF_DATE'] >= 2005]"
   ]
  },
  {
   "cell_type": "code",
   "execution_count": 156,
   "metadata": {},
   "outputs": [
    {
     "data": {
      "text/plain": [
       "(5369589, 16)"
      ]
     },
     "execution_count": 156,
     "metadata": {},
     "output_type": "execute_result"
    }
   ],
   "source": [
    "#Checking the shape of the dataset after filtering data for years\n",
    "Crime_Statistics.shape"
   ]
  },
  {
   "cell_type": "code",
   "execution_count": 157,
   "metadata": {},
   "outputs": [
    {
     "data": {
      "text/html": [
       "<div>\n",
       "<style scoped>\n",
       "    .dataframe tbody tr th:only-of-type {\n",
       "        vertical-align: middle;\n",
       "    }\n",
       "\n",
       "    .dataframe tbody tr th {\n",
       "        vertical-align: top;\n",
       "    }\n",
       "\n",
       "    .dataframe thead th {\n",
       "        text-align: right;\n",
       "    }\n",
       "</style>\n",
       "<table border=\"1\" class=\"dataframe\">\n",
       "  <thead>\n",
       "    <tr style=\"text-align: right;\">\n",
       "      <th></th>\n",
       "      <th>REF_DATE</th>\n",
       "      <th>GEO</th>\n",
       "      <th>DGUID</th>\n",
       "      <th>Violations</th>\n",
       "      <th>Statistics</th>\n",
       "      <th>UOM</th>\n",
       "      <th>UOM_ID</th>\n",
       "      <th>SCALAR_FACTOR</th>\n",
       "      <th>SCALAR_ID</th>\n",
       "      <th>VECTOR</th>\n",
       "      <th>COORDINATE</th>\n",
       "      <th>VALUE</th>\n",
       "      <th>STATUS</th>\n",
       "      <th>SYMBOL</th>\n",
       "      <th>TERMINATED</th>\n",
       "      <th>DECIMALS</th>\n",
       "    </tr>\n",
       "  </thead>\n",
       "  <tbody>\n",
       "    <tr>\n",
       "      <th>1875321</th>\n",
       "      <td>2005</td>\n",
       "      <td>Canada</td>\n",
       "      <td>2021A000011124</td>\n",
       "      <td>Total, all violations [0]</td>\n",
       "      <td>Actual incidents</td>\n",
       "      <td>Number</td>\n",
       "      <td>223</td>\n",
       "      <td>units</td>\n",
       "      <td>0</td>\n",
       "      <td>v44348247</td>\n",
       "      <td>1.1.1</td>\n",
       "      <td>2608741.00</td>\n",
       "      <td>NaN</td>\n",
       "      <td>NaN</td>\n",
       "      <td>NaN</td>\n",
       "      <td>0</td>\n",
       "    </tr>\n",
       "    <tr>\n",
       "      <th>1875322</th>\n",
       "      <td>2005</td>\n",
       "      <td>Canada</td>\n",
       "      <td>2021A000011124</td>\n",
       "      <td>Total, all violations [0]</td>\n",
       "      <td>Rate per 100,000 population</td>\n",
       "      <td>Rate</td>\n",
       "      <td>257</td>\n",
       "      <td>units</td>\n",
       "      <td>0</td>\n",
       "      <td>v44396346</td>\n",
       "      <td>1.1.2</td>\n",
       "      <td>8090.32</td>\n",
       "      <td>NaN</td>\n",
       "      <td>NaN</td>\n",
       "      <td>NaN</td>\n",
       "      <td>2</td>\n",
       "    </tr>\n",
       "    <tr>\n",
       "      <th>1875323</th>\n",
       "      <td>2005</td>\n",
       "      <td>Canada</td>\n",
       "      <td>2021A000011124</td>\n",
       "      <td>Total, all violations [0]</td>\n",
       "      <td>Percentage change in rate</td>\n",
       "      <td>Percent</td>\n",
       "      <td>239</td>\n",
       "      <td>units</td>\n",
       "      <td>0</td>\n",
       "      <td>v44391402</td>\n",
       "      <td>1.1.3</td>\n",
       "      <td>-3.59</td>\n",
       "      <td>NaN</td>\n",
       "      <td>NaN</td>\n",
       "      <td>NaN</td>\n",
       "      <td>2</td>\n",
       "    </tr>\n",
       "    <tr>\n",
       "      <th>1875324</th>\n",
       "      <td>2005</td>\n",
       "      <td>Canada</td>\n",
       "      <td>2021A000011124</td>\n",
       "      <td>Total, all violations [0]</td>\n",
       "      <td>Percentage contribution to the Crime Severity ...</td>\n",
       "      <td>Percent</td>\n",
       "      <td>239</td>\n",
       "      <td>units</td>\n",
       "      <td>0</td>\n",
       "      <td>v1545644596</td>\n",
       "      <td>1.1.17</td>\n",
       "      <td>100.00</td>\n",
       "      <td>NaN</td>\n",
       "      <td>NaN</td>\n",
       "      <td>NaN</td>\n",
       "      <td>2</td>\n",
       "    </tr>\n",
       "    <tr>\n",
       "      <th>1875325</th>\n",
       "      <td>2005</td>\n",
       "      <td>Canada</td>\n",
       "      <td>2021A000011124</td>\n",
       "      <td>Total, all violations [0]</td>\n",
       "      <td>Unfounded incidents</td>\n",
       "      <td>Number</td>\n",
       "      <td>223</td>\n",
       "      <td>units</td>\n",
       "      <td>0</td>\n",
       "      <td>v1000149311</td>\n",
       "      <td>1.1.15</td>\n",
       "      <td>NaN</td>\n",
       "      <td>..</td>\n",
       "      <td>NaN</td>\n",
       "      <td>NaN</td>\n",
       "      <td>0</td>\n",
       "    </tr>\n",
       "  </tbody>\n",
       "</table>\n",
       "</div>"
      ],
      "text/plain": [
       "         REF_DATE     GEO           DGUID                 Violations  \\\n",
       "1875321      2005  Canada  2021A000011124  Total, all violations [0]   \n",
       "1875322      2005  Canada  2021A000011124  Total, all violations [0]   \n",
       "1875323      2005  Canada  2021A000011124  Total, all violations [0]   \n",
       "1875324      2005  Canada  2021A000011124  Total, all violations [0]   \n",
       "1875325      2005  Canada  2021A000011124  Total, all violations [0]   \n",
       "\n",
       "                                                Statistics      UOM  UOM_ID  \\\n",
       "1875321                                   Actual incidents   Number     223   \n",
       "1875322                        Rate per 100,000 population     Rate     257   \n",
       "1875323                          Percentage change in rate  Percent     239   \n",
       "1875324  Percentage contribution to the Crime Severity ...  Percent     239   \n",
       "1875325                                Unfounded incidents   Number     223   \n",
       "\n",
       "        SCALAR_FACTOR  SCALAR_ID       VECTOR COORDINATE       VALUE STATUS  \\\n",
       "1875321         units          0    v44348247      1.1.1  2608741.00    NaN   \n",
       "1875322         units          0    v44396346      1.1.2     8090.32    NaN   \n",
       "1875323         units          0    v44391402      1.1.3       -3.59    NaN   \n",
       "1875324         units          0  v1545644596     1.1.17      100.00    NaN   \n",
       "1875325         units          0  v1000149311     1.1.15         NaN     ..   \n",
       "\n",
       "         SYMBOL TERMINATED  DECIMALS  \n",
       "1875321     NaN        NaN         0  \n",
       "1875322     NaN        NaN         2  \n",
       "1875323     NaN        NaN         2  \n",
       "1875324     NaN        NaN         2  \n",
       "1875325     NaN        NaN         0  "
      ]
     },
     "execution_count": 157,
     "metadata": {},
     "output_type": "execute_result"
    }
   ],
   "source": [
    "#Displaying first five rows\n",
    "Crime_Statistics.head(5)"
   ]
  },
  {
   "cell_type": "markdown",
   "metadata": {},
   "source": [
    "## 4. Examine the unique values of each columns in the dataset and perform data cleaning if required"
   ]
  },
  {
   "cell_type": "markdown",
   "metadata": {},
   "source": [
    "### Column #1: REF_DATE"
   ]
  },
  {
   "cell_type": "code",
   "execution_count": 158,
   "metadata": {},
   "outputs": [
    {
     "data": {
      "text/plain": [
       "array([2005, 2006, 2007, 2008, 2009, 2010, 2011, 2012, 2013, 2014, 2015,\n",
       "       2016, 2017, 2018, 2019, 2020, 2021, 2022, 2023])"
      ]
     },
     "execution_count": 158,
     "metadata": {},
     "output_type": "execute_result"
    }
   ],
   "source": [
    "#Checking unique values for \"REF_DATE\" column\n",
    "Crime_Statistics['REF_DATE'].unique()"
   ]
  },
  {
   "cell_type": "markdown",
   "metadata": {},
   "source": [
    "The \"REF_DATE\" column in the dataset represents the year in which the crime was committed. The dataset includes the information about the crime committed in the years 2005 to 2023."
   ]
  },
  {
   "cell_type": "code",
   "execution_count": 159,
   "metadata": {},
   "outputs": [],
   "source": [
    "#Renaming the column \"REF_DATE\" to \"Year\"\n",
    "Crime_Statistics.rename(columns={'REF_DATE': 'Year'}, inplace=True)"
   ]
  },
  {
   "cell_type": "markdown",
   "metadata": {},
   "source": [
    "### Column #2: GEO"
   ]
  },
  {
   "cell_type": "code",
   "execution_count": 160,
   "metadata": {},
   "outputs": [
    {
     "data": {
      "text/plain": [
       "array(['Canada', 'Newfoundland and Labrador [10]',\n",
       "       \"St. John's, Newfoundland and Labrador [10001]\",\n",
       "       'Prince Edward Island [11]', 'Nova Scotia [12]',\n",
       "       'Halifax, Nova Scotia [12205]', 'New Brunswick [13]',\n",
       "       'Moncton, New Brunswick [13305]',\n",
       "       'Saint John, New Brunswick [13310]', 'Quebec [24]',\n",
       "       'Saguenay, Quebec [24408]', 'Québec, Quebec [24421]',\n",
       "       'Sherbrooke, Quebec [24433]', 'Trois-Rivières, Quebec [24442]',\n",
       "       'Montréal, Quebec [24462]', 'Ottawa-Gatineau, Quebec part [24505]',\n",
       "       'Ontario [35]', 'Ottawa-Gatineau, Ontario/Quebec [24505/35505]',\n",
       "       'Ottawa-Gatineau, Ontario part [35505]',\n",
       "       'Kingston, Ontario [35521]',\n",
       "       'Belleville-Quinte West, Ontario [35522]',\n",
       "       'Peterborough, Ontario [35529]', 'Toronto, Ontario [35535]',\n",
       "       'Hamilton, Ontario [35537]',\n",
       "       'St. Catharines-Niagara, Ontario [35539]',\n",
       "       'Kitchener-Cambridge-Waterloo, Ontario [35541]',\n",
       "       'Brantford, Ontario [35543]', 'Guelph, Ontario [35550]',\n",
       "       'London, Ontario [35555]', 'Windsor, Ontario [35559]',\n",
       "       'Barrie, Ontario [35568]', 'Greater Sudbury, Ontario [35580]',\n",
       "       'Thunder Bay, Ontario [35595]', 'Manitoba [46]',\n",
       "       'Winnipeg, Manitoba [46602]', 'Saskatchewan [47]',\n",
       "       'Regina, Saskatchewan [47705]', 'Saskatoon, Saskatchewan [47725]',\n",
       "       'Alberta [48]', 'Lethbridge, Alberta [48810]',\n",
       "       'Calgary, Alberta [48825]', 'Edmonton, Alberta [48835]',\n",
       "       'British Columbia [59]', 'Kelowna, British Columbia [59915]',\n",
       "       'Abbotsford-Mission, British Columbia [59932]',\n",
       "       'Vancouver, British Columbia [59933]',\n",
       "       'Victoria, British Columbia [59935]', 'Yukon [60]',\n",
       "       'Northwest Territories [61]', 'Nunavut [62]',\n",
       "       'Canadian Forces Military Police [99001]',\n",
       "       'Fredericton, New Brunswick [13320]',\n",
       "       'Drummondville, Quebec [24447]', 'Red Deer, Alberta [48830]',\n",
       "       'Kamloops, British Columbia [59925]',\n",
       "       'Chilliwack, British Columbia [59930]',\n",
       "       'Nanaimo, British Columbia [59938]'], dtype=object)"
      ]
     },
     "execution_count": 160,
     "metadata": {},
     "output_type": "execute_result"
    }
   ],
   "source": [
    "#Checking unique values for \"GEO\" column\n",
    "Crime_Statistics['GEO'].unique()"
   ]
  },
  {
   "cell_type": "markdown",
   "metadata": {},
   "source": [
    "The \"Geo\" column in the dataset contains information about geographic location accross Canada, including provinces, cities, and specific areas within cities.\n",
    "\n",
    "- Provinces: Alberta, British Columbia, Manitoba, New Brunswick, Newfoundland and Labrador, Nova Scotia, Northwest Territories, Nanavut, Ontario Quebec, Saskatchewan, and Yukon\n",
    "- Cities and Regions: Halifax, Montreal, Ottawa, Calgary, Edmonton, Red Deer, Barrie, Kingston, Thunder Bay, Regina, Brantford, Kitchener, Winnipeg, Lethbridge, Windsor, and so on.\n",
    "- Specific Areas within cities: Ottawa-Gatineau, St. Catharines-Niagara, Belleville-Quinte West, and so on."
   ]
  },
  {
   "cell_type": "markdown",
   "metadata": {},
   "source": [
    "### Column #3: DGUID"
   ]
  },
  {
   "cell_type": "code",
   "execution_count": 161,
   "metadata": {},
   "outputs": [
    {
     "data": {
      "text/plain": [
       "array(['2021A000011124', '2021A000210', '2021A003510001', '2021A000211',\n",
       "       '2021A000212', '2021A003512205', '2021A000213', '2021A003513305',\n",
       "       '2021A003513310', '2021A000224', '2021A003524408',\n",
       "       '2021A003524421', '2021A003524433', '2021A003524442',\n",
       "       '2021A003524462', '2021A003524505', '2021A000235', '2021A0035505',\n",
       "       '2021A003535505', '2021A003535521', '2021A003535522',\n",
       "       '2021A003535529', '2021A003535535', '2021A003535537',\n",
       "       '2021A003535539', '2021A003535541', '2021A003535543',\n",
       "       '2021A003535550', '2021A003535555', '2021A003535559',\n",
       "       '2021A003535568', '2021A003535580', '2021A003535595',\n",
       "       '2021A000246', '2021A003546602', '2021A000247', '2021A003547705',\n",
       "       '2021A003547725', '2021A000248', '2021A003548810',\n",
       "       '2021A003548825', '2021A003548835', '2021A000259',\n",
       "       '2021A003559915', '2021A003559932', '2021A003559933',\n",
       "       '2021A003559935', '2021A000260', '2021A000261', '2021A000262', nan,\n",
       "       '2021A003513320', '2021A003524447', '2021A003548830',\n",
       "       '2021A003559925', '2021A003559930', '2021A003559938'], dtype=object)"
      ]
     },
     "execution_count": 161,
     "metadata": {},
     "output_type": "execute_result"
    }
   ],
   "source": [
    "#Checking unique values for \"DGUID\" column\n",
    "Crime_Statistics['DGUID'].unique()"
   ]
  },
  {
   "cell_type": "markdown",
   "metadata": {},
   "source": [
    "The \"DGUID\" column in the dataset represent unique identifiers for specific geographic areas or regions. Each value in the dataset, such as 2021A000011124 appears to be a code that maps to a specific location (like province, city, or region). However, the presence of \"nan\" in dataset indicates there are some missing data for some records. Since we already have this information in the 'GEO' column, it would be best to drop the 'DGUID' column.\"\n",
    "\n"
   ]
  },
  {
   "cell_type": "code",
   "execution_count": 162,
   "metadata": {},
   "outputs": [],
   "source": [
    "#Removing the column \"DGUID\"\n",
    "Crime_Statistics.drop(columns=['DGUID'], inplace=True)"
   ]
  },
  {
   "cell_type": "markdown",
   "metadata": {},
   "source": [
    "### Column #4: Violations"
   ]
  },
  {
   "cell_type": "code",
   "execution_count": 163,
   "metadata": {},
   "outputs": [
    {
     "data": {
      "text/plain": [
       "array(['Total, all violations [0]',\n",
       "       'Total, all Criminal Code violations (including traffic) [25]',\n",
       "       'Total, all Criminal Code violations (excluding traffic) [50]',\n",
       "       'Total violent Criminal Code violations [100]', 'Homicide [110]',\n",
       "       'Murder, first degree [1110]', 'Murder, second degree [1120]',\n",
       "       'Manslaughter [1130]', 'Infanticide [1140]',\n",
       "       'Total other violations causing death [120]',\n",
       "       'Criminal negligence causing death [1150]',\n",
       "       'Other related violations causing death [1160]',\n",
       "       'Attempted murder [1210]',\n",
       "       'Sexual offence which occurred prior to January 4, 1983 [1300]',\n",
       "       'Sexual assault, level 3, aggravated [1310]',\n",
       "       'Sexual assault, level 2, weapon or bodily harm [1320]',\n",
       "       'Sexual assault, level 1 [1330]',\n",
       "       'Total sexual violations against children [130]',\n",
       "       'Sexual interference [1345]',\n",
       "       'Invitation to sexual touching [1350]',\n",
       "       'Sexual exploitation [1355]',\n",
       "       'Making sexually explicit material available to children [1367]',\n",
       "       'Parent or guardian procuring sexual activity [1368]',\n",
       "       'Householder permitting prohibited sexual activity [1369]',\n",
       "       'Luring a child via a computer [1370]',\n",
       "       'Agreement or Arrangement - sexual offence against child [1371]',\n",
       "       'Bestiality in presence of, or incites, a child [1381]',\n",
       "       'Assault, level 3, aggravated [1410]',\n",
       "       'Assault, level 2, weapon or bodily harm [1420]',\n",
       "       'Assault, level 1 [1430]',\n",
       "       'Total assaults against a peace officer [135]',\n",
       "       'Total other assaults [140]',\n",
       "       'Unlawfully causing bodily harm [1440]',\n",
       "       'Criminal negligence causing bodily harm [1470]',\n",
       "       'Other assaults [1480]',\n",
       "       'Total firearms, use of, discharge, pointing [150]',\n",
       "       'Discharge firearm with intent [1450]',\n",
       "       'Using firearm in commission of offence [1455]',\n",
       "       'Pointing a firearm [1457]', 'Total robbery [160]',\n",
       "       'Robbery [1610]', 'Robbery to steal a firearm [1611]',\n",
       "       'Total forcible confinement or kidnapping [510]',\n",
       "       'Forcible confinement or kidnapping [1510]', 'Kidnapping [1515]',\n",
       "       'Forcible confinement [1516]', 'Total abduction [170]',\n",
       "       'Abduction under the age 14, not parent or guardian [1530]',\n",
       "       'Abduction under the age 16 [1540]',\n",
       "       'Removal of children from Canada [1545]',\n",
       "       'Abduction under the age 14 contravening a custody order [1550]',\n",
       "       'Abduction under age 14, by parent or guardian [1560]',\n",
       "       'Extortion [1620]', 'Criminal harassment [1625]',\n",
       "       'Uttering threats [1627]',\n",
       "       'Indecent/Harassing communications [1626]',\n",
       "       'Total offences in relation to sexual services [190]',\n",
       "       'Obtaining sexual services for consideration [1711]',\n",
       "       'Obtaining sexual services for consideration from person under the age of 18 years [1712]',\n",
       "       'Receive material benefit from sexual services [1721]',\n",
       "       'Receive material benefit from sexual services provided by person under the age of 18 years [1722]',\n",
       "       'Procuring [1731]',\n",
       "       'Procuring a person under the age of 18 years [1732]',\n",
       "       'Advertising sexual services [1740]',\n",
       "       'Total other violent violations [180]',\n",
       "       'Conspire to commit murder [1220]',\n",
       "       'Other sexual violations [1340]',\n",
       "       'Sexual Exploitation of a person with a disability [1356]',\n",
       "       'Incest [1360]', 'Corrupting morals of a child [1365]',\n",
       "       'Anal intercourse [1375]',\n",
       "       'Bestiality, commit or compel person [1380]', 'Voyeurism [1385]',\n",
       "       'Non-consensual distribution of intimate images [1390]',\n",
       "       'Trap likely to or causing bodily harm [1475]',\n",
       "       'Hostage-taking [1520]', 'Trafficking in persons [1525]',\n",
       "       'Intimidation of a justice system participant or a journalist [1621]',\n",
       "       'Intimidation of a non-justice participant [1622]',\n",
       "       'Explosives causing death or bodily harm [1628]',\n",
       "       'Arson, disregard for human life [1629]',\n",
       "       'Failure to comply with mandatory safeguards in relation to medical assistance in dying [1631]',\n",
       "       'Forging or destroying documents related to assistance requests with criminal intent [1632]',\n",
       "       'Other violent violations [1630]',\n",
       "       'Total property crime violations [200]',\n",
       "       'Total breaking and entering [210]',\n",
       "       'Breaking and entering [2120]',\n",
       "       'Breaking and entering to steal a firearm [2121]',\n",
       "       'Break and enter to steal a firearm from a motor vehicle [2125]',\n",
       "       'Total possession of stolen property [211]',\n",
       "       'Total trafficking in stolen property [212]',\n",
       "       'Total theft of motor vehicle [220]',\n",
       "       'Total theft over $5,000 (non-motor vehicle) [230]',\n",
       "       'Theft over $5,000 [2130]',\n",
       "       'Theft over $5,000 from a motor vehicle [2132]',\n",
       "       'Shoplifting over $5,000 [2133]',\n",
       "       'Total theft under $5,000 (non-motor vehicle) [240]',\n",
       "       'Theft $5,000 or under [2140]',\n",
       "       'Theft $5,000 or under from a motor vehicle [2142]',\n",
       "       'Shoplifting $5,000 or under [2143]', 'Fraud [2160]',\n",
       "       'Identity theft [2165]', 'Identity fraud [2166]',\n",
       "       'Total mischief [250]', 'Mischief [2170]',\n",
       "       'Mischief in relation to cultural property [2175]',\n",
       "       'Hate-motivated mischief relating to property used by identifiable group [2176]',\n",
       "       'Mischief relating to war memorials [2177]', 'Arson [2110]',\n",
       "       'Altering, removing or destroying Vehicle Identification Number (VIN) [2178]',\n",
       "       'Total other Criminal Code violations [300]',\n",
       "       'Counterfeiting [3420]', 'Total weapons violations [310]',\n",
       "       'Offensive weapons, explosives [3310]',\n",
       "       'Offensive weapons, prohibited [3320]',\n",
       "       'Offensive weapons, restricted [3330]',\n",
       "       'Firearm transfers or serial numbers [3340]',\n",
       "       'Other offensive weapons [3350]',\n",
       "       'Weapons trafficking and Manufacturing [3365]',\n",
       "       'Weapons possession contrary to order [3370]',\n",
       "       'Possession of weapons [3375]',\n",
       "       'Unauthorized importing or exporting of weapons [3380]',\n",
       "       'Firearms documentation or administration [3390]',\n",
       "       'Unsafe storage of firearms [3395]',\n",
       "       'Possession of, or accessing child pornography [3455]',\n",
       "       'Making, or distribution of child pornography [3456]',\n",
       "       'Total prostitution [320]', 'Bawdy house [3110]',\n",
       "       'Living off the avails of prostitution of a person under age 18 [3115]',\n",
       "       'Procuring [3120]',\n",
       "       'Obtains or communicates with a person under age 18 for purpose of sex [3125]',\n",
       "       'Other prostitution [3130]',\n",
       "       'Public communication to sell sexual services [3140]',\n",
       "       'Offences related to impeding traffic to buy or sell sexual services [3141]',\n",
       "       'Disturb the peace [3430]',\n",
       "       'Total administration of justice violations [330]',\n",
       "       'Fail to comply with order [3410]',\n",
       "       'Escape or helps to escape from lawful custody [3440]',\n",
       "       'Prisoner unlawfully at large [3480]', 'Fail to appear [3510]',\n",
       "       'Breach of probation [3520]',\n",
       "       'Other violations against the administration of law and justice (Part IV Criminal Code) [3730]',\n",
       "       'Total other violations [340]', 'Betting house [3210]',\n",
       "       'Gaming house [3220]',\n",
       "       'Other violations related to gaming and betting [3230]',\n",
       "       'Common Bawdy House [3240]', 'Indecent acts [3450]',\n",
       "       'Corrupting morals [3460]',\n",
       "       'Obstruct public or peace officer [3470]',\n",
       "       'Trespass at night [3490]',\n",
       "       'Utter threats to property or animal [3540]',\n",
       "       'Advocating genocide [3550]', 'Public incitement of hatred [3560]',\n",
       "       'Offences against public order (Part II Criminal Code) [3710]',\n",
       "       'Property or service for terrorist activity [3711]',\n",
       "       'Freezing of property, disclosure or audit [3712]',\n",
       "       'Participate in activity of terrorist group [3713]',\n",
       "       'Facilitate terrorist activity [3714]',\n",
       "       'Commission or instructing to carry out terrorist activity [3715]',\n",
       "       'Harbour or conceal terrorist [3716]', 'Hoax terrorism [3717]',\n",
       "       'Advocating/Promoting terrorism offence [3718]',\n",
       "       'Firearms and other offensive weapons (Part III Criminal Code) [3720]',\n",
       "       'Leaving Canada to participate in activity of terrorist group [3721]',\n",
       "       'Leaving Canada to facilitate terrorist activity [3722]',\n",
       "       'Leaving Canada to commit offence for terrorist group [3723]',\n",
       "       'Leaving Canada to commit offence that is terrorist activity [3724]',\n",
       "       'Concealing person who carried out terrorist activity that is a terrorism offence for which that person is liable to imprisonment for life [3725]',\n",
       "       'Concealing person who carried out terrorist activity that is a terrorism offence for which that person is liable to any punishment other than life [3726]',\n",
       "       'Concealing person who is likely to carry out terrorist activity [3727]',\n",
       "       'Sexual offences, public morals and disorderly conduct (Part V Criminal Code) [3740]',\n",
       "       'Invasion of privacy (Part VI Criminal Code) [3750]',\n",
       "       'Disorderly houses, gaming and betting [3760]',\n",
       "       'Offences against the person and reputation (Part VIII Criminal Code) [3770]',\n",
       "       'Offences against rights of property (Part IX Criminal Code) [3780]',\n",
       "       'Fraudulent transactions relating to contracts and trade (Part X Criminal Code) [3790]',\n",
       "       'Wilful and forbidden acts in respect of certain property (Part XI Criminal Code) [3810]',\n",
       "       'Offences relating to currency (Part XII Criminal Code) [3820]',\n",
       "       'Proceeds of crime (Part XII.2 Criminal Code) [3825]',\n",
       "       'Attempts, conspiracies, accessories (Part XIII Criminal Code) [3830]',\n",
       "       'Instruct offence for criminal organization [3840]',\n",
       "       'Commit offence for criminal organization [3841]',\n",
       "       'Participate in activities of criminal organization [3842]',\n",
       "       'Recruitment of members by a criminal organization [3843]',\n",
       "       'All other Criminal Code (includes Part XII.1 Criminal Code) [3890]',\n",
       "       'Total Criminal Code traffic violations [900]',\n",
       "       'Total impaired driving [910]',\n",
       "       'Operation - low blood drug concentration [9205]',\n",
       "       'Operation while impaired causing death (alcohol) [9210]',\n",
       "       'Operation while impaired causing death (alcohol and drugs) [9213]',\n",
       "       'Operation while impaired causing death (drugs) [9215]',\n",
       "       'Operation while impaired causing death (unspecified) [9217]',\n",
       "       'Operation while impaired causing bodily harm (alcohol) [9220]',\n",
       "       'Operation while impaired causing bodily harm (alcohol and drugs) [9223]',\n",
       "       'Operation while impaired causing bodily harm (drugs) [9225]',\n",
       "       'Operation while impaired causing bodily harm (unspecified) [9227]',\n",
       "       'Operation while impaired (alcohol) [9230]',\n",
       "       'Operation while impaired (alcohol and drugs) [9233]',\n",
       "       'Operation while impaired (drugs) [9235]',\n",
       "       'Operation while impaired (unspecified) [9237]',\n",
       "       'Impaired operation, failure to provide breath sample [9240]',\n",
       "       'Failure to comply or refusal (drugs) [9245]',\n",
       "       'Impaired operation, failure to provide blood sample [9250]',\n",
       "       'Failure to provide blood sample (drugs) [9255]',\n",
       "       'Failure or refusal to comply with demand (alcohol) [9260]',\n",
       "       'Failure or refusal to comply with demand (alcohol and drugs) [9263]',\n",
       "       'Failure or refusal to comply with demand (drugs) [9265]',\n",
       "       'Failure or refusal to comply with demand (unspecified) [9267]',\n",
       "       'Failure or refusal to comply with demand, accident resulting in bodily harm (alcohol) [9270]',\n",
       "       'Failure or refusal to comply with demand, accident resulting in bodily harm (alcohol and drugs) [9273]',\n",
       "       'Failure or refusal to comply with demand, accident resulting in bodily harm (drugs) [9275]',\n",
       "       'Failure or refusal to comply with demand, accident resulting in bodily harm (unspecified) [9277]',\n",
       "       'Failure or refusal to comply with demand, accident resulting in death (alcohol) [9280]',\n",
       "       'Failure or refusal to comply with demand, accident resulting in death (alcohol and drugs) [9283]',\n",
       "       'Failure or refusal to comply with demand, accident resulting in death (drugs) [9285]',\n",
       "       'Failure or refusal to comply with demand, accident resulting in death (unspecified) [9287]',\n",
       "       'Total other Criminal Code traffic violations [920]',\n",
       "       'Dangerous operation, causing death [9110]',\n",
       "       'Dangerous operation, causing bodily harm [9120]',\n",
       "       'Dangerous operation of motor vehicle, vessel or aircraft [9130]',\n",
       "       'Dangerous operation evading police, causing death [9131]',\n",
       "       'Dangerous operation evading police, causing bodily harm [9132]',\n",
       "       'Dangerous operation of motor vehicle evading police [9133]',\n",
       "       'Total fail to stop or remain [930]',\n",
       "       'Driving while prohibited [9320]',\n",
       "       'Other Criminal Code traffic violations [9330]',\n",
       "       'Causing death by criminal negligence while street racing [9410]',\n",
       "       'Causing bodily harm by criminal negligence while street racing [9420]',\n",
       "       'Dangerous operation causing death while street racing [9430]',\n",
       "       'Dangerous operation causing bodily harm while street racing [9440]',\n",
       "       'Dangerous operation of motor vehicle while street racing [9450]',\n",
       "       'Total Federal Statute violations [400]',\n",
       "       'Total drug violations [401]',\n",
       "       'Possession, cannabis (pre-legalization) [4140]',\n",
       "       'Possession, cocaine [4120]',\n",
       "       'Total, possession, other Controlled Drugs and Substances Act drugs [410]',\n",
       "       'Heroin, possession [4110]',\n",
       "       'Other Controlled Drugs and Substances Act, possession [4130]',\n",
       "       'Methamphetamines (crystal meth), possession [4150]',\n",
       "       'Methylenedioxyamphetamine (ecstasy), possession [4160]',\n",
       "       'Opioid (other than heroin), possession [4170]',\n",
       "       'Total cannabis, trafficking, production or distribution (pre-legalization) [420]',\n",
       "       'Cannabis, trafficking (pre-legalization) [4240]',\n",
       "       'Cannabis, importation and exportation (pre-legalization) [4340]',\n",
       "       'Cannabis, production (pre-legalization) [4440]',\n",
       "       'Total cocaine, trafficking, production or distribution [430]',\n",
       "       'Cocaine, trafficking [4220]',\n",
       "       'Cocaine, importation and exportation [4320]',\n",
       "       'Cocaine, production [4420]',\n",
       "       'Total other Controlled Drugs and Substances Act drugs, trafficking, production or distribution [440]',\n",
       "       'Heroin, trafficking [4210]',\n",
       "       'Other Controlled Drugs and Substances Act, trafficking [4230]',\n",
       "       'Methamphetamines (crystal meth), trafficking [4250]',\n",
       "       'Methylenedioxyamphetamine (ecstasy), trafficking [4260]',\n",
       "       'Opioid (other than heroin), trafficking [4270]',\n",
       "       'Heroin, importation and exportation [4310]',\n",
       "       'Other Controlled Drugs and Substances Act, importation and exportation [4330]',\n",
       "       'Methamphetamines (crystal meth), importation and exportation [4350]',\n",
       "       'Methylenedioxyamphetamine (ecstasy), importation and exportation [4360]',\n",
       "       'Opioid (other than heroin), importation and exportation [4370]',\n",
       "       'Heroin, production [4410]',\n",
       "       'Other Controlled Drugs and Substances Act, production [4430]',\n",
       "       'Methamphetamines (crystal meth), production [4450]',\n",
       "       'Methylenedioxyamphetamine (ecstasy), production [4460]',\n",
       "       'Opioid (other than heroin), production [4470]',\n",
       "       'Possession, sale, etc., for use in production of or trafficking in substance [4590]',\n",
       "       'Total Cannabis Act [450]',\n",
       "       'Total possession - Cannabis Act [451]',\n",
       "       'Possession of illicit or over 30g dried cannabis (or equivalent) by adult [4911]',\n",
       "       'Possession of over 5g dried cannabis (or equivalent) by youth [4912]',\n",
       "       'Possession of budding or flowering plants, or more than four cannabis plants [4913]',\n",
       "       'Possession of cannabis by organization [4914]',\n",
       "       'Total distribution - Cannabis Act [452]',\n",
       "       'Distribution to an organization, illicit or over 30g dried cannabis (or equivalent) by adult [4921]',\n",
       "       'Distribution of cannabis to youth by adult [4922]',\n",
       "       'Distribution to an organization or over 5g dried cannabis (or equivalent) by youth [4923]',\n",
       "       'Distribution of budding or flowering plants, or more than four cannabis plants [4924]',\n",
       "       'Distribution of cannabis by organization [4925]',\n",
       "       'Possession of cannabis for purpose of distributing [4926]',\n",
       "       'Total sale - Cannabis Act [453]',\n",
       "       'Sale of cannabis to adult [4931]',\n",
       "       'Sale of cannabis to youth [4932]',\n",
       "       'Sale of cannabis to an organization [4933]',\n",
       "       'Possession of cannabis for purpose of selling [4934]',\n",
       "       'Total importation and exportation - Cannabis Act [454]',\n",
       "       'Importation and exportation of cannabis [4941]',\n",
       "       'Possession of cannabis for purpose of exportation [4942]',\n",
       "       'Total production - Cannabis Act [455]',\n",
       "       'Obtain, offer to obtain, alter or offer to alter cannabis [4951]',\n",
       "       'Cultivate, propagate or harvest cannabis by adult [4952]',\n",
       "       'Cultivate, propagate or harvest cannabis by youth or organization [4953]',\n",
       "       'Possess, produce, sell, distribute or import anything for use in production or distribution of illicit cannabis [4961]',\n",
       "       'Use of young person in the commission of a cannabis offence [4971]',\n",
       "       'Other Cannabis Act [4981]', 'Youth Criminal Justice Act [6450]',\n",
       "       'Total other Federal Statutes [610]', 'Bankruptcy Act [6100]',\n",
       "       'Income Tax Act [6150]', 'Canada Shipping Act [6200]',\n",
       "       'Canada Health Act [6250]', 'Customs Act [6300]',\n",
       "       'Competition Act [6350]', 'Excise Act [6400]',\n",
       "       'Total Immigration and Refugee Protection Act [620]',\n",
       "       'Firearms Act [6550]', 'National Defence Act [6560]',\n",
       "       'Quarantine Act [6600]', 'Other federal statutes [6900]',\n",
       "       'Parent or guardian procuring sexual activity: person procured under the age of 16 years [3165]',\n",
       "       'Householder permitting illegal sexual activity: person under the age of 16 years [3167]',\n",
       "       'Total violations related to animal cruelty [335]',\n",
       "       'Other offences against the person and reputation [3772]',\n",
       "       'Wilful and forbidden acts in respect of certain material property [3811]'],\n",
       "      dtype=object)"
      ]
     },
     "execution_count": 163,
     "metadata": {},
     "output_type": "execute_result"
    }
   ],
   "source": [
    "#Checking unique values for \"Violations\" column\n",
    "Crime_Statistics['Violations'].unique()"
   ]
  },
  {
   "cell_type": "markdown",
   "metadata": {},
   "source": [
    "The column \"Violations\" represent different types of criminal violations or offenses, ranging from broad categories like \"Total, all violations\" to specific offenses such as \"Murder, first degree\" or \"Sexual assault, level 3, aggravated."
   ]
  },
  {
   "cell_type": "markdown",
   "metadata": {},
   "source": [
    "### Column #5: Statistics"
   ]
  },
  {
   "cell_type": "code",
   "execution_count": 164,
   "metadata": {},
   "outputs": [
    {
     "data": {
      "text/plain": [
       "array(['Actual incidents', 'Rate per 100,000 population',\n",
       "       'Percentage change in rate',\n",
       "       'Percentage contribution to the Crime Severity Index (CSI)',\n",
       "       'Unfounded incidents', 'Percent unfounded', 'Total cleared',\n",
       "       'Cleared by charge', 'Cleared otherwise', 'Total, persons charged',\n",
       "       'Rate, total persons charged per 100,000 population aged 12 years and over',\n",
       "       'Total, adult charged',\n",
       "       'Rate, adult charged per 100,000 population aged 18 years and over',\n",
       "       'Total, youth charged',\n",
       "       'Rate, youth charged per 100,000 population aged 12 to 17 years',\n",
       "       'Total, youth not charged',\n",
       "       'Rate, youth not charged per 100,000 population aged 12 to 17 years'],\n",
       "      dtype=object)"
      ]
     },
     "execution_count": 164,
     "metadata": {},
     "output_type": "execute_result"
    }
   ],
   "source": [
    "#Checking unique values for \"Statistics\" column\n",
    "Crime_Statistics['Statistics'].unique()"
   ]
  },
  {
   "cell_type": "markdown",
   "metadata": {},
   "source": [
    "The column \"Statistics\" represent various measures related to crime data, focusing on rates, percentages, and charges.\n",
    "- Incidents: Measures of actual incidents of crime, such as \"Actual incidents\" and \"Unfounded incidents\".\n",
    "- Rate per Population: Crime rates calculated per 100,000 population, such as \"Rate per 100,000 population\" and various rates for adults and youth.\n",
    "- Percentage Change: Changes in crime rate over time, such as \"Percentage change in rate\".\n",
    "- Crime Clearance: Information on how crimes are cleared, such as \"Total cleared,\" \"Cleared by charge,\" and \"Cleared otherwise\".\n",
    "- Persons Charged: Metrics related to individuals charged with crimes, including \"Total, persons charged\" and rates for adults and youth."
   ]
  },
  {
   "cell_type": "markdown",
   "metadata": {},
   "source": [
    "### Column #6: UOM"
   ]
  },
  {
   "cell_type": "code",
   "execution_count": 165,
   "metadata": {},
   "outputs": [
    {
     "data": {
      "text/plain": [
       "array(['Number', 'Rate', 'Percent'], dtype=object)"
      ]
     },
     "execution_count": 165,
     "metadata": {},
     "output_type": "execute_result"
    }
   ],
   "source": [
    "#Checking unique values for \"UOM\" column\n",
    "Crime_Statistics['UOM'].unique()"
   ]
  },
  {
   "cell_type": "markdown",
   "metadata": {},
   "source": [
    "The column \"UOM\" suggest the dataset includes different types of measurements for crime statistics.\n",
    "- Number likely represents the total count of incidents or crimes, such as total number of homicides, assaults, or other crime types.\n",
    "- Rate likely represents a rate per 100,000 population or another demographic group (such as adults or youth). It could refer to how frequently a crime occurs in relation to the population size.\n",
    "- Percent could refer to percentage values, showing the percentage change in crime rates over time or the percentage contribution of a particular crime type to the total Crime Severity Index (CSI)."
   ]
  },
  {
   "cell_type": "markdown",
   "metadata": {},
   "source": [
    "### Column #7: UOM_ID"
   ]
  },
  {
   "cell_type": "code",
   "execution_count": 166,
   "metadata": {},
   "outputs": [
    {
     "data": {
      "text/plain": [
       "array([223, 257, 239], dtype=int64)"
      ]
     },
     "execution_count": 166,
     "metadata": {},
     "output_type": "execute_result"
    }
   ],
   "source": [
    "#Checking unique values for \"UOM_ID\" column\n",
    "Crime_Statistics['UOM_ID'].unique()"
   ]
  },
  {
   "cell_type": "markdown",
   "metadata": {},
   "source": [
    "The column \"UOM_ID\" represent identifier or code that correspond to different units of measurement (UOM) used in the dataset."
   ]
  },
  {
   "cell_type": "code",
   "execution_count": 167,
   "metadata": {},
   "outputs": [
    {
     "name": "stdout",
     "output_type": "stream",
     "text": [
      "[223]\n",
      "[257]\n",
      "[239]\n"
     ]
    }
   ],
   "source": [
    "#Verifying the relationship between the values in the \"UOM\" column and \"UOM_ID\" column\n",
    "print(Crime_Statistics[Crime_Statistics['UOM'] == 'Number']['UOM_ID'].unique())  # Check if it maps to 223\n",
    "print(Crime_Statistics[Crime_Statistics['UOM'] == 'Rate']['UOM_ID'].unique())  # Check if it maps to 257\n",
    "print(Crime_Statistics[Crime_Statistics['UOM'] == 'Percent']['UOM_ID'].unique())  # Check if it maps to 239"
   ]
  },
  {
   "cell_type": "markdown",
   "metadata": {},
   "source": [
    "The output confirms that:\n",
    "\n",
    "\"Number\" in the UOM column corresponds to 223 in the UOM_ID column.\n",
    "\"Rate\" in the UOM column corresponds to 257 in the UOM_ID column.\n",
    "\"Percent\" in the UOM column corresponds to 239 in the UOM_ID column.\n",
    "\n",
    "Both the columns \"UOM\" and \"UOM_ID\" are mapping the same concepts, so proceeding further to drop the column."
   ]
  },
  {
   "cell_type": "code",
   "execution_count": 168,
   "metadata": {},
   "outputs": [],
   "source": [
    "#Removing the column \"UOM_ID\"\n",
    "Crime_Statistics.drop(columns=['UOM_ID'], inplace=True)"
   ]
  },
  {
   "cell_type": "markdown",
   "metadata": {},
   "source": [
    "### Column #8: SCALAR_FACTOR"
   ]
  },
  {
   "cell_type": "code",
   "execution_count": 169,
   "metadata": {},
   "outputs": [
    {
     "data": {
      "text/plain": [
       "array(['units'], dtype=object)"
      ]
     },
     "execution_count": 169,
     "metadata": {},
     "output_type": "execute_result"
    }
   ],
   "source": [
    "#Checking unique values for \"SCALAR_FACTOR\" column\n",
    "Crime_Statistics['SCALAR_FACTOR'].unique()"
   ]
  },
  {
   "cell_type": "markdown",
   "metadata": {},
   "source": [
    "The column \"SCALAR_FACTOR\" might indicate that the column represents measurements in units.\n",
    "\n",
    "This column does not provide any additional information and does not add the value to the dataset, so it's best to drop the column."
   ]
  },
  {
   "cell_type": "code",
   "execution_count": 170,
   "metadata": {},
   "outputs": [],
   "source": [
    "#Removing the column \"SCALAR_FACTOR\"\n",
    "Crime_Statistics.drop(columns=['SCALAR_FACTOR'], inplace=True)"
   ]
  },
  {
   "cell_type": "markdown",
   "metadata": {},
   "source": [
    "### Column #9: SCALAR_ID"
   ]
  },
  {
   "cell_type": "code",
   "execution_count": 171,
   "metadata": {},
   "outputs": [
    {
     "data": {
      "text/plain": [
       "array([0], dtype=int64)"
      ]
     },
     "execution_count": 171,
     "metadata": {},
     "output_type": "execute_result"
    }
   ],
   "source": [
    "#Checking unique values for \"SCALAR_ID\" column\n",
    "Crime_Statistics['SCALAR_ID'].unique()"
   ]
  },
  {
   "cell_type": "markdown",
   "metadata": {},
   "source": [
    "The column \"SCALAR_ID\" might be an identifier or code that corresponds to a ype of measurement or factor that applies universally (\"units\").\n",
    "\n",
    "This column does not provide any additional information and does not add the value to the dataset, so it's best to drop the column."
   ]
  },
  {
   "cell_type": "code",
   "execution_count": 172,
   "metadata": {},
   "outputs": [],
   "source": [
    "#Removing the column \"SCALAR_ID\"\n",
    "Crime_Statistics.drop(columns=['SCALAR_ID'], inplace=True)"
   ]
  },
  {
   "cell_type": "markdown",
   "metadata": {},
   "source": [
    "### Column #10: VECTOR"
   ]
  },
  {
   "cell_type": "code",
   "execution_count": 173,
   "metadata": {},
   "outputs": [
    {
     "data": {
      "text/plain": [
       "array(['v44348247', 'v44396346', 'v44391402', ..., 'v1564070709',\n",
       "       'v1564070710', 'v1564070711'], dtype=object)"
      ]
     },
     "execution_count": 173,
     "metadata": {},
     "output_type": "execute_result"
    }
   ],
   "source": [
    "#Checking unique values for \"VECTOR\" column\n",
    "Crime_Statistics['VECTOR'].unique()"
   ]
  },
  {
   "cell_type": "markdown",
   "metadata": {},
   "source": [
    "The column \"VECTOR\" likely is the identifiers for specific events, categories, or data points. These IDs could be useful for tracking or linking specific data points to detailed records. It may also indicate different categories or events related to crime data, each with its own unique identifier."
   ]
  },
  {
   "cell_type": "markdown",
   "metadata": {},
   "source": [
    "### Column #11: COORDINATE"
   ]
  },
  {
   "cell_type": "code",
   "execution_count": 174,
   "metadata": {},
   "outputs": [
    {
     "data": {
      "text/plain": [
       "array(['1.1.1', '1.1.2', '1.1.3', ..., '51.321.12', '51.321.13',\n",
       "       '51.321.14'], dtype=object)"
      ]
     },
     "execution_count": 174,
     "metadata": {},
     "output_type": "execute_result"
    }
   ],
   "source": [
    "#Checking unique values for \"COORDINATE\" column\n",
    "Crime_Statistics['COORDINATE'].unique()"
   ]
  },
  {
   "cell_type": "markdown",
   "metadata": {},
   "source": [
    "The \"Coordinates\" column appears to contain values like '1.1.1', '1.1.2', and '51.321.12', which seem to follow a structured format. These could be geographic coordinates or hierarchical codes that represent specific locations or areas where crimes occurred.\n",
    "\n",
    "- Hierarchical Code: The format 'x.x.x' could indicate a hierarchical or categorized system, for instance, it could represent regions or zones in a geographic area.\n",
    "- Geographic Coordinates: These could also represent specific locations, though typically, geographic coordinates would use latitude and longitude (45.4215, -75.6972), so this format seems less likely to be direct GPS coordinates."
   ]
  },
  {
   "cell_type": "markdown",
   "metadata": {},
   "source": [
    "### Column #12: VALUE"
   ]
  },
  {
   "cell_type": "code",
   "execution_count": 175,
   "metadata": {},
   "outputs": [
    {
     "data": {
      "text/plain": [
       "array([ 2.608741e+06,  8.090320e+03, -3.590000e+00, ...,  5.111600e+02,\n",
       "        1.494850e+03,  2.360300e+02])"
      ]
     },
     "execution_count": 175,
     "metadata": {},
     "output_type": "execute_result"
    }
   ],
   "source": [
    "#Checking unique values for \"VALUE\" column\n",
    "Crime_Statistics['VALUE'].unique()"
   ]
  },
  {
   "cell_type": "markdown",
   "metadata": {},
   "source": [
    "The column \"VALUE\" contains a range of numerical data, including very large values (such as 2.68854e+06), smaller values (such as 8.91512e+03), and NaN (missing values).\n",
    "- Large Values are likely counts, totals, or other aggregated values. The scientific notation (e+06) represents values in the millions.\n",
    "- Smaller Values might represent smaller counts or different units of measurement.\n",
    "- NaN (Not a Number)represents missing or unavailable data for some records."
   ]
  },
  {
   "cell_type": "markdown",
   "metadata": {},
   "source": [
    "### Column #13: STATUS"
   ]
  },
  {
   "cell_type": "code",
   "execution_count": 176,
   "metadata": {},
   "outputs": [
    {
     "data": {
      "text/plain": [
       "array([nan, '..', '0s'], dtype=object)"
      ]
     },
     "execution_count": 176,
     "metadata": {},
     "output_type": "execute_result"
    }
   ],
   "source": [
    "#Checking unique values for \"STATUS\" column\n",
    "Crime_Statistics['STATUS'].unique()"
   ]
  },
  {
   "cell_type": "markdown",
   "metadata": {},
   "source": [
    "The \"STATUS\" column contains the following types of values:\n",
    "\n",
    "NaN: Represents missing or undefined data, or indicates that no status was recorded for the entry.\n",
    "'..': Used to represent suppressed data, typically for populations below 1,000 or data that cannot be disclosed due to privacy or reliability concerns.\n",
    "'0s': Represents very small values (e.g., near zero but not exactly zero), often used for occurrences too insignificant to report numerically.\n",
    "For now, it is best to retain this column as is, as it may be needed when handling missing data."
   ]
  },
  {
   "cell_type": "markdown",
   "metadata": {},
   "source": [
    "### Column #14: SYMBOL"
   ]
  },
  {
   "cell_type": "code",
   "execution_count": 177,
   "metadata": {},
   "outputs": [
    {
     "data": {
      "text/plain": [
       "array([nan])"
      ]
     },
     "execution_count": 177,
     "metadata": {},
     "output_type": "execute_result"
    }
   ],
   "source": [
    "#Checking unique values for \"SYMBOL\" column\n",
    "Crime_Statistics['SYMBOL'].unique()"
   ]
  },
  {
   "cell_type": "markdown",
   "metadata": {},
   "source": [
    "The column \"SYMBOL\" has no data, so dropping the column is the best option."
   ]
  },
  {
   "cell_type": "code",
   "execution_count": 178,
   "metadata": {},
   "outputs": [],
   "source": [
    "#Removing the column \"SCALAR_ID\"\n",
    "Crime_Statistics.drop(columns=['SYMBOL'], inplace=True)"
   ]
  },
  {
   "cell_type": "markdown",
   "metadata": {},
   "source": [
    "### Column #15: TERMINATED"
   ]
  },
  {
   "cell_type": "code",
   "execution_count": 179,
   "metadata": {},
   "outputs": [
    {
     "data": {
      "text/plain": [
       "array([nan, 't'], dtype=object)"
      ]
     },
     "execution_count": 179,
     "metadata": {},
     "output_type": "execute_result"
    }
   ],
   "source": [
    "#Checking unique values for \"TERMINATED\" column\n",
    "Crime_Statistics['TERMINATED'].unique()"
   ]
  },
  {
   "cell_type": "markdown",
   "metadata": {},
   "source": [
    "The column \"TERMINATED\" contains either missing value or \"t\" which likely stands for \"termination\" of some case, contract, or event. Missing value could possibly represent \"non-termination of some case, contract or event\".\n",
    "\n",
    "This information could possibly provide important information in the analysis. Filling missing value with \"No\" and renaming \"t\" to \"Yes\" would be best approach for now.\n",
    "\n"
   ]
  },
  {
   "cell_type": "code",
   "execution_count": 180,
   "metadata": {},
   "outputs": [],
   "source": [
    "#Filling missing value with \"Not Terminated\"\n",
    "Crime_Statistics['TERMINATED'] = Crime_Statistics['TERMINATED'].fillna('No')"
   ]
  },
  {
   "cell_type": "code",
   "execution_count": 181,
   "metadata": {},
   "outputs": [],
   "source": [
    "#Standardizing 't' to a more descriptive label as \"Terminated\"\n",
    "Crime_Statistics['TERMINATED'] = Crime_Statistics['TERMINATED'].replace('t', 'Yes')"
   ]
  },
  {
   "cell_type": "markdown",
   "metadata": {},
   "source": [
    "### Column #16: DECIMALS"
   ]
  },
  {
   "cell_type": "code",
   "execution_count": 182,
   "metadata": {},
   "outputs": [
    {
     "data": {
      "text/plain": [
       "array([0, 2], dtype=int64)"
      ]
     },
     "execution_count": 182,
     "metadata": {},
     "output_type": "execute_result"
    }
   ],
   "source": [
    "#Checking unique values for \"DECIMALS\" column\n",
    "Crime_Statistics['DECIMALS'].unique()"
   ]
  },
  {
   "cell_type": "markdown",
   "metadata": {},
   "source": [
    "The column \"DECIMALS\" represent number of decimal places used in the numerical data in another column. \n",
    "- 0: Numbers are presented as whole numbers.\n",
    "- 2: Numbers are presented with two decimal places. \n",
    "\n",
    "This data is merely metadata and does not contribute much to the analysis, so dropping it would be the option.\n"
   ]
  },
  {
   "cell_type": "code",
   "execution_count": 183,
   "metadata": {},
   "outputs": [],
   "source": [
    "#Removing the column \"DECIMALS\"\n",
    "Crime_Statistics.drop(columns=['DECIMALS'], inplace=True)"
   ]
  },
  {
   "cell_type": "markdown",
   "metadata": {},
   "source": [
    "## 5. Validate the dataset after the modification"
   ]
  },
  {
   "cell_type": "code",
   "execution_count": 184,
   "metadata": {},
   "outputs": [
    {
     "data": {
      "text/html": [
       "<div>\n",
       "<style scoped>\n",
       "    .dataframe tbody tr th:only-of-type {\n",
       "        vertical-align: middle;\n",
       "    }\n",
       "\n",
       "    .dataframe tbody tr th {\n",
       "        vertical-align: top;\n",
       "    }\n",
       "\n",
       "    .dataframe thead th {\n",
       "        text-align: right;\n",
       "    }\n",
       "</style>\n",
       "<table border=\"1\" class=\"dataframe\">\n",
       "  <thead>\n",
       "    <tr style=\"text-align: right;\">\n",
       "      <th></th>\n",
       "      <th>Year</th>\n",
       "      <th>GEO</th>\n",
       "      <th>Violations</th>\n",
       "      <th>Statistics</th>\n",
       "      <th>UOM</th>\n",
       "      <th>VECTOR</th>\n",
       "      <th>COORDINATE</th>\n",
       "      <th>VALUE</th>\n",
       "      <th>STATUS</th>\n",
       "      <th>TERMINATED</th>\n",
       "    </tr>\n",
       "  </thead>\n",
       "  <tbody>\n",
       "    <tr>\n",
       "      <th>1875321</th>\n",
       "      <td>2005</td>\n",
       "      <td>Canada</td>\n",
       "      <td>Total, all violations [0]</td>\n",
       "      <td>Actual incidents</td>\n",
       "      <td>Number</td>\n",
       "      <td>v44348247</td>\n",
       "      <td>1.1.1</td>\n",
       "      <td>2608741.00</td>\n",
       "      <td>NaN</td>\n",
       "      <td>No</td>\n",
       "    </tr>\n",
       "    <tr>\n",
       "      <th>1875322</th>\n",
       "      <td>2005</td>\n",
       "      <td>Canada</td>\n",
       "      <td>Total, all violations [0]</td>\n",
       "      <td>Rate per 100,000 population</td>\n",
       "      <td>Rate</td>\n",
       "      <td>v44396346</td>\n",
       "      <td>1.1.2</td>\n",
       "      <td>8090.32</td>\n",
       "      <td>NaN</td>\n",
       "      <td>No</td>\n",
       "    </tr>\n",
       "    <tr>\n",
       "      <th>1875323</th>\n",
       "      <td>2005</td>\n",
       "      <td>Canada</td>\n",
       "      <td>Total, all violations [0]</td>\n",
       "      <td>Percentage change in rate</td>\n",
       "      <td>Percent</td>\n",
       "      <td>v44391402</td>\n",
       "      <td>1.1.3</td>\n",
       "      <td>-3.59</td>\n",
       "      <td>NaN</td>\n",
       "      <td>No</td>\n",
       "    </tr>\n",
       "    <tr>\n",
       "      <th>1875324</th>\n",
       "      <td>2005</td>\n",
       "      <td>Canada</td>\n",
       "      <td>Total, all violations [0]</td>\n",
       "      <td>Percentage contribution to the Crime Severity ...</td>\n",
       "      <td>Percent</td>\n",
       "      <td>v1545644596</td>\n",
       "      <td>1.1.17</td>\n",
       "      <td>100.00</td>\n",
       "      <td>NaN</td>\n",
       "      <td>No</td>\n",
       "    </tr>\n",
       "    <tr>\n",
       "      <th>1875325</th>\n",
       "      <td>2005</td>\n",
       "      <td>Canada</td>\n",
       "      <td>Total, all violations [0]</td>\n",
       "      <td>Unfounded incidents</td>\n",
       "      <td>Number</td>\n",
       "      <td>v1000149311</td>\n",
       "      <td>1.1.15</td>\n",
       "      <td>NaN</td>\n",
       "      <td>..</td>\n",
       "      <td>No</td>\n",
       "    </tr>\n",
       "  </tbody>\n",
       "</table>\n",
       "</div>"
      ],
      "text/plain": [
       "         Year     GEO                 Violations  \\\n",
       "1875321  2005  Canada  Total, all violations [0]   \n",
       "1875322  2005  Canada  Total, all violations [0]   \n",
       "1875323  2005  Canada  Total, all violations [0]   \n",
       "1875324  2005  Canada  Total, all violations [0]   \n",
       "1875325  2005  Canada  Total, all violations [0]   \n",
       "\n",
       "                                                Statistics      UOM  \\\n",
       "1875321                                   Actual incidents   Number   \n",
       "1875322                        Rate per 100,000 population     Rate   \n",
       "1875323                          Percentage change in rate  Percent   \n",
       "1875324  Percentage contribution to the Crime Severity ...  Percent   \n",
       "1875325                                Unfounded incidents   Number   \n",
       "\n",
       "              VECTOR COORDINATE       VALUE STATUS TERMINATED  \n",
       "1875321    v44348247      1.1.1  2608741.00    NaN         No  \n",
       "1875322    v44396346      1.1.2     8090.32    NaN         No  \n",
       "1875323    v44391402      1.1.3       -3.59    NaN         No  \n",
       "1875324  v1545644596     1.1.17      100.00    NaN         No  \n",
       "1875325  v1000149311     1.1.15         NaN     ..         No  "
      ]
     },
     "execution_count": 184,
     "metadata": {},
     "output_type": "execute_result"
    }
   ],
   "source": [
    "#Displaying the first five rows after the modification\n",
    "Crime_Statistics.head(5)"
   ]
  },
  {
   "cell_type": "code",
   "execution_count": 185,
   "metadata": {},
   "outputs": [
    {
     "data": {
      "text/plain": [
       "(5369589, 10)"
      ]
     },
     "execution_count": 185,
     "metadata": {},
     "output_type": "execute_result"
    }
   ],
   "source": [
    "#Checking the shape of the dataset after the modification\n",
    "Crime_Statistics.shape"
   ]
  },
  {
   "cell_type": "markdown",
   "metadata": {},
   "source": [
    "The new dataset after the modification contains the same number of rows, but the number of columns has been reduced from 16 to 9."
   ]
  },
  {
   "cell_type": "code",
   "execution_count": 186,
   "metadata": {},
   "outputs": [
    {
     "data": {
      "text/plain": [
       "Index(['Year', 'GEO', 'Violations', 'Statistics', 'UOM', 'VECTOR',\n",
       "       'COORDINATE', 'VALUE', 'STATUS', 'TERMINATED'],\n",
       "      dtype='object')"
      ]
     },
     "execution_count": 186,
     "metadata": {},
     "output_type": "execute_result"
    }
   ],
   "source": [
    "#Checking the columns of the dataset after the modification\n",
    "Crime_Statistics.columns"
   ]
  },
  {
   "cell_type": "markdown",
   "metadata": {},
   "source": [
    "The dataset contains the following columns: Year', 'GEO', 'Violations', 'Statistics', 'UOM', 'VECTOR', 'COORDINATE', 'VALUE', and 'TERMINATED'."
   ]
  },
  {
   "cell_type": "markdown",
   "metadata": {},
   "source": [
    "## 6. Check for Missing Values"
   ]
  },
  {
   "cell_type": "code",
   "execution_count": 187,
   "metadata": {},
   "outputs": [
    {
     "name": "stdout",
     "output_type": "stream",
     "text": [
      "Year                0\n",
      "GEO                 0\n",
      "Violations          0\n",
      "Statistics          0\n",
      "UOM                 0\n",
      "VECTOR              0\n",
      "COORDINATE          0\n",
      "VALUE         1648820\n",
      "STATUS        3720769\n",
      "TERMINATED          0\n",
      "dtype: int64\n"
     ]
    }
   ],
   "source": [
    "#Checking for missing values\n",
    "print(Crime_Statistics.isnull().sum())\n"
   ]
  },
  {
   "cell_type": "markdown",
   "metadata": {},
   "source": [
    "The columns \"VALUE\" has 1648820 missing values. If we drop those rows we will loose a substantial portion of the dataset.\n",
    "\n",
    "Depending on the nature of data, we should impute these missing values."
   ]
  },
  {
   "cell_type": "code",
   "execution_count": 188,
   "metadata": {},
   "outputs": [
    {
     "data": {
      "text/plain": [
       "array(['Unfounded incidents', 'Percent unfounded',\n",
       "       'Percentage change in rate',\n",
       "       'Percentage contribution to the Crime Severity Index (CSI)',\n",
       "       'Rate, total persons charged per 100,000 population aged 12 years and over',\n",
       "       'Rate, adult charged per 100,000 population aged 18 years and over',\n",
       "       'Actual incidents', 'Rate per 100,000 population', 'Total cleared',\n",
       "       'Cleared by charge', 'Cleared otherwise', 'Total, persons charged',\n",
       "       'Total, adult charged', 'Total, youth charged',\n",
       "       'Rate, youth charged per 100,000 population aged 12 to 17 years',\n",
       "       'Total, youth not charged',\n",
       "       'Rate, youth not charged per 100,000 population aged 12 to 17 years'],\n",
       "      dtype=object)"
      ]
     },
     "execution_count": 188,
     "metadata": {},
     "output_type": "execute_result"
    }
   ],
   "source": [
    "#Filtering rows where 'VALUE' is missing\n",
    "MissingValues = Crime_Statistics[Crime_Statistics['VALUE'].isna()]\n",
    "\n",
    "#Checking the unique values in the 'Statistics' column for missing 'VALUE'\n",
    "MissingValues['Statistics'].unique()"
   ]
  },
  {
   "cell_type": "code",
   "execution_count": 189,
   "metadata": {},
   "outputs": [
    {
     "name": "stdout",
     "output_type": "stream",
     "text": [
      "STATUS\n",
      "NaN    3720769\n",
      "..     1632698\n",
      "0s       16122\n",
      "Name: count, dtype: int64\n"
     ]
    }
   ],
   "source": [
    "#Counting the occurrences of missing values ('NaN', '..', and '0s') in the STATUS column\n",
    "MissingValuesCount = Crime_Statistics['STATUS'].value_counts(dropna=False)\n",
    "\n",
    "#Displaying the count of each status\n",
    "print(MissingValuesCount)"
   ]
  },
  {
   "cell_type": "code",
   "execution_count": null,
   "metadata": {},
   "outputs": [
    {
     "name": "stdout",
     "output_type": "stream",
     "text": [
      "STATUS                                                  ..     0s     NaN\n",
      "Statistics                                                               \n",
      "Actual incidents                                     68473      0  247436\n",
      "Cleared by charge                                    68473      0  247436\n",
      "Cleared otherwise                                    68473      0  247436\n",
      "Percent unfounded                                   250429      0   65192\n",
      "Percentage change in rate                           214094      6  101809\n",
      "Percentage contribution to the Crime Severity I...   68185  15651  231785\n",
      "Rate per 100,000 population                          69715    140  246054\n",
      "Rate, adult charged per 100,000 population aged...   69715    166  246028\n",
      "Rate, total persons charged per 100,000 populat...   69715    159  246035\n",
      "Rate, youth charged per 100,000 population aged...   69715      0  246194\n",
      "Rate, youth not charged per 100,000 population ...   69715      0  246194\n",
      "Total cleared                                        68473      0  247436\n",
      "Total, adult charged                                 68473      0  247436\n",
      "Total, persons charged                               68473      0  247436\n",
      "Total, youth charged                                 68473      0  247436\n",
      "Total, youth not charged                             68473      0  247436\n",
      "Unfounded incidents                                 203631      0  111990\n"
     ]
    }
   ],
   "source": [
    "#Grouping by 'Statistics' and count occurrences of each status (NaN, '..', 0s)\n",
    "StatusCountbyStatistics = Crime_Statistics.groupby('Statistics')['STATUS'].value_counts(dropna=False).unstack(fill_value=0)\n",
    "\n",
    "#Displaying the status counts for each statistic\n",
    "print(StatusCountbyStatistics)"
   ]
  },
  {
   "cell_type": "markdown",
   "metadata": {},
   "source": [
    "## 7. Handle Missing Values"
   ]
  },
  {
   "cell_type": "markdown",
   "metadata": {},
   "source": [
    "The best approach to filling missing values for 'Unfounded incidents' and 'Percent unfounded' is with 0 since these represent crimes that were reported but later determined to have not occurred or were baseless. Filling them with 0 aligns with the idea that no incidents were \"unfounded\" for those cases where data is missing."
   ]
  },
  {
   "cell_type": "code",
   "execution_count": 190,
   "metadata": {},
   "outputs": [],
   "source": [
    "# Filling missing values for 'Unfounded incidents' and 'Percent unfounded' with 0\n",
    "# Crime_Statistics.loc[\n",
    "#     (Crime_Statistics['Statistics'] == 'Unfounded incidents') & \n",
    "#     (Crime_Statistics['VALUE'].isna()), 'VALUE'\n",
    "# ] = 0\n",
    "\n",
    "# Crime_Statistics.loc[\n",
    "#     (Crime_Statistics['Statistics'] == 'Percent unfounded') & \n",
    "#     (Crime_Statistics['VALUE'].isna()), 'VALUE'\n",
    "# ] = 0"
   ]
  },
  {
   "cell_type": "code",
   "execution_count": 191,
   "metadata": {},
   "outputs": [
    {
     "name": "stdout",
     "output_type": "stream",
     "text": [
      "Year                0\n",
      "GEO                 0\n",
      "Violations          0\n",
      "Statistics          0\n",
      "UOM                 0\n",
      "VECTOR              0\n",
      "COORDINATE          0\n",
      "VALUE         1648820\n",
      "STATUS        3720769\n",
      "TERMINATED          0\n",
      "dtype: int64\n"
     ]
    }
   ],
   "source": [
    "#Checking for missing values\n",
    "print(Crime_Statistics.isnull().sum())"
   ]
  },
  {
   "cell_type": "code",
   "execution_count": 192,
   "metadata": {},
   "outputs": [
    {
     "name": "stdout",
     "output_type": "stream",
     "text": [
      "Year                0\n",
      "GEO                 0\n",
      "Violations          0\n",
      "Statistics          0\n",
      "UOM                 0\n",
      "VECTOR              0\n",
      "COORDINATE          0\n",
      "VALUE         1648820\n",
      "STATUS        3720769\n",
      "TERMINATED          0\n",
      "dtype: int64\n"
     ]
    }
   ],
   "source": [
    "#Checking for missing values after the modifications\n",
    "print(Crime_Statistics.isnull().sum())"
   ]
  },
  {
   "cell_type": "markdown",
   "metadata": {},
   "source": [
    "The missing value has been handled for now."
   ]
  },
  {
   "cell_type": "markdown",
   "metadata": {},
   "source": [
    "## 8. Check for Duplicates"
   ]
  },
  {
   "cell_type": "code",
   "execution_count": 193,
   "metadata": {},
   "outputs": [
    {
     "name": "stdout",
     "output_type": "stream",
     "text": [
      "Duplicates: 0\n"
     ]
    }
   ],
   "source": [
    "#Checking for duplicates\n",
    "print(f\"Duplicates: {Crime_Statistics.duplicated().sum()}\")"
   ]
  },
  {
   "cell_type": "markdown",
   "metadata": {},
   "source": [
    "There is no duplicates in the dataset."
   ]
  },
  {
   "cell_type": "markdown",
   "metadata": {},
   "source": [
    "## 9. Check for Inconsistent Data Types"
   ]
  },
  {
   "cell_type": "code",
   "execution_count": 194,
   "metadata": {},
   "outputs": [
    {
     "name": "stdout",
     "output_type": "stream",
     "text": [
      "Year            int64\n",
      "GEO            object\n",
      "Violations     object\n",
      "Statistics     object\n",
      "UOM            object\n",
      "VECTOR         object\n",
      "COORDINATE     object\n",
      "VALUE         float64\n",
      "STATUS         object\n",
      "TERMINATED     object\n",
      "dtype: object\n"
     ]
    }
   ],
   "source": [
    "#Checking the data types of all columns\n",
    "print(Crime_Statistics.dtypes)"
   ]
  },
  {
   "cell_type": "markdown",
   "metadata": {},
   "source": [
    "All the data types for each columns makes sense. Looks great."
   ]
  },
  {
   "cell_type": "markdown",
   "metadata": {},
   "source": [
    "## 10. Handling Outliers if any"
   ]
  }
 ],
 "metadata": {
  "kernelspec": {
   "display_name": "dataAnaPro",
   "language": "python",
   "name": "python3"
  },
  "language_info": {
   "codemirror_mode": {
    "name": "ipython",
    "version": 3
   },
   "file_extension": ".py",
   "mimetype": "text/x-python",
   "name": "python",
   "nbconvert_exporter": "python",
   "pygments_lexer": "ipython3",
   "version": "3.11.10"
  }
 },
 "nbformat": 4,
 "nbformat_minor": 2
}
