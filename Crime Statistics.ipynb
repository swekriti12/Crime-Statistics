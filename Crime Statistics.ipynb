{
 "cells": [
  {
   "cell_type": "code",
   "execution_count": 1,
   "metadata": {},
   "outputs": [],
   "source": [
    "#Importing necessary libraries\n",
    "import numpy as np\n",
    "import pandas as pd\n",
    "import matplotlib.pyplot as plt\n",
    "import seaborn as sns\n",
    "import plotly.express as px\n",
    "import plotly.graph_objects as go\n",
    "import re"
   ]
  },
  {
   "cell_type": "code",
   "execution_count": 2,
   "metadata": {},
   "outputs": [],
   "source": [
    "#Loading the dataset\n",
    "Crime_Statistics = pd.read_csv(\"./35100177.csv\", dtype={'DGUID': str, 'TERMINATED': str}, low_memory=False)"
   ]
  },
  {
   "cell_type": "code",
   "execution_count": 3,
   "metadata": {},
   "outputs": [
    {
     "data": {
      "text/html": [
       "<div>\n",
       "<style scoped>\n",
       "    .dataframe tbody tr th:only-of-type {\n",
       "        vertical-align: middle;\n",
       "    }\n",
       "\n",
       "    .dataframe tbody tr th {\n",
       "        vertical-align: top;\n",
       "    }\n",
       "\n",
       "    .dataframe thead th {\n",
       "        text-align: right;\n",
       "    }\n",
       "</style>\n",
       "<table border=\"1\" class=\"dataframe\">\n",
       "  <thead>\n",
       "    <tr style=\"text-align: right;\">\n",
       "      <th></th>\n",
       "      <th>REF_DATE</th>\n",
       "      <th>GEO</th>\n",
       "      <th>DGUID</th>\n",
       "      <th>Violations</th>\n",
       "      <th>Statistics</th>\n",
       "      <th>UOM</th>\n",
       "      <th>UOM_ID</th>\n",
       "      <th>SCALAR_FACTOR</th>\n",
       "      <th>SCALAR_ID</th>\n",
       "      <th>VECTOR</th>\n",
       "      <th>COORDINATE</th>\n",
       "      <th>VALUE</th>\n",
       "      <th>STATUS</th>\n",
       "      <th>SYMBOL</th>\n",
       "      <th>TERMINATED</th>\n",
       "      <th>DECIMALS</th>\n",
       "    </tr>\n",
       "  </thead>\n",
       "  <tbody>\n",
       "    <tr>\n",
       "      <th>0</th>\n",
       "      <td>1998</td>\n",
       "      <td>Canada</td>\n",
       "      <td>2021A000011124</td>\n",
       "      <td>Total, all violations [0]</td>\n",
       "      <td>Actual incidents</td>\n",
       "      <td>Number</td>\n",
       "      <td>223</td>\n",
       "      <td>units</td>\n",
       "      <td>0</td>\n",
       "      <td>v44348247</td>\n",
       "      <td>1.1.1</td>\n",
       "      <td>2688540.00</td>\n",
       "      <td>NaN</td>\n",
       "      <td>NaN</td>\n",
       "      <td>NaN</td>\n",
       "      <td>0</td>\n",
       "    </tr>\n",
       "    <tr>\n",
       "      <th>1</th>\n",
       "      <td>1998</td>\n",
       "      <td>Canada</td>\n",
       "      <td>2021A000011124</td>\n",
       "      <td>Total, all violations [0]</td>\n",
       "      <td>Rate per 100,000 population</td>\n",
       "      <td>Rate</td>\n",
       "      <td>257</td>\n",
       "      <td>units</td>\n",
       "      <td>0</td>\n",
       "      <td>v44396346</td>\n",
       "      <td>1.1.2</td>\n",
       "      <td>8915.12</td>\n",
       "      <td>NaN</td>\n",
       "      <td>NaN</td>\n",
       "      <td>NaN</td>\n",
       "      <td>2</td>\n",
       "    </tr>\n",
       "    <tr>\n",
       "      <th>2</th>\n",
       "      <td>1998</td>\n",
       "      <td>Canada</td>\n",
       "      <td>2021A000011124</td>\n",
       "      <td>Total, all violations [0]</td>\n",
       "      <td>Percentage change in rate</td>\n",
       "      <td>Percent</td>\n",
       "      <td>239</td>\n",
       "      <td>units</td>\n",
       "      <td>0</td>\n",
       "      <td>v44391402</td>\n",
       "      <td>1.1.3</td>\n",
       "      <td>NaN</td>\n",
       "      <td>..</td>\n",
       "      <td>NaN</td>\n",
       "      <td>NaN</td>\n",
       "      <td>2</td>\n",
       "    </tr>\n",
       "    <tr>\n",
       "      <th>3</th>\n",
       "      <td>1998</td>\n",
       "      <td>Canada</td>\n",
       "      <td>2021A000011124</td>\n",
       "      <td>Total, all violations [0]</td>\n",
       "      <td>Percentage contribution to the Crime Severity ...</td>\n",
       "      <td>Percent</td>\n",
       "      <td>239</td>\n",
       "      <td>units</td>\n",
       "      <td>0</td>\n",
       "      <td>v1545644596</td>\n",
       "      <td>1.1.17</td>\n",
       "      <td>100.00</td>\n",
       "      <td>NaN</td>\n",
       "      <td>NaN</td>\n",
       "      <td>NaN</td>\n",
       "      <td>2</td>\n",
       "    </tr>\n",
       "    <tr>\n",
       "      <th>4</th>\n",
       "      <td>1998</td>\n",
       "      <td>Canada</td>\n",
       "      <td>2021A000011124</td>\n",
       "      <td>Total, all violations [0]</td>\n",
       "      <td>Unfounded incidents</td>\n",
       "      <td>Number</td>\n",
       "      <td>223</td>\n",
       "      <td>units</td>\n",
       "      <td>0</td>\n",
       "      <td>v1000149311</td>\n",
       "      <td>1.1.15</td>\n",
       "      <td>NaN</td>\n",
       "      <td>..</td>\n",
       "      <td>NaN</td>\n",
       "      <td>NaN</td>\n",
       "      <td>0</td>\n",
       "    </tr>\n",
       "  </tbody>\n",
       "</table>\n",
       "</div>"
      ],
      "text/plain": [
       "   REF_DATE     GEO           DGUID                 Violations  \\\n",
       "0      1998  Canada  2021A000011124  Total, all violations [0]   \n",
       "1      1998  Canada  2021A000011124  Total, all violations [0]   \n",
       "2      1998  Canada  2021A000011124  Total, all violations [0]   \n",
       "3      1998  Canada  2021A000011124  Total, all violations [0]   \n",
       "4      1998  Canada  2021A000011124  Total, all violations [0]   \n",
       "\n",
       "                                          Statistics      UOM  UOM_ID  \\\n",
       "0                                   Actual incidents   Number     223   \n",
       "1                        Rate per 100,000 population     Rate     257   \n",
       "2                          Percentage change in rate  Percent     239   \n",
       "3  Percentage contribution to the Crime Severity ...  Percent     239   \n",
       "4                                Unfounded incidents   Number     223   \n",
       "\n",
       "  SCALAR_FACTOR  SCALAR_ID       VECTOR COORDINATE       VALUE STATUS  SYMBOL  \\\n",
       "0         units          0    v44348247      1.1.1  2688540.00    NaN     NaN   \n",
       "1         units          0    v44396346      1.1.2     8915.12    NaN     NaN   \n",
       "2         units          0    v44391402      1.1.3         NaN     ..     NaN   \n",
       "3         units          0  v1545644596     1.1.17      100.00    NaN     NaN   \n",
       "4         units          0  v1000149311     1.1.15         NaN     ..     NaN   \n",
       "\n",
       "  TERMINATED  DECIMALS  \n",
       "0        NaN         0  \n",
       "1        NaN         2  \n",
       "2        NaN         2  \n",
       "3        NaN         2  \n",
       "4        NaN         0  "
      ]
     },
     "execution_count": 3,
     "metadata": {},
     "output_type": "execute_result"
    }
   ],
   "source": [
    "#Displaying first five rows\n",
    "Crime_Statistics.head(5)"
   ]
  },
  {
   "cell_type": "markdown",
   "metadata": {},
   "source": [
    "## 2. Understand the Dataset"
   ]
  },
  {
   "cell_type": "code",
   "execution_count": 4,
   "metadata": {},
   "outputs": [
    {
     "data": {
      "text/plain": [
       "(7244910, 16)"
      ]
     },
     "execution_count": 4,
     "metadata": {},
     "output_type": "execute_result"
    }
   ],
   "source": [
    "#Checking the shape of the dataset\n",
    "Crime_Statistics.shape"
   ]
  },
  {
   "cell_type": "markdown",
   "metadata": {},
   "source": [
    "The dataset includes 7244910 rows and 16 columns."
   ]
  },
  {
   "cell_type": "code",
   "execution_count": 5,
   "metadata": {},
   "outputs": [
    {
     "data": {
      "text/plain": [
       "Index(['REF_DATE', 'GEO', 'DGUID', 'Violations', 'Statistics', 'UOM', 'UOM_ID',\n",
       "       'SCALAR_FACTOR', 'SCALAR_ID', 'VECTOR', 'COORDINATE', 'VALUE', 'STATUS',\n",
       "       'SYMBOL', 'TERMINATED', 'DECIMALS'],\n",
       "      dtype='object')"
      ]
     },
     "execution_count": 5,
     "metadata": {},
     "output_type": "execute_result"
    }
   ],
   "source": [
    "#Checking the columns of the dataset\n",
    "Crime_Statistics.columns"
   ]
  },
  {
   "cell_type": "markdown",
   "metadata": {},
   "source": [
    "The names of the 16 columns are: 'REF_DATE', 'GEO', 'DGUID', 'Violations', 'Statistics', 'UOM', 'UOM_ID', 'SCALAR_FACTOR', 'SCALAR_ID', 'VECTOR', 'COORDINATE', 'VALUE', 'STATUS', 'SYMBOL', 'TERMINATED', and 'DECIMALS'."
   ]
  },
  {
   "cell_type": "code",
   "execution_count": 6,
   "metadata": {},
   "outputs": [
    {
     "name": "stdout",
     "output_type": "stream",
     "text": [
      "<class 'pandas.core.frame.DataFrame'>\n",
      "RangeIndex: 7244910 entries, 0 to 7244909\n",
      "Data columns (total 16 columns):\n",
      " #   Column         Dtype  \n",
      "---  ------         -----  \n",
      " 0   REF_DATE       int64  \n",
      " 1   GEO            object \n",
      " 2   DGUID          object \n",
      " 3   Violations     object \n",
      " 4   Statistics     object \n",
      " 5   UOM            object \n",
      " 6   UOM_ID         int64  \n",
      " 7   SCALAR_FACTOR  object \n",
      " 8   SCALAR_ID      int64  \n",
      " 9   VECTOR         object \n",
      " 10  COORDINATE     object \n",
      " 11  VALUE          float64\n",
      " 12  STATUS         object \n",
      " 13  SYMBOL         float64\n",
      " 14  TERMINATED     object \n",
      " 15  DECIMALS       int64  \n",
      "dtypes: float64(2), int64(4), object(10)\n",
      "memory usage: 884.4+ MB\n"
     ]
    }
   ],
   "source": [
    "#Getting more information of the dataset\n",
    "Crime_Statistics.info()"
   ]
  },
  {
   "cell_type": "markdown",
   "metadata": {},
   "source": [
    "The above data represents the data type of each columns."
   ]
  },
  {
   "cell_type": "markdown",
   "metadata": {},
   "source": [
    "## 3. Data Filtering"
   ]
  },
  {
   "cell_type": "markdown",
   "metadata": {},
   "source": [
    "As per the Metadata \"Youth population data are not available prior to 2004, therefore the rates shown are incorrect and should not be used\", so the best approach would be to remove the dataset till the year 2004 for reliable and accurate analysis, ensuring that all insights and conclusions drawn are based on valid and dependable data.\n",
    "\n",
    "The dataset is now focused on reliable data from 2005 onwards."
   ]
  },
  {
   "cell_type": "code",
   "execution_count": 7,
   "metadata": {},
   "outputs": [],
   "source": [
    "#Filtering data for years 2005 and beyond\n",
    "Crime_Statistics = Crime_Statistics[Crime_Statistics['REF_DATE'] >= 2005]"
   ]
  },
  {
   "cell_type": "code",
   "execution_count": 8,
   "metadata": {},
   "outputs": [
    {
     "data": {
      "text/plain": [
       "(5369589, 16)"
      ]
     },
     "execution_count": 8,
     "metadata": {},
     "output_type": "execute_result"
    }
   ],
   "source": [
    "#Checking the shape of the dataset after filtering data for years\n",
    "Crime_Statistics.shape"
   ]
  },
  {
   "cell_type": "code",
   "execution_count": 9,
   "metadata": {},
   "outputs": [
    {
     "data": {
      "text/html": [
       "<div>\n",
       "<style scoped>\n",
       "    .dataframe tbody tr th:only-of-type {\n",
       "        vertical-align: middle;\n",
       "    }\n",
       "\n",
       "    .dataframe tbody tr th {\n",
       "        vertical-align: top;\n",
       "    }\n",
       "\n",
       "    .dataframe thead th {\n",
       "        text-align: right;\n",
       "    }\n",
       "</style>\n",
       "<table border=\"1\" class=\"dataframe\">\n",
       "  <thead>\n",
       "    <tr style=\"text-align: right;\">\n",
       "      <th></th>\n",
       "      <th>REF_DATE</th>\n",
       "      <th>GEO</th>\n",
       "      <th>DGUID</th>\n",
       "      <th>Violations</th>\n",
       "      <th>Statistics</th>\n",
       "      <th>UOM</th>\n",
       "      <th>UOM_ID</th>\n",
       "      <th>SCALAR_FACTOR</th>\n",
       "      <th>SCALAR_ID</th>\n",
       "      <th>VECTOR</th>\n",
       "      <th>COORDINATE</th>\n",
       "      <th>VALUE</th>\n",
       "      <th>STATUS</th>\n",
       "      <th>SYMBOL</th>\n",
       "      <th>TERMINATED</th>\n",
       "      <th>DECIMALS</th>\n",
       "    </tr>\n",
       "  </thead>\n",
       "  <tbody>\n",
       "    <tr>\n",
       "      <th>1875321</th>\n",
       "      <td>2005</td>\n",
       "      <td>Canada</td>\n",
       "      <td>2021A000011124</td>\n",
       "      <td>Total, all violations [0]</td>\n",
       "      <td>Actual incidents</td>\n",
       "      <td>Number</td>\n",
       "      <td>223</td>\n",
       "      <td>units</td>\n",
       "      <td>0</td>\n",
       "      <td>v44348247</td>\n",
       "      <td>1.1.1</td>\n",
       "      <td>2608741.00</td>\n",
       "      <td>NaN</td>\n",
       "      <td>NaN</td>\n",
       "      <td>NaN</td>\n",
       "      <td>0</td>\n",
       "    </tr>\n",
       "    <tr>\n",
       "      <th>1875322</th>\n",
       "      <td>2005</td>\n",
       "      <td>Canada</td>\n",
       "      <td>2021A000011124</td>\n",
       "      <td>Total, all violations [0]</td>\n",
       "      <td>Rate per 100,000 population</td>\n",
       "      <td>Rate</td>\n",
       "      <td>257</td>\n",
       "      <td>units</td>\n",
       "      <td>0</td>\n",
       "      <td>v44396346</td>\n",
       "      <td>1.1.2</td>\n",
       "      <td>8090.32</td>\n",
       "      <td>NaN</td>\n",
       "      <td>NaN</td>\n",
       "      <td>NaN</td>\n",
       "      <td>2</td>\n",
       "    </tr>\n",
       "    <tr>\n",
       "      <th>1875323</th>\n",
       "      <td>2005</td>\n",
       "      <td>Canada</td>\n",
       "      <td>2021A000011124</td>\n",
       "      <td>Total, all violations [0]</td>\n",
       "      <td>Percentage change in rate</td>\n",
       "      <td>Percent</td>\n",
       "      <td>239</td>\n",
       "      <td>units</td>\n",
       "      <td>0</td>\n",
       "      <td>v44391402</td>\n",
       "      <td>1.1.3</td>\n",
       "      <td>-3.59</td>\n",
       "      <td>NaN</td>\n",
       "      <td>NaN</td>\n",
       "      <td>NaN</td>\n",
       "      <td>2</td>\n",
       "    </tr>\n",
       "    <tr>\n",
       "      <th>1875324</th>\n",
       "      <td>2005</td>\n",
       "      <td>Canada</td>\n",
       "      <td>2021A000011124</td>\n",
       "      <td>Total, all violations [0]</td>\n",
       "      <td>Percentage contribution to the Crime Severity ...</td>\n",
       "      <td>Percent</td>\n",
       "      <td>239</td>\n",
       "      <td>units</td>\n",
       "      <td>0</td>\n",
       "      <td>v1545644596</td>\n",
       "      <td>1.1.17</td>\n",
       "      <td>100.00</td>\n",
       "      <td>NaN</td>\n",
       "      <td>NaN</td>\n",
       "      <td>NaN</td>\n",
       "      <td>2</td>\n",
       "    </tr>\n",
       "    <tr>\n",
       "      <th>1875325</th>\n",
       "      <td>2005</td>\n",
       "      <td>Canada</td>\n",
       "      <td>2021A000011124</td>\n",
       "      <td>Total, all violations [0]</td>\n",
       "      <td>Unfounded incidents</td>\n",
       "      <td>Number</td>\n",
       "      <td>223</td>\n",
       "      <td>units</td>\n",
       "      <td>0</td>\n",
       "      <td>v1000149311</td>\n",
       "      <td>1.1.15</td>\n",
       "      <td>NaN</td>\n",
       "      <td>..</td>\n",
       "      <td>NaN</td>\n",
       "      <td>NaN</td>\n",
       "      <td>0</td>\n",
       "    </tr>\n",
       "  </tbody>\n",
       "</table>\n",
       "</div>"
      ],
      "text/plain": [
       "         REF_DATE     GEO           DGUID                 Violations  \\\n",
       "1875321      2005  Canada  2021A000011124  Total, all violations [0]   \n",
       "1875322      2005  Canada  2021A000011124  Total, all violations [0]   \n",
       "1875323      2005  Canada  2021A000011124  Total, all violations [0]   \n",
       "1875324      2005  Canada  2021A000011124  Total, all violations [0]   \n",
       "1875325      2005  Canada  2021A000011124  Total, all violations [0]   \n",
       "\n",
       "                                                Statistics      UOM  UOM_ID  \\\n",
       "1875321                                   Actual incidents   Number     223   \n",
       "1875322                        Rate per 100,000 population     Rate     257   \n",
       "1875323                          Percentage change in rate  Percent     239   \n",
       "1875324  Percentage contribution to the Crime Severity ...  Percent     239   \n",
       "1875325                                Unfounded incidents   Number     223   \n",
       "\n",
       "        SCALAR_FACTOR  SCALAR_ID       VECTOR COORDINATE       VALUE STATUS  \\\n",
       "1875321         units          0    v44348247      1.1.1  2608741.00    NaN   \n",
       "1875322         units          0    v44396346      1.1.2     8090.32    NaN   \n",
       "1875323         units          0    v44391402      1.1.3       -3.59    NaN   \n",
       "1875324         units          0  v1545644596     1.1.17      100.00    NaN   \n",
       "1875325         units          0  v1000149311     1.1.15         NaN     ..   \n",
       "\n",
       "         SYMBOL TERMINATED  DECIMALS  \n",
       "1875321     NaN        NaN         0  \n",
       "1875322     NaN        NaN         2  \n",
       "1875323     NaN        NaN         2  \n",
       "1875324     NaN        NaN         2  \n",
       "1875325     NaN        NaN         0  "
      ]
     },
     "execution_count": 9,
     "metadata": {},
     "output_type": "execute_result"
    }
   ],
   "source": [
    "#Displaying first five rows\n",
    "Crime_Statistics.head(5)"
   ]
  },
  {
   "cell_type": "markdown",
   "metadata": {},
   "source": [
    "## 4. Examine the unique values of each columns in the dataset and perform data cleaning if required"
   ]
  },
  {
   "cell_type": "markdown",
   "metadata": {},
   "source": [
    "### Column #1: REF_DATE"
   ]
  },
  {
   "cell_type": "code",
   "execution_count": 10,
   "metadata": {},
   "outputs": [
    {
     "data": {
      "text/plain": [
       "array([2005, 2006, 2007, 2008, 2009, 2010, 2011, 2012, 2013, 2014, 2015,\n",
       "       2016, 2017, 2018, 2019, 2020, 2021, 2022, 2023])"
      ]
     },
     "execution_count": 10,
     "metadata": {},
     "output_type": "execute_result"
    }
   ],
   "source": [
    "#Checking unique values for \"REF_DATE\" column\n",
    "Crime_Statistics['REF_DATE'].unique()"
   ]
  },
  {
   "cell_type": "markdown",
   "metadata": {},
   "source": [
    "The \"REF_DATE\" column in the dataset represents the year in which the crime was committed. The dataset includes the information about the crime committed in the years 2005 to 2023."
   ]
  },
  {
   "cell_type": "code",
   "execution_count": 11,
   "metadata": {},
   "outputs": [],
   "source": [
    "#Renaming the column \"REF_DATE\" to \"Year\"\n",
    "Crime_Statistics.rename(columns={'REF_DATE': 'Year'}, inplace=True)"
   ]
  },
  {
   "cell_type": "markdown",
   "metadata": {},
   "source": [
    "### Column #2: GEO"
   ]
  },
  {
   "cell_type": "code",
   "execution_count": 12,
   "metadata": {},
   "outputs": [
    {
     "data": {
      "text/plain": [
       "array(['Canada', 'Newfoundland and Labrador [10]',\n",
       "       \"St. John's, Newfoundland and Labrador [10001]\",\n",
       "       'Prince Edward Island [11]', 'Nova Scotia [12]',\n",
       "       'Halifax, Nova Scotia [12205]', 'New Brunswick [13]',\n",
       "       'Moncton, New Brunswick [13305]',\n",
       "       'Saint John, New Brunswick [13310]', 'Quebec [24]',\n",
       "       'Saguenay, Quebec [24408]', 'Québec, Quebec [24421]',\n",
       "       'Sherbrooke, Quebec [24433]', 'Trois-Rivières, Quebec [24442]',\n",
       "       'Montréal, Quebec [24462]', 'Ottawa-Gatineau, Quebec part [24505]',\n",
       "       'Ontario [35]', 'Ottawa-Gatineau, Ontario/Quebec [24505/35505]',\n",
       "       'Ottawa-Gatineau, Ontario part [35505]',\n",
       "       'Kingston, Ontario [35521]',\n",
       "       'Belleville-Quinte West, Ontario [35522]',\n",
       "       'Peterborough, Ontario [35529]', 'Toronto, Ontario [35535]',\n",
       "       'Hamilton, Ontario [35537]',\n",
       "       'St. Catharines-Niagara, Ontario [35539]',\n",
       "       'Kitchener-Cambridge-Waterloo, Ontario [35541]',\n",
       "       'Brantford, Ontario [35543]', 'Guelph, Ontario [35550]',\n",
       "       'London, Ontario [35555]', 'Windsor, Ontario [35559]',\n",
       "       'Barrie, Ontario [35568]', 'Greater Sudbury, Ontario [35580]',\n",
       "       'Thunder Bay, Ontario [35595]', 'Manitoba [46]',\n",
       "       'Winnipeg, Manitoba [46602]', 'Saskatchewan [47]',\n",
       "       'Regina, Saskatchewan [47705]', 'Saskatoon, Saskatchewan [47725]',\n",
       "       'Alberta [48]', 'Lethbridge, Alberta [48810]',\n",
       "       'Calgary, Alberta [48825]', 'Edmonton, Alberta [48835]',\n",
       "       'British Columbia [59]', 'Kelowna, British Columbia [59915]',\n",
       "       'Abbotsford-Mission, British Columbia [59932]',\n",
       "       'Vancouver, British Columbia [59933]',\n",
       "       'Victoria, British Columbia [59935]', 'Yukon [60]',\n",
       "       'Northwest Territories [61]', 'Nunavut [62]',\n",
       "       'Canadian Forces Military Police [99001]',\n",
       "       'Fredericton, New Brunswick [13320]',\n",
       "       'Drummondville, Quebec [24447]', 'Red Deer, Alberta [48830]',\n",
       "       'Kamloops, British Columbia [59925]',\n",
       "       'Chilliwack, British Columbia [59930]',\n",
       "       'Nanaimo, British Columbia [59938]'], dtype=object)"
      ]
     },
     "execution_count": 12,
     "metadata": {},
     "output_type": "execute_result"
    }
   ],
   "source": [
    "#Checking unique values for \"GEO\" column\n",
    "Crime_Statistics['GEO'].unique()"
   ]
  },
  {
   "cell_type": "markdown",
   "metadata": {},
   "source": [
    "The \"Geo\" column in the dataset contains information about geographic location accross Canada, including provinces, cities, and specific areas within cities.\n",
    "\n",
    "- Provinces: Alberta, British Columbia, Manitoba, New Brunswick, Newfoundland and Labrador, Nova Scotia, Northwest Territories, Nanavut, Ontario, Quebec, Saskatchewan, and Yukon\n",
    "- Cities and Regions: Halifax, Montreal, Ottawa, Calgary, Edmonton, Red Deer, Barrie, Kingston, Thunder Bay, Regina, Brantford, Kitchener, Winnipeg, Lethbridge, Windsor, and so on.\n",
    "- Specific Areas within cities: Ottawa-Gatineau, St. Catharines-Niagara, Belleville-Quinte West, and so on."
   ]
  },
  {
   "cell_type": "markdown",
   "metadata": {},
   "source": [
    "### Column #3: DGUID"
   ]
  },
  {
   "cell_type": "code",
   "execution_count": 13,
   "metadata": {},
   "outputs": [
    {
     "data": {
      "text/plain": [
       "array(['2021A000011124', '2021A000210', '2021A003510001', '2021A000211',\n",
       "       '2021A000212', '2021A003512205', '2021A000213', '2021A003513305',\n",
       "       '2021A003513310', '2021A000224', '2021A003524408',\n",
       "       '2021A003524421', '2021A003524433', '2021A003524442',\n",
       "       '2021A003524462', '2021A003524505', '2021A000235', '2021A0035505',\n",
       "       '2021A003535505', '2021A003535521', '2021A003535522',\n",
       "       '2021A003535529', '2021A003535535', '2021A003535537',\n",
       "       '2021A003535539', '2021A003535541', '2021A003535543',\n",
       "       '2021A003535550', '2021A003535555', '2021A003535559',\n",
       "       '2021A003535568', '2021A003535580', '2021A003535595',\n",
       "       '2021A000246', '2021A003546602', '2021A000247', '2021A003547705',\n",
       "       '2021A003547725', '2021A000248', '2021A003548810',\n",
       "       '2021A003548825', '2021A003548835', '2021A000259',\n",
       "       '2021A003559915', '2021A003559932', '2021A003559933',\n",
       "       '2021A003559935', '2021A000260', '2021A000261', '2021A000262', nan,\n",
       "       '2021A003513320', '2021A003524447', '2021A003548830',\n",
       "       '2021A003559925', '2021A003559930', '2021A003559938'], dtype=object)"
      ]
     },
     "execution_count": 13,
     "metadata": {},
     "output_type": "execute_result"
    }
   ],
   "source": [
    "#Checking unique values for \"DGUID\" column\n",
    "Crime_Statistics['DGUID'].unique()"
   ]
  },
  {
   "cell_type": "markdown",
   "metadata": {},
   "source": [
    "The \"DGUID\" column in the dataset represent unique identifiers for specific geographic areas or regions. Each value in the dataset, such as 2021A000011124 appears to be a code that maps to a specific location (like province, city, or region). However, the presence of \"nan\" in dataset indicates there are some missing data for some records. Since we already have this information in the 'GEO' column, it would be best to drop the 'DGUID' column.\"\n",
    "\n"
   ]
  },
  {
   "cell_type": "code",
   "execution_count": 14,
   "metadata": {},
   "outputs": [],
   "source": [
    "#Removing the column \"DGUID\"\n",
    "Crime_Statistics.drop(columns=['DGUID'], inplace=True)"
   ]
  },
  {
   "cell_type": "markdown",
   "metadata": {},
   "source": [
    "### Column #4: Violations"
   ]
  },
  {
   "cell_type": "code",
   "execution_count": 15,
   "metadata": {},
   "outputs": [
    {
     "data": {
      "text/plain": [
       "array(['Total, all violations [0]',\n",
       "       'Total, all Criminal Code violations (including traffic) [25]',\n",
       "       'Total, all Criminal Code violations (excluding traffic) [50]',\n",
       "       'Total violent Criminal Code violations [100]', 'Homicide [110]',\n",
       "       'Murder, first degree [1110]', 'Murder, second degree [1120]',\n",
       "       'Manslaughter [1130]', 'Infanticide [1140]',\n",
       "       'Total other violations causing death [120]',\n",
       "       'Criminal negligence causing death [1150]',\n",
       "       'Other related violations causing death [1160]',\n",
       "       'Attempted murder [1210]',\n",
       "       'Sexual offence which occurred prior to January 4, 1983 [1300]',\n",
       "       'Sexual assault, level 3, aggravated [1310]',\n",
       "       'Sexual assault, level 2, weapon or bodily harm [1320]',\n",
       "       'Sexual assault, level 1 [1330]',\n",
       "       'Total sexual violations against children [130]',\n",
       "       'Sexual interference [1345]',\n",
       "       'Invitation to sexual touching [1350]',\n",
       "       'Sexual exploitation [1355]',\n",
       "       'Making sexually explicit material available to children [1367]',\n",
       "       'Parent or guardian procuring sexual activity [1368]',\n",
       "       'Householder permitting prohibited sexual activity [1369]',\n",
       "       'Luring a child via a computer [1370]',\n",
       "       'Agreement or Arrangement - sexual offence against child [1371]',\n",
       "       'Bestiality in presence of, or incites, a child [1381]',\n",
       "       'Assault, level 3, aggravated [1410]',\n",
       "       'Assault, level 2, weapon or bodily harm [1420]',\n",
       "       'Assault, level 1 [1430]',\n",
       "       'Total assaults against a peace officer [135]',\n",
       "       'Total other assaults [140]',\n",
       "       'Unlawfully causing bodily harm [1440]',\n",
       "       'Criminal negligence causing bodily harm [1470]',\n",
       "       'Other assaults [1480]',\n",
       "       'Total firearms, use of, discharge, pointing [150]',\n",
       "       'Discharge firearm with intent [1450]',\n",
       "       'Using firearm in commission of offence [1455]',\n",
       "       'Pointing a firearm [1457]', 'Total robbery [160]',\n",
       "       'Robbery [1610]', 'Robbery to steal a firearm [1611]',\n",
       "       'Total forcible confinement or kidnapping [510]',\n",
       "       'Forcible confinement or kidnapping [1510]', 'Kidnapping [1515]',\n",
       "       'Forcible confinement [1516]', 'Total abduction [170]',\n",
       "       'Abduction under the age 14, not parent or guardian [1530]',\n",
       "       'Abduction under the age 16 [1540]',\n",
       "       'Removal of children from Canada [1545]',\n",
       "       'Abduction under the age 14 contravening a custody order [1550]',\n",
       "       'Abduction under age 14, by parent or guardian [1560]',\n",
       "       'Extortion [1620]', 'Criminal harassment [1625]',\n",
       "       'Uttering threats [1627]',\n",
       "       'Indecent/Harassing communications [1626]',\n",
       "       'Total offences in relation to sexual services [190]',\n",
       "       'Obtaining sexual services for consideration [1711]',\n",
       "       'Obtaining sexual services for consideration from person under the age of 18 years [1712]',\n",
       "       'Receive material benefit from sexual services [1721]',\n",
       "       'Receive material benefit from sexual services provided by person under the age of 18 years [1722]',\n",
       "       'Procuring [1731]',\n",
       "       'Procuring a person under the age of 18 years [1732]',\n",
       "       'Advertising sexual services [1740]',\n",
       "       'Total other violent violations [180]',\n",
       "       'Conspire to commit murder [1220]',\n",
       "       'Other sexual violations [1340]',\n",
       "       'Sexual Exploitation of a person with a disability [1356]',\n",
       "       'Incest [1360]', 'Corrupting morals of a child [1365]',\n",
       "       'Anal intercourse [1375]',\n",
       "       'Bestiality, commit or compel person [1380]', 'Voyeurism [1385]',\n",
       "       'Non-consensual distribution of intimate images [1390]',\n",
       "       'Trap likely to or causing bodily harm [1475]',\n",
       "       'Hostage-taking [1520]', 'Trafficking in persons [1525]',\n",
       "       'Intimidation of a justice system participant or a journalist [1621]',\n",
       "       'Intimidation of a non-justice participant [1622]',\n",
       "       'Explosives causing death or bodily harm [1628]',\n",
       "       'Arson, disregard for human life [1629]',\n",
       "       'Failure to comply with mandatory safeguards in relation to medical assistance in dying [1631]',\n",
       "       'Forging or destroying documents related to assistance requests with criminal intent [1632]',\n",
       "       'Other violent violations [1630]',\n",
       "       'Total property crime violations [200]',\n",
       "       'Total breaking and entering [210]',\n",
       "       'Breaking and entering [2120]',\n",
       "       'Breaking and entering to steal a firearm [2121]',\n",
       "       'Break and enter to steal a firearm from a motor vehicle [2125]',\n",
       "       'Total possession of stolen property [211]',\n",
       "       'Total trafficking in stolen property [212]',\n",
       "       'Total theft of motor vehicle [220]',\n",
       "       'Total theft over $5,000 (non-motor vehicle) [230]',\n",
       "       'Theft over $5,000 [2130]',\n",
       "       'Theft over $5,000 from a motor vehicle [2132]',\n",
       "       'Shoplifting over $5,000 [2133]',\n",
       "       'Total theft under $5,000 (non-motor vehicle) [240]',\n",
       "       'Theft $5,000 or under [2140]',\n",
       "       'Theft $5,000 or under from a motor vehicle [2142]',\n",
       "       'Shoplifting $5,000 or under [2143]', 'Fraud [2160]',\n",
       "       'Identity theft [2165]', 'Identity fraud [2166]',\n",
       "       'Total mischief [250]', 'Mischief [2170]',\n",
       "       'Mischief in relation to cultural property [2175]',\n",
       "       'Hate-motivated mischief relating to property used by identifiable group [2176]',\n",
       "       'Mischief relating to war memorials [2177]', 'Arson [2110]',\n",
       "       'Altering, removing or destroying Vehicle Identification Number (VIN) [2178]',\n",
       "       'Total other Criminal Code violations [300]',\n",
       "       'Counterfeiting [3420]', 'Total weapons violations [310]',\n",
       "       'Offensive weapons, explosives [3310]',\n",
       "       'Offensive weapons, prohibited [3320]',\n",
       "       'Offensive weapons, restricted [3330]',\n",
       "       'Firearm transfers or serial numbers [3340]',\n",
       "       'Other offensive weapons [3350]',\n",
       "       'Weapons trafficking and Manufacturing [3365]',\n",
       "       'Weapons possession contrary to order [3370]',\n",
       "       'Possession of weapons [3375]',\n",
       "       'Unauthorized importing or exporting of weapons [3380]',\n",
       "       'Firearms documentation or administration [3390]',\n",
       "       'Unsafe storage of firearms [3395]',\n",
       "       'Possession of, or accessing child pornography [3455]',\n",
       "       'Making, or distribution of child pornography [3456]',\n",
       "       'Total prostitution [320]', 'Bawdy house [3110]',\n",
       "       'Living off the avails of prostitution of a person under age 18 [3115]',\n",
       "       'Procuring [3120]',\n",
       "       'Obtains or communicates with a person under age 18 for purpose of sex [3125]',\n",
       "       'Other prostitution [3130]',\n",
       "       'Public communication to sell sexual services [3140]',\n",
       "       'Offences related to impeding traffic to buy or sell sexual services [3141]',\n",
       "       'Disturb the peace [3430]',\n",
       "       'Total administration of justice violations [330]',\n",
       "       'Fail to comply with order [3410]',\n",
       "       'Escape or helps to escape from lawful custody [3440]',\n",
       "       'Prisoner unlawfully at large [3480]', 'Fail to appear [3510]',\n",
       "       'Breach of probation [3520]',\n",
       "       'Other violations against the administration of law and justice (Part IV Criminal Code) [3730]',\n",
       "       'Total other violations [340]', 'Betting house [3210]',\n",
       "       'Gaming house [3220]',\n",
       "       'Other violations related to gaming and betting [3230]',\n",
       "       'Common Bawdy House [3240]', 'Indecent acts [3450]',\n",
       "       'Corrupting morals [3460]',\n",
       "       'Obstruct public or peace officer [3470]',\n",
       "       'Trespass at night [3490]',\n",
       "       'Utter threats to property or animal [3540]',\n",
       "       'Advocating genocide [3550]', 'Public incitement of hatred [3560]',\n",
       "       'Offences against public order (Part II Criminal Code) [3710]',\n",
       "       'Property or service for terrorist activity [3711]',\n",
       "       'Freezing of property, disclosure or audit [3712]',\n",
       "       'Participate in activity of terrorist group [3713]',\n",
       "       'Facilitate terrorist activity [3714]',\n",
       "       'Commission or instructing to carry out terrorist activity [3715]',\n",
       "       'Harbour or conceal terrorist [3716]', 'Hoax terrorism [3717]',\n",
       "       'Advocating/Promoting terrorism offence [3718]',\n",
       "       'Firearms and other offensive weapons (Part III Criminal Code) [3720]',\n",
       "       'Leaving Canada to participate in activity of terrorist group [3721]',\n",
       "       'Leaving Canada to facilitate terrorist activity [3722]',\n",
       "       'Leaving Canada to commit offence for terrorist group [3723]',\n",
       "       'Leaving Canada to commit offence that is terrorist activity [3724]',\n",
       "       'Concealing person who carried out terrorist activity that is a terrorism offence for which that person is liable to imprisonment for life [3725]',\n",
       "       'Concealing person who carried out terrorist activity that is a terrorism offence for which that person is liable to any punishment other than life [3726]',\n",
       "       'Concealing person who is likely to carry out terrorist activity [3727]',\n",
       "       'Sexual offences, public morals and disorderly conduct (Part V Criminal Code) [3740]',\n",
       "       'Invasion of privacy (Part VI Criminal Code) [3750]',\n",
       "       'Disorderly houses, gaming and betting [3760]',\n",
       "       'Offences against the person and reputation (Part VIII Criminal Code) [3770]',\n",
       "       'Offences against rights of property (Part IX Criminal Code) [3780]',\n",
       "       'Fraudulent transactions relating to contracts and trade (Part X Criminal Code) [3790]',\n",
       "       'Wilful and forbidden acts in respect of certain property (Part XI Criminal Code) [3810]',\n",
       "       'Offences relating to currency (Part XII Criminal Code) [3820]',\n",
       "       'Proceeds of crime (Part XII.2 Criminal Code) [3825]',\n",
       "       'Attempts, conspiracies, accessories (Part XIII Criminal Code) [3830]',\n",
       "       'Instruct offence for criminal organization [3840]',\n",
       "       'Commit offence for criminal organization [3841]',\n",
       "       'Participate in activities of criminal organization [3842]',\n",
       "       'Recruitment of members by a criminal organization [3843]',\n",
       "       'All other Criminal Code (includes Part XII.1 Criminal Code) [3890]',\n",
       "       'Total Criminal Code traffic violations [900]',\n",
       "       'Total impaired driving [910]',\n",
       "       'Operation - low blood drug concentration [9205]',\n",
       "       'Operation while impaired causing death (alcohol) [9210]',\n",
       "       'Operation while impaired causing death (alcohol and drugs) [9213]',\n",
       "       'Operation while impaired causing death (drugs) [9215]',\n",
       "       'Operation while impaired causing death (unspecified) [9217]',\n",
       "       'Operation while impaired causing bodily harm (alcohol) [9220]',\n",
       "       'Operation while impaired causing bodily harm (alcohol and drugs) [9223]',\n",
       "       'Operation while impaired causing bodily harm (drugs) [9225]',\n",
       "       'Operation while impaired causing bodily harm (unspecified) [9227]',\n",
       "       'Operation while impaired (alcohol) [9230]',\n",
       "       'Operation while impaired (alcohol and drugs) [9233]',\n",
       "       'Operation while impaired (drugs) [9235]',\n",
       "       'Operation while impaired (unspecified) [9237]',\n",
       "       'Impaired operation, failure to provide breath sample [9240]',\n",
       "       'Failure to comply or refusal (drugs) [9245]',\n",
       "       'Impaired operation, failure to provide blood sample [9250]',\n",
       "       'Failure to provide blood sample (drugs) [9255]',\n",
       "       'Failure or refusal to comply with demand (alcohol) [9260]',\n",
       "       'Failure or refusal to comply with demand (alcohol and drugs) [9263]',\n",
       "       'Failure or refusal to comply with demand (drugs) [9265]',\n",
       "       'Failure or refusal to comply with demand (unspecified) [9267]',\n",
       "       'Failure or refusal to comply with demand, accident resulting in bodily harm (alcohol) [9270]',\n",
       "       'Failure or refusal to comply with demand, accident resulting in bodily harm (alcohol and drugs) [9273]',\n",
       "       'Failure or refusal to comply with demand, accident resulting in bodily harm (drugs) [9275]',\n",
       "       'Failure or refusal to comply with demand, accident resulting in bodily harm (unspecified) [9277]',\n",
       "       'Failure or refusal to comply with demand, accident resulting in death (alcohol) [9280]',\n",
       "       'Failure or refusal to comply with demand, accident resulting in death (alcohol and drugs) [9283]',\n",
       "       'Failure or refusal to comply with demand, accident resulting in death (drugs) [9285]',\n",
       "       'Failure or refusal to comply with demand, accident resulting in death (unspecified) [9287]',\n",
       "       'Total other Criminal Code traffic violations [920]',\n",
       "       'Dangerous operation, causing death [9110]',\n",
       "       'Dangerous operation, causing bodily harm [9120]',\n",
       "       'Dangerous operation of motor vehicle, vessel or aircraft [9130]',\n",
       "       'Dangerous operation evading police, causing death [9131]',\n",
       "       'Dangerous operation evading police, causing bodily harm [9132]',\n",
       "       'Dangerous operation of motor vehicle evading police [9133]',\n",
       "       'Total fail to stop or remain [930]',\n",
       "       'Driving while prohibited [9320]',\n",
       "       'Other Criminal Code traffic violations [9330]',\n",
       "       'Causing death by criminal negligence while street racing [9410]',\n",
       "       'Causing bodily harm by criminal negligence while street racing [9420]',\n",
       "       'Dangerous operation causing death while street racing [9430]',\n",
       "       'Dangerous operation causing bodily harm while street racing [9440]',\n",
       "       'Dangerous operation of motor vehicle while street racing [9450]',\n",
       "       'Total Federal Statute violations [400]',\n",
       "       'Total drug violations [401]',\n",
       "       'Possession, cannabis (pre-legalization) [4140]',\n",
       "       'Possession, cocaine [4120]',\n",
       "       'Total, possession, other Controlled Drugs and Substances Act drugs [410]',\n",
       "       'Heroin, possession [4110]',\n",
       "       'Other Controlled Drugs and Substances Act, possession [4130]',\n",
       "       'Methamphetamines (crystal meth), possession [4150]',\n",
       "       'Methylenedioxyamphetamine (ecstasy), possession [4160]',\n",
       "       'Opioid (other than heroin), possession [4170]',\n",
       "       'Total cannabis, trafficking, production or distribution (pre-legalization) [420]',\n",
       "       'Cannabis, trafficking (pre-legalization) [4240]',\n",
       "       'Cannabis, importation and exportation (pre-legalization) [4340]',\n",
       "       'Cannabis, production (pre-legalization) [4440]',\n",
       "       'Total cocaine, trafficking, production or distribution [430]',\n",
       "       'Cocaine, trafficking [4220]',\n",
       "       'Cocaine, importation and exportation [4320]',\n",
       "       'Cocaine, production [4420]',\n",
       "       'Total other Controlled Drugs and Substances Act drugs, trafficking, production or distribution [440]',\n",
       "       'Heroin, trafficking [4210]',\n",
       "       'Other Controlled Drugs and Substances Act, trafficking [4230]',\n",
       "       'Methamphetamines (crystal meth), trafficking [4250]',\n",
       "       'Methylenedioxyamphetamine (ecstasy), trafficking [4260]',\n",
       "       'Opioid (other than heroin), trafficking [4270]',\n",
       "       'Heroin, importation and exportation [4310]',\n",
       "       'Other Controlled Drugs and Substances Act, importation and exportation [4330]',\n",
       "       'Methamphetamines (crystal meth), importation and exportation [4350]',\n",
       "       'Methylenedioxyamphetamine (ecstasy), importation and exportation [4360]',\n",
       "       'Opioid (other than heroin), importation and exportation [4370]',\n",
       "       'Heroin, production [4410]',\n",
       "       'Other Controlled Drugs and Substances Act, production [4430]',\n",
       "       'Methamphetamines (crystal meth), production [4450]',\n",
       "       'Methylenedioxyamphetamine (ecstasy), production [4460]',\n",
       "       'Opioid (other than heroin), production [4470]',\n",
       "       'Possession, sale, etc., for use in production of or trafficking in substance [4590]',\n",
       "       'Total Cannabis Act [450]',\n",
       "       'Total possession - Cannabis Act [451]',\n",
       "       'Possession of illicit or over 30g dried cannabis (or equivalent) by adult [4911]',\n",
       "       'Possession of over 5g dried cannabis (or equivalent) by youth [4912]',\n",
       "       'Possession of budding or flowering plants, or more than four cannabis plants [4913]',\n",
       "       'Possession of cannabis by organization [4914]',\n",
       "       'Total distribution - Cannabis Act [452]',\n",
       "       'Distribution to an organization, illicit or over 30g dried cannabis (or equivalent) by adult [4921]',\n",
       "       'Distribution of cannabis to youth by adult [4922]',\n",
       "       'Distribution to an organization or over 5g dried cannabis (or equivalent) by youth [4923]',\n",
       "       'Distribution of budding or flowering plants, or more than four cannabis plants [4924]',\n",
       "       'Distribution of cannabis by organization [4925]',\n",
       "       'Possession of cannabis for purpose of distributing [4926]',\n",
       "       'Total sale - Cannabis Act [453]',\n",
       "       'Sale of cannabis to adult [4931]',\n",
       "       'Sale of cannabis to youth [4932]',\n",
       "       'Sale of cannabis to an organization [4933]',\n",
       "       'Possession of cannabis for purpose of selling [4934]',\n",
       "       'Total importation and exportation - Cannabis Act [454]',\n",
       "       'Importation and exportation of cannabis [4941]',\n",
       "       'Possession of cannabis for purpose of exportation [4942]',\n",
       "       'Total production - Cannabis Act [455]',\n",
       "       'Obtain, offer to obtain, alter or offer to alter cannabis [4951]',\n",
       "       'Cultivate, propagate or harvest cannabis by adult [4952]',\n",
       "       'Cultivate, propagate or harvest cannabis by youth or organization [4953]',\n",
       "       'Possess, produce, sell, distribute or import anything for use in production or distribution of illicit cannabis [4961]',\n",
       "       'Use of young person in the commission of a cannabis offence [4971]',\n",
       "       'Other Cannabis Act [4981]', 'Youth Criminal Justice Act [6450]',\n",
       "       'Total other Federal Statutes [610]', 'Bankruptcy Act [6100]',\n",
       "       'Income Tax Act [6150]', 'Canada Shipping Act [6200]',\n",
       "       'Canada Health Act [6250]', 'Customs Act [6300]',\n",
       "       'Competition Act [6350]', 'Excise Act [6400]',\n",
       "       'Total Immigration and Refugee Protection Act [620]',\n",
       "       'Firearms Act [6550]', 'National Defence Act [6560]',\n",
       "       'Quarantine Act [6600]', 'Other federal statutes [6900]',\n",
       "       'Parent or guardian procuring sexual activity: person procured under the age of 16 years [3165]',\n",
       "       'Householder permitting illegal sexual activity: person under the age of 16 years [3167]',\n",
       "       'Total violations related to animal cruelty [335]',\n",
       "       'Other offences against the person and reputation [3772]',\n",
       "       'Wilful and forbidden acts in respect of certain material property [3811]'],\n",
       "      dtype=object)"
      ]
     },
     "execution_count": 15,
     "metadata": {},
     "output_type": "execute_result"
    }
   ],
   "source": [
    "#Checking unique values for \"Violations\" column\n",
    "Crime_Statistics['Violations'].unique()"
   ]
  },
  {
   "cell_type": "markdown",
   "metadata": {},
   "source": [
    "The column \"Violations\" represent different types of criminal violations or offenses, ranging from broad categories like \"Total, all violations\" to specific offenses such as \"Murder, first degree\" or \"Sexual assault, level 3, aggravated."
   ]
  },
  {
   "cell_type": "markdown",
   "metadata": {},
   "source": [
    "### Column #5: Statistics"
   ]
  },
  {
   "cell_type": "code",
   "execution_count": 16,
   "metadata": {},
   "outputs": [
    {
     "data": {
      "text/plain": [
       "array(['Actual incidents', 'Rate per 100,000 population',\n",
       "       'Percentage change in rate',\n",
       "       'Percentage contribution to the Crime Severity Index (CSI)',\n",
       "       'Unfounded incidents', 'Percent unfounded', 'Total cleared',\n",
       "       'Cleared by charge', 'Cleared otherwise', 'Total, persons charged',\n",
       "       'Rate, total persons charged per 100,000 population aged 12 years and over',\n",
       "       'Total, adult charged',\n",
       "       'Rate, adult charged per 100,000 population aged 18 years and over',\n",
       "       'Total, youth charged',\n",
       "       'Rate, youth charged per 100,000 population aged 12 to 17 years',\n",
       "       'Total, youth not charged',\n",
       "       'Rate, youth not charged per 100,000 population aged 12 to 17 years'],\n",
       "      dtype=object)"
      ]
     },
     "execution_count": 16,
     "metadata": {},
     "output_type": "execute_result"
    }
   ],
   "source": [
    "#Checking unique values for \"Statistics\" column\n",
    "Crime_Statistics['Statistics'].unique()"
   ]
  },
  {
   "cell_type": "markdown",
   "metadata": {},
   "source": [
    "The column \"Statistics\" represent various measures related to crime data, focusing on rates, percentages, and charges.\n",
    "- Incidents: Measures of actual incidents of crime, such as \"Actual incidents\" and \"Unfounded incidents\".\n",
    "- Rate per Population: Crime rates calculated per 100,000 population, such as \"Rate per 100,000 population\" and various rates for adults and youth.\n",
    "- Percentage Change: Changes in crime rate over time, such as \"Percentage change in rate\".\n",
    "- Crime Clearance: Information on how crimes are cleared, such as \"Total cleared,\" \"Cleared by charge,\" and \"Cleared otherwise\".\n",
    "- Persons Charged: Metrics related to individuals charged with crimes, including \"Total, persons charged\" and rates for adults and youth."
   ]
  },
  {
   "cell_type": "markdown",
   "metadata": {},
   "source": [
    "### Column #6: UOM"
   ]
  },
  {
   "cell_type": "code",
   "execution_count": 17,
   "metadata": {},
   "outputs": [
    {
     "data": {
      "text/plain": [
       "array(['Number', 'Rate', 'Percent'], dtype=object)"
      ]
     },
     "execution_count": 17,
     "metadata": {},
     "output_type": "execute_result"
    }
   ],
   "source": [
    "#Checking unique values for \"UOM\" column\n",
    "Crime_Statistics['UOM'].unique()"
   ]
  },
  {
   "cell_type": "markdown",
   "metadata": {},
   "source": [
    "The column \"UOM\" suggest the dataset includes different types of measurements for crime statistics.\n",
    "- Number likely represents the total count of incidents or crimes, such as total number of homicides, assaults, or other crime types.\n",
    "- Rate likely represents a rate per 100,000 population or another demographic group (such as adults or youth). It could refer to how frequently a crime occurs in relation to the population size.\n",
    "- Percent could refer to percentage values, showing the percentage change in crime rates over time or the percentage contribution of a particular crime type to the total Crime Severity Index (CSI)."
   ]
  },
  {
   "cell_type": "markdown",
   "metadata": {},
   "source": [
    "### Column #7: UOM_ID"
   ]
  },
  {
   "cell_type": "code",
   "execution_count": 18,
   "metadata": {},
   "outputs": [
    {
     "data": {
      "text/plain": [
       "array([223, 257, 239])"
      ]
     },
     "execution_count": 18,
     "metadata": {},
     "output_type": "execute_result"
    }
   ],
   "source": [
    "#Checking unique values for \"UOM_ID\" column\n",
    "Crime_Statistics['UOM_ID'].unique()"
   ]
  },
  {
   "cell_type": "markdown",
   "metadata": {},
   "source": [
    "The column \"UOM_ID\" represent identifier or code that correspond to different units of measurement (UOM) used in the dataset."
   ]
  },
  {
   "cell_type": "code",
   "execution_count": 19,
   "metadata": {},
   "outputs": [
    {
     "name": "stdout",
     "output_type": "stream",
     "text": [
      "[223]\n",
      "[257]\n",
      "[239]\n"
     ]
    }
   ],
   "source": [
    "#Verifying the relationship between the values in the \"UOM\" column and \"UOM_ID\" column\n",
    "print(Crime_Statistics[Crime_Statistics['UOM'] == 'Number']['UOM_ID'].unique())  # Check if it maps to 223\n",
    "print(Crime_Statistics[Crime_Statistics['UOM'] == 'Rate']['UOM_ID'].unique())  # Check if it maps to 257\n",
    "print(Crime_Statistics[Crime_Statistics['UOM'] == 'Percent']['UOM_ID'].unique())  # Check if it maps to 239"
   ]
  },
  {
   "cell_type": "markdown",
   "metadata": {},
   "source": [
    "The output confirms that:\n",
    "\n",
    "\"Number\" in the UOM column corresponds to 223 in the UOM_ID column.\n",
    "\"Rate\" in the UOM column corresponds to 257 in the UOM_ID column.\n",
    "\"Percent\" in the UOM column corresponds to 239 in the UOM_ID column.\n",
    "\n",
    "Both the columns \"UOM\" and \"UOM_ID\" are mapping the same concepts, so proceeding further to drop the column."
   ]
  },
  {
   "cell_type": "code",
   "execution_count": 20,
   "metadata": {},
   "outputs": [],
   "source": [
    "#Removing the column \"UOM_ID\"\n",
    "Crime_Statistics.drop(columns=['UOM_ID'], inplace=True)"
   ]
  },
  {
   "cell_type": "markdown",
   "metadata": {},
   "source": [
    "### Column #8: SCALAR_FACTOR"
   ]
  },
  {
   "cell_type": "code",
   "execution_count": 21,
   "metadata": {},
   "outputs": [
    {
     "data": {
      "text/plain": [
       "array(['units'], dtype=object)"
      ]
     },
     "execution_count": 21,
     "metadata": {},
     "output_type": "execute_result"
    }
   ],
   "source": [
    "#Checking unique values for \"SCALAR_FACTOR\" column\n",
    "Crime_Statistics['SCALAR_FACTOR'].unique()"
   ]
  },
  {
   "cell_type": "markdown",
   "metadata": {},
   "source": [
    "The column \"SCALAR_FACTOR\" might indicate that the column represents measurements in units.\n",
    "\n",
    "This column does not provide any additional information and does not add the value to the dataset, so it's best to drop the column."
   ]
  },
  {
   "cell_type": "code",
   "execution_count": 22,
   "metadata": {},
   "outputs": [],
   "source": [
    "#Removing the column \"SCALAR_FACTOR\"\n",
    "Crime_Statistics.drop(columns=['SCALAR_FACTOR'], inplace=True)"
   ]
  },
  {
   "cell_type": "markdown",
   "metadata": {},
   "source": [
    "### Column #9: SCALAR_ID"
   ]
  },
  {
   "cell_type": "code",
   "execution_count": 23,
   "metadata": {},
   "outputs": [
    {
     "data": {
      "text/plain": [
       "array([0])"
      ]
     },
     "execution_count": 23,
     "metadata": {},
     "output_type": "execute_result"
    }
   ],
   "source": [
    "#Checking unique values for \"SCALAR_ID\" column\n",
    "Crime_Statistics['SCALAR_ID'].unique()"
   ]
  },
  {
   "cell_type": "markdown",
   "metadata": {},
   "source": [
    "The column \"SCALAR_ID\" might be an identifier or code that corresponds to a ype of measurement or factor that applies universally (\"units\").\n",
    "\n",
    "This column does not provide any additional information and does not add the value to the dataset, so it's best to drop the column."
   ]
  },
  {
   "cell_type": "code",
   "execution_count": 24,
   "metadata": {},
   "outputs": [],
   "source": [
    "#Removing the column \"SCALAR_ID\"\n",
    "Crime_Statistics.drop(columns=['SCALAR_ID'], inplace=True)"
   ]
  },
  {
   "cell_type": "markdown",
   "metadata": {},
   "source": [
    "### Column #10: VECTOR"
   ]
  },
  {
   "cell_type": "code",
   "execution_count": 25,
   "metadata": {},
   "outputs": [
    {
     "data": {
      "text/plain": [
       "array(['v44348247', 'v44396346', 'v44391402', ..., 'v1564070709',\n",
       "       'v1564070710', 'v1564070711'], dtype=object)"
      ]
     },
     "execution_count": 25,
     "metadata": {},
     "output_type": "execute_result"
    }
   ],
   "source": [
    "#Checking unique values for \"VECTOR\" column\n",
    "Crime_Statistics['VECTOR'].unique()"
   ]
  },
  {
   "cell_type": "markdown",
   "metadata": {},
   "source": [
    "The column \"VECTOR\" likely is the identifiers for specific events, categories, or data points. These IDs could be useful for tracking or linking specific data points to detailed records. It may also indicate different categories or events related to crime data, each with its own unique identifier."
   ]
  },
  {
   "cell_type": "markdown",
   "metadata": {},
   "source": [
    "### Column #11: COORDINATE"
   ]
  },
  {
   "cell_type": "code",
   "execution_count": 26,
   "metadata": {},
   "outputs": [
    {
     "data": {
      "text/plain": [
       "array(['1.1.1', '1.1.2', '1.1.3', ..., '51.321.12', '51.321.13',\n",
       "       '51.321.14'], dtype=object)"
      ]
     },
     "execution_count": 26,
     "metadata": {},
     "output_type": "execute_result"
    }
   ],
   "source": [
    "#Checking unique values for \"COORDINATE\" column\n",
    "Crime_Statistics['COORDINATE'].unique()"
   ]
  },
  {
   "cell_type": "markdown",
   "metadata": {},
   "source": [
    "The \"Coordinates\" column appears to contain values like '1.1.1', '1.1.2', and '51.321.12', which seem to follow a structured format. These could be geographic coordinates or hierarchical codes that represent specific locations or areas where crimes occurred.\n",
    "\n",
    "- Hierarchical Code: The format 'x.x.x' could indicate a hierarchical or categorized system, for instance, it could represent regions or zones in a geographic area.\n",
    "- Geographic Coordinates: These could also represent specific locations, though typically, geographic coordinates would use latitude and longitude (45.4215, -75.6972), so this format seems less likely to be direct GPS coordinates."
   ]
  },
  {
   "cell_type": "markdown",
   "metadata": {},
   "source": [
    "### Column #12: VALUE"
   ]
  },
  {
   "cell_type": "code",
   "execution_count": 27,
   "metadata": {},
   "outputs": [
    {
     "data": {
      "text/plain": [
       "array([ 2.608741e+06,  8.090320e+03, -3.590000e+00, ...,  5.111600e+02,\n",
       "        1.494850e+03,  2.360300e+02])"
      ]
     },
     "execution_count": 27,
     "metadata": {},
     "output_type": "execute_result"
    }
   ],
   "source": [
    "#Checking unique values for \"VALUE\" column\n",
    "Crime_Statistics['VALUE'].unique()"
   ]
  },
  {
   "cell_type": "markdown",
   "metadata": {},
   "source": [
    "The column \"VALUE\" contains a range of numerical data, including very large values (such as 2.68854e+06), smaller values (such as 8.91512e+03), and NaN (missing values).\n",
    "- Large Values are likely counts, totals, or other aggregated values. The scientific notation (e+06) represents values in the millions.\n",
    "- Smaller Values might represent smaller counts or different units of measurement.\n",
    "- NaN (Not a Number)represents missing or unavailable data for some records."
   ]
  },
  {
   "cell_type": "markdown",
   "metadata": {},
   "source": [
    "### Column #13: STATUS"
   ]
  },
  {
   "cell_type": "code",
   "execution_count": 28,
   "metadata": {},
   "outputs": [
    {
     "data": {
      "text/plain": [
       "array([nan, '..', '0s'], dtype=object)"
      ]
     },
     "execution_count": 28,
     "metadata": {},
     "output_type": "execute_result"
    }
   ],
   "source": [
    "#Checking unique values for \"STATUS\" column\n",
    "Crime_Statistics['STATUS'].unique()"
   ]
  },
  {
   "cell_type": "markdown",
   "metadata": {},
   "source": [
    "The \"STATUS\" column contains the following types of values:\n",
    "\n",
    "NaN: Represents missing or undefined data, or indicates that no status was recorded for the entry.\n",
    "\n",
    "'..': Used to represent suppressed data, typically for populations below 1,000 or data that cannot be disclosed due to privacy or reliability concerns.\n",
    "\n",
    "'0s': Represents very small values (e.g., near zero but not exactly zero), often used for occurrences too insignificant to report numerically.\n",
    "\n",
    "For now, it is best to retain this column as is, as it may be needed when handling missing data."
   ]
  },
  {
   "cell_type": "code",
   "execution_count": 29,
   "metadata": {},
   "outputs": [
    {
     "name": "stdout",
     "output_type": "stream",
     "text": [
      "STATUS\n",
      "NaN    3720769\n",
      "..     1632698\n",
      "0s       16122\n",
      "Name: count, dtype: int64\n"
     ]
    }
   ],
   "source": [
    "#Counting the occurrences of 'NaN', '..', and '0s' in the STATUS column\n",
    "Status_MissingValuesCount = Crime_Statistics['STATUS'].value_counts(dropna=False)\n",
    "\n",
    "#Displaying the count of each status\n",
    "print(Status_MissingValuesCount)"
   ]
  },
  {
   "cell_type": "markdown",
   "metadata": {},
   "source": [
    "### Column #14: SYMBOL"
   ]
  },
  {
   "cell_type": "code",
   "execution_count": 30,
   "metadata": {},
   "outputs": [
    {
     "data": {
      "text/plain": [
       "array([nan])"
      ]
     },
     "execution_count": 30,
     "metadata": {},
     "output_type": "execute_result"
    }
   ],
   "source": [
    "#Checking unique values for \"SYMBOL\" column\n",
    "Crime_Statistics['SYMBOL'].unique()"
   ]
  },
  {
   "cell_type": "markdown",
   "metadata": {},
   "source": [
    "The column \"SYMBOL\" has no data, so dropping the column is the best option."
   ]
  },
  {
   "cell_type": "code",
   "execution_count": 31,
   "metadata": {},
   "outputs": [],
   "source": [
    "#Removing the column \"SCALAR_ID\"\n",
    "Crime_Statistics.drop(columns=['SYMBOL'], inplace=True)"
   ]
  },
  {
   "cell_type": "markdown",
   "metadata": {},
   "source": [
    "### Column #15: TERMINATED"
   ]
  },
  {
   "cell_type": "code",
   "execution_count": 32,
   "metadata": {},
   "outputs": [
    {
     "data": {
      "text/plain": [
       "array([nan, 't'], dtype=object)"
      ]
     },
     "execution_count": 32,
     "metadata": {},
     "output_type": "execute_result"
    }
   ],
   "source": [
    "#Checking unique values for \"TERMINATED\" column\n",
    "Crime_Statistics['TERMINATED'].unique()"
   ]
  },
  {
   "cell_type": "markdown",
   "metadata": {},
   "source": [
    "The column \"TERMINATED\" contains either missing value or \"t\" which likely stands for \"termination\" of some case, contract, or event. Missing value could possibly represent \"non-termination of some case, contract or event\".\n",
    "\n",
    "This information could possibly provide important information in the analysis. Filling missing value with \"No\" and renaming \"t\" to \"Yes\" would be best approach for now.\n",
    "\n"
   ]
  },
  {
   "cell_type": "code",
   "execution_count": 33,
   "metadata": {},
   "outputs": [],
   "source": [
    "#Standardizing 't' to a more descriptive label as \"Terminated\"\n",
    "Crime_Statistics['TERMINATED'] = Crime_Statistics['TERMINATED'].replace('t', 'Yes')"
   ]
  },
  {
   "cell_type": "code",
   "execution_count": 34,
   "metadata": {},
   "outputs": [],
   "source": [
    "# Replace NaN values with 'No' in the TERMINATED column\n",
    "Crime_Statistics['TERMINATED'] = Crime_Statistics['TERMINATED'].fillna('No')"
   ]
  },
  {
   "cell_type": "code",
   "execution_count": 35,
   "metadata": {},
   "outputs": [
    {
     "data": {
      "text/plain": [
       "array(['No', 'Yes'], dtype=object)"
      ]
     },
     "execution_count": 35,
     "metadata": {},
     "output_type": "execute_result"
    }
   ],
   "source": [
    "#Verifying the unique values for \"Terminated\" column after replacing values\n",
    "Crime_Statistics['TERMINATED'].unique()"
   ]
  },
  {
   "cell_type": "markdown",
   "metadata": {},
   "source": [
    "### Column #16: DECIMALS"
   ]
  },
  {
   "cell_type": "code",
   "execution_count": 36,
   "metadata": {},
   "outputs": [
    {
     "data": {
      "text/plain": [
       "array([0, 2])"
      ]
     },
     "execution_count": 36,
     "metadata": {},
     "output_type": "execute_result"
    }
   ],
   "source": [
    "#Checking unique values for \"DECIMALS\" column\n",
    "Crime_Statistics['DECIMALS'].unique()"
   ]
  },
  {
   "cell_type": "markdown",
   "metadata": {},
   "source": [
    "The column \"DECIMALS\" represent number of decimal places used in the numerical data in another column. \n",
    "- 0: Numbers are presented as whole numbers.\n",
    "- 2: Numbers are presented with two decimal places. \n",
    "\n",
    "This data is merely metadata and does not contribute much to the analysis, so dropping it would be the option.\n"
   ]
  },
  {
   "cell_type": "code",
   "execution_count": 37,
   "metadata": {},
   "outputs": [],
   "source": [
    "#Removing the column \"DECIMALS\"\n",
    "Crime_Statistics.drop(columns=['DECIMALS'], inplace=True)"
   ]
  },
  {
   "cell_type": "markdown",
   "metadata": {},
   "source": [
    "## 5. Validate the dataset after the modification"
   ]
  },
  {
   "cell_type": "code",
   "execution_count": 38,
   "metadata": {},
   "outputs": [
    {
     "data": {
      "text/html": [
       "<div>\n",
       "<style scoped>\n",
       "    .dataframe tbody tr th:only-of-type {\n",
       "        vertical-align: middle;\n",
       "    }\n",
       "\n",
       "    .dataframe tbody tr th {\n",
       "        vertical-align: top;\n",
       "    }\n",
       "\n",
       "    .dataframe thead th {\n",
       "        text-align: right;\n",
       "    }\n",
       "</style>\n",
       "<table border=\"1\" class=\"dataframe\">\n",
       "  <thead>\n",
       "    <tr style=\"text-align: right;\">\n",
       "      <th></th>\n",
       "      <th>Year</th>\n",
       "      <th>GEO</th>\n",
       "      <th>Violations</th>\n",
       "      <th>Statistics</th>\n",
       "      <th>UOM</th>\n",
       "      <th>VECTOR</th>\n",
       "      <th>COORDINATE</th>\n",
       "      <th>VALUE</th>\n",
       "      <th>STATUS</th>\n",
       "      <th>TERMINATED</th>\n",
       "    </tr>\n",
       "  </thead>\n",
       "  <tbody>\n",
       "    <tr>\n",
       "      <th>1875321</th>\n",
       "      <td>2005</td>\n",
       "      <td>Canada</td>\n",
       "      <td>Total, all violations [0]</td>\n",
       "      <td>Actual incidents</td>\n",
       "      <td>Number</td>\n",
       "      <td>v44348247</td>\n",
       "      <td>1.1.1</td>\n",
       "      <td>2608741.00</td>\n",
       "      <td>NaN</td>\n",
       "      <td>No</td>\n",
       "    </tr>\n",
       "    <tr>\n",
       "      <th>1875322</th>\n",
       "      <td>2005</td>\n",
       "      <td>Canada</td>\n",
       "      <td>Total, all violations [0]</td>\n",
       "      <td>Rate per 100,000 population</td>\n",
       "      <td>Rate</td>\n",
       "      <td>v44396346</td>\n",
       "      <td>1.1.2</td>\n",
       "      <td>8090.32</td>\n",
       "      <td>NaN</td>\n",
       "      <td>No</td>\n",
       "    </tr>\n",
       "    <tr>\n",
       "      <th>1875323</th>\n",
       "      <td>2005</td>\n",
       "      <td>Canada</td>\n",
       "      <td>Total, all violations [0]</td>\n",
       "      <td>Percentage change in rate</td>\n",
       "      <td>Percent</td>\n",
       "      <td>v44391402</td>\n",
       "      <td>1.1.3</td>\n",
       "      <td>-3.59</td>\n",
       "      <td>NaN</td>\n",
       "      <td>No</td>\n",
       "    </tr>\n",
       "    <tr>\n",
       "      <th>1875324</th>\n",
       "      <td>2005</td>\n",
       "      <td>Canada</td>\n",
       "      <td>Total, all violations [0]</td>\n",
       "      <td>Percentage contribution to the Crime Severity ...</td>\n",
       "      <td>Percent</td>\n",
       "      <td>v1545644596</td>\n",
       "      <td>1.1.17</td>\n",
       "      <td>100.00</td>\n",
       "      <td>NaN</td>\n",
       "      <td>No</td>\n",
       "    </tr>\n",
       "    <tr>\n",
       "      <th>1875325</th>\n",
       "      <td>2005</td>\n",
       "      <td>Canada</td>\n",
       "      <td>Total, all violations [0]</td>\n",
       "      <td>Unfounded incidents</td>\n",
       "      <td>Number</td>\n",
       "      <td>v1000149311</td>\n",
       "      <td>1.1.15</td>\n",
       "      <td>NaN</td>\n",
       "      <td>..</td>\n",
       "      <td>No</td>\n",
       "    </tr>\n",
       "  </tbody>\n",
       "</table>\n",
       "</div>"
      ],
      "text/plain": [
       "         Year     GEO                 Violations  \\\n",
       "1875321  2005  Canada  Total, all violations [0]   \n",
       "1875322  2005  Canada  Total, all violations [0]   \n",
       "1875323  2005  Canada  Total, all violations [0]   \n",
       "1875324  2005  Canada  Total, all violations [0]   \n",
       "1875325  2005  Canada  Total, all violations [0]   \n",
       "\n",
       "                                                Statistics      UOM  \\\n",
       "1875321                                   Actual incidents   Number   \n",
       "1875322                        Rate per 100,000 population     Rate   \n",
       "1875323                          Percentage change in rate  Percent   \n",
       "1875324  Percentage contribution to the Crime Severity ...  Percent   \n",
       "1875325                                Unfounded incidents   Number   \n",
       "\n",
       "              VECTOR COORDINATE       VALUE STATUS TERMINATED  \n",
       "1875321    v44348247      1.1.1  2608741.00    NaN         No  \n",
       "1875322    v44396346      1.1.2     8090.32    NaN         No  \n",
       "1875323    v44391402      1.1.3       -3.59    NaN         No  \n",
       "1875324  v1545644596     1.1.17      100.00    NaN         No  \n",
       "1875325  v1000149311     1.1.15         NaN     ..         No  "
      ]
     },
     "execution_count": 38,
     "metadata": {},
     "output_type": "execute_result"
    }
   ],
   "source": [
    "#Displaying the first five rows after the modification\n",
    "Crime_Statistics.head(5)"
   ]
  },
  {
   "cell_type": "code",
   "execution_count": 39,
   "metadata": {},
   "outputs": [
    {
     "data": {
      "text/plain": [
       "(5369589, 10)"
      ]
     },
     "execution_count": 39,
     "metadata": {},
     "output_type": "execute_result"
    }
   ],
   "source": [
    "#Checking the shape of the dataset after the modification\n",
    "Crime_Statistics.shape"
   ]
  },
  {
   "cell_type": "markdown",
   "metadata": {},
   "source": [
    "The new dataset after the modification contains 5369589 number of rows and 10 columns."
   ]
  },
  {
   "cell_type": "code",
   "execution_count": 40,
   "metadata": {},
   "outputs": [
    {
     "data": {
      "text/plain": [
       "Index(['Year', 'GEO', 'Violations', 'Statistics', 'UOM', 'VECTOR',\n",
       "       'COORDINATE', 'VALUE', 'STATUS', 'TERMINATED'],\n",
       "      dtype='object')"
      ]
     },
     "execution_count": 40,
     "metadata": {},
     "output_type": "execute_result"
    }
   ],
   "source": [
    "#Checking the columns of the dataset after the modification\n",
    "Crime_Statistics.columns"
   ]
  },
  {
   "cell_type": "markdown",
   "metadata": {},
   "source": [
    "The dataset contains the following columns: Year', 'GEO', 'Violations', 'Statistics', 'UOM', 'VECTOR', 'COORDINATE', 'VALUE', STATUS, and 'TERMINATED'."
   ]
  },
  {
   "cell_type": "markdown",
   "metadata": {},
   "source": [
    "## 6. Check for Missing Values, and Handle if any"
   ]
  },
  {
   "cell_type": "code",
   "execution_count": 41,
   "metadata": {},
   "outputs": [
    {
     "name": "stdout",
     "output_type": "stream",
     "text": [
      "Year                0\n",
      "GEO                 0\n",
      "Violations          0\n",
      "Statistics          0\n",
      "UOM                 0\n",
      "VECTOR              0\n",
      "COORDINATE          0\n",
      "VALUE         1648820\n",
      "STATUS        3720769\n",
      "TERMINATED          0\n",
      "dtype: int64\n"
     ]
    }
   ],
   "source": [
    "#Checking for missing values\n",
    "print(Crime_Statistics.isnull().sum())"
   ]
  },
  {
   "cell_type": "markdown",
   "metadata": {},
   "source": [
    "The columns \"VALUE\" has 1648820 missing values. Let's go deeper in understanding the missing values in the dataset."
   ]
  },
  {
   "cell_type": "code",
   "execution_count": 42,
   "metadata": {},
   "outputs": [
    {
     "data": {
      "text/html": [
       "<div>\n",
       "<style scoped>\n",
       "    .dataframe tbody tr th:only-of-type {\n",
       "        vertical-align: middle;\n",
       "    }\n",
       "\n",
       "    .dataframe tbody tr th {\n",
       "        vertical-align: top;\n",
       "    }\n",
       "\n",
       "    .dataframe thead th {\n",
       "        text-align: right;\n",
       "    }\n",
       "</style>\n",
       "<table border=\"1\" class=\"dataframe\">\n",
       "  <thead>\n",
       "    <tr style=\"text-align: right;\">\n",
       "      <th></th>\n",
       "      <th>Year</th>\n",
       "      <th>GEO</th>\n",
       "      <th>Violations</th>\n",
       "      <th>Statistics</th>\n",
       "      <th>UOM</th>\n",
       "      <th>VECTOR</th>\n",
       "      <th>COORDINATE</th>\n",
       "      <th>VALUE</th>\n",
       "      <th>STATUS</th>\n",
       "      <th>TERMINATED</th>\n",
       "    </tr>\n",
       "  </thead>\n",
       "  <tbody>\n",
       "    <tr>\n",
       "      <th>1875325</th>\n",
       "      <td>2005</td>\n",
       "      <td>Canada</td>\n",
       "      <td>Total, all violations [0]</td>\n",
       "      <td>Unfounded incidents</td>\n",
       "      <td>Number</td>\n",
       "      <td>v1000149311</td>\n",
       "      <td>1.1.15</td>\n",
       "      <td>NaN</td>\n",
       "      <td>..</td>\n",
       "      <td>No</td>\n",
       "    </tr>\n",
       "    <tr>\n",
       "      <th>1875326</th>\n",
       "      <td>2005</td>\n",
       "      <td>Canada</td>\n",
       "      <td>Total, all violations [0]</td>\n",
       "      <td>Percent unfounded</td>\n",
       "      <td>Percent</td>\n",
       "      <td>v1000149312</td>\n",
       "      <td>1.1.16</td>\n",
       "      <td>NaN</td>\n",
       "      <td>..</td>\n",
       "      <td>No</td>\n",
       "    </tr>\n",
       "    <tr>\n",
       "      <th>1875342</th>\n",
       "      <td>2005</td>\n",
       "      <td>Canada</td>\n",
       "      <td>Total, all Criminal Code violations (including...</td>\n",
       "      <td>Unfounded incidents</td>\n",
       "      <td>Number</td>\n",
       "      <td>v1000149313</td>\n",
       "      <td>1.2.15</td>\n",
       "      <td>NaN</td>\n",
       "      <td>..</td>\n",
       "      <td>No</td>\n",
       "    </tr>\n",
       "    <tr>\n",
       "      <th>1875343</th>\n",
       "      <td>2005</td>\n",
       "      <td>Canada</td>\n",
       "      <td>Total, all Criminal Code violations (including...</td>\n",
       "      <td>Percent unfounded</td>\n",
       "      <td>Percent</td>\n",
       "      <td>v1000149314</td>\n",
       "      <td>1.2.16</td>\n",
       "      <td>NaN</td>\n",
       "      <td>..</td>\n",
       "      <td>No</td>\n",
       "    </tr>\n",
       "    <tr>\n",
       "      <th>1875359</th>\n",
       "      <td>2005</td>\n",
       "      <td>Canada</td>\n",
       "      <td>Total, all Criminal Code violations (excluding...</td>\n",
       "      <td>Unfounded incidents</td>\n",
       "      <td>Number</td>\n",
       "      <td>v1000149315</td>\n",
       "      <td>1.3.15</td>\n",
       "      <td>NaN</td>\n",
       "      <td>..</td>\n",
       "      <td>No</td>\n",
       "    </tr>\n",
       "  </tbody>\n",
       "</table>\n",
       "</div>"
      ],
      "text/plain": [
       "         Year     GEO                                         Violations  \\\n",
       "1875325  2005  Canada                          Total, all violations [0]   \n",
       "1875326  2005  Canada                          Total, all violations [0]   \n",
       "1875342  2005  Canada  Total, all Criminal Code violations (including...   \n",
       "1875343  2005  Canada  Total, all Criminal Code violations (including...   \n",
       "1875359  2005  Canada  Total, all Criminal Code violations (excluding...   \n",
       "\n",
       "                  Statistics      UOM       VECTOR COORDINATE  VALUE STATUS  \\\n",
       "1875325  Unfounded incidents   Number  v1000149311     1.1.15    NaN     ..   \n",
       "1875326    Percent unfounded  Percent  v1000149312     1.1.16    NaN     ..   \n",
       "1875342  Unfounded incidents   Number  v1000149313     1.2.15    NaN     ..   \n",
       "1875343    Percent unfounded  Percent  v1000149314     1.2.16    NaN     ..   \n",
       "1875359  Unfounded incidents   Number  v1000149315     1.3.15    NaN     ..   \n",
       "\n",
       "        TERMINATED  \n",
       "1875325         No  \n",
       "1875326         No  \n",
       "1875342         No  \n",
       "1875343         No  \n",
       "1875359         No  "
      ]
     },
     "execution_count": 42,
     "metadata": {},
     "output_type": "execute_result"
    }
   ],
   "source": [
    "#Creating a new DataFrame with rows that have missing 'VALUE'\n",
    "MissingValueDataFrame = Crime_Statistics[Crime_Statistics['VALUE'].isna()]\n",
    "\n",
    "#Displaying the first five rows of new DataFrame\n",
    "MissingValueDataFrame.head(5)"
   ]
  },
  {
   "cell_type": "code",
   "execution_count": 43,
   "metadata": {},
   "outputs": [
    {
     "data": {
      "text/plain": [
       "(1648820, 10)"
      ]
     },
     "execution_count": 43,
     "metadata": {},
     "output_type": "execute_result"
    }
   ],
   "source": [
    "#Checking the shape of Missing Value dataset\n",
    "MissingValueDataFrame.shape"
   ]
  },
  {
   "cell_type": "code",
   "execution_count": 44,
   "metadata": {},
   "outputs": [
    {
     "name": "stdout",
     "output_type": "stream",
     "text": [
      "Statistics\n",
      "Percent unfounded                                                            250429\n",
      "Percentage change in rate                                                    214100\n",
      "Unfounded incidents                                                          203631\n",
      "Percentage contribution to the Crime Severity Index (CSI)                     83836\n",
      "Rate, adult charged per 100,000 population aged 18 years and over             69881\n",
      "Rate, total persons charged per 100,000 population aged 12 years and over     69874\n",
      "Rate per 100,000 population                                                   69855\n",
      "Rate, youth charged per 100,000 population aged 12 to 17 years                69715\n",
      "Rate, youth not charged per 100,000 population aged 12 to 17 years            69715\n",
      "Cleared by charge                                                             68473\n",
      "Cleared otherwise                                                             68473\n",
      "Total, persons charged                                                        68473\n",
      "Total, adult charged                                                          68473\n",
      "Total, youth charged                                                          68473\n",
      "Actual incidents                                                              68473\n",
      "Total, youth not charged                                                      68473\n",
      "Total cleared                                                                 68473\n",
      "Name: count, dtype: int64\n"
     ]
    }
   ],
   "source": [
    "#Counting the occurrences of total number of rows for missing values\n",
    "MissingValuesCount_Statistics = MissingValueDataFrame['Statistics'].value_counts(dropna=False)\n",
    "\n",
    "#Displaying the count of each status\n",
    "print(MissingValuesCount_Statistics)"
   ]
  },
  {
   "cell_type": "markdown",
   "metadata": {},
   "source": [
    "The data above shows the breakdown of the number of rows with missing values for each statistics."
   ]
  },
  {
   "cell_type": "markdown",
   "metadata": {},
   "source": [
    "Now, let's analyze the breakdown of the number of rows corresponding to each statistics."
   ]
  },
  {
   "cell_type": "code",
   "execution_count": 45,
   "metadata": {},
   "outputs": [
    {
     "name": "stdout",
     "output_type": "stream",
     "text": [
      "Statistics\n",
      "Actual incidents                                                             315909\n",
      "Total, persons charged                                                       315909\n",
      "Total, youth not charged                                                     315909\n",
      "Rate, youth charged per 100,000 population aged 12 to 17 years               315909\n",
      "Total, youth charged                                                         315909\n",
      "Rate, adult charged per 100,000 population aged 18 years and over            315909\n",
      "Total, adult charged                                                         315909\n",
      "Rate, total persons charged per 100,000 population aged 12 years and over    315909\n",
      "Cleared otherwise                                                            315909\n",
      "Rate per 100,000 population                                                  315909\n",
      "Cleared by charge                                                            315909\n",
      "Total cleared                                                                315909\n",
      "Percentage change in rate                                                    315909\n",
      "Rate, youth not charged per 100,000 population aged 12 to 17 years           315909\n",
      "Percent unfounded                                                            315621\n",
      "Unfounded incidents                                                          315621\n",
      "Percentage contribution to the Crime Severity Index (CSI)                    315621\n",
      "Name: count, dtype: int64\n"
     ]
    }
   ],
   "source": [
    "#Counting the occurrences of total number of rows for each Statistics in the dataset\n",
    "ValuesCount = Crime_Statistics['Statistics'].value_counts(dropna=False)\n",
    "\n",
    "#Displaying the count of each status\n",
    "print(ValuesCount)"
   ]
  },
  {
   "cell_type": "markdown",
   "metadata": {},
   "source": [
    "Going further, let's analyze the breakdown of the number of rows for each statistic based on their status: NaN, '..', and 0s."
   ]
  },
  {
   "cell_type": "code",
   "execution_count": 46,
   "metadata": {},
   "outputs": [
    {
     "name": "stdout",
     "output_type": "stream",
     "text": [
      "STATUS                                                  ..     0s     NaN\n",
      "Statistics                                                               \n",
      "Actual incidents                                     68473      0  247436\n",
      "Cleared by charge                                    68473      0  247436\n",
      "Cleared otherwise                                    68473      0  247436\n",
      "Percent unfounded                                   250429      0   65192\n",
      "Percentage change in rate                           214094      6  101809\n",
      "Percentage contribution to the Crime Severity I...   68185  15651  231785\n",
      "Rate per 100,000 population                          69715    140  246054\n",
      "Rate, adult charged per 100,000 population aged...   69715    166  246028\n",
      "Rate, total persons charged per 100,000 populat...   69715    159  246035\n",
      "Rate, youth charged per 100,000 population aged...   69715      0  246194\n",
      "Rate, youth not charged per 100,000 population ...   69715      0  246194\n",
      "Total cleared                                        68473      0  247436\n",
      "Total, adult charged                                 68473      0  247436\n",
      "Total, persons charged                               68473      0  247436\n",
      "Total, youth charged                                 68473      0  247436\n",
      "Total, youth not charged                             68473      0  247436\n",
      "Unfounded incidents                                 203631      0  111990\n"
     ]
    }
   ],
   "source": [
    "#Grouping by 'Statistics' and count occurrences of each status (NaN, '..', 0s)\n",
    "StatusCountbyStatistics = Crime_Statistics.groupby('Statistics')['STATUS'].value_counts(dropna=False).unstack(fill_value=0)\n",
    "\n",
    "#Displaying the status counts for each statistic\n",
    "print(StatusCountbyStatistics)"
   ]
  },
  {
   "cell_type": "markdown",
   "metadata": {},
   "source": [
    "By comparing the number of rows with missing values, we observe that the missing values for the statuses represented as '0s' and '..' contribute significantly to the overall count of missing data. While '0s' indicates an actual recorded value of zero, '..' typically represents unavailable or unreported data. This distinction highlights that some rows are incomplete due to a lack of reported data ('..'), while others explicitly indicate a zero occurrence ('0s'), affecting how we interpret and handle the missing data in the dataset."
   ]
  },
  {
   "cell_type": "markdown",
   "metadata": {},
   "source": [
    "Before moving further on handling missing data, let's first verify the year and number of rows is missing data for unfounded incident."
   ]
  },
  {
   "cell_type": "code",
   "execution_count": 47,
   "metadata": {},
   "outputs": [
    {
     "data": {
      "text/plain": [
       "Year\n",
       "2005    15759\n",
       "2006    15759\n",
       "2007    15759\n",
       "2008    15759\n",
       "2009    15759\n",
       "2010    15759\n",
       "2011    15759\n",
       "2012    15759\n",
       "2013    15759\n",
       "2014    15759\n",
       "2015    15759\n",
       "2016    17784\n",
       "2017     5534\n",
       "2018     2384\n",
       "2019     2384\n",
       "2020     2025\n",
       "2021      171\n",
       "Name: count, dtype: int64"
      ]
     },
     "execution_count": 47,
     "metadata": {},
     "output_type": "execute_result"
    }
   ],
   "source": [
    "#Filtering rows for 'Statistics' == 'Actual incidents' from MissingValueDataframe\n",
    "UnfoundedIncidentsMissing = MissingValueDataFrame[MissingValueDataFrame['Statistics'] == 'Unfounded incidents']\n",
    "\n",
    "#Counting the number of missing rows per year for 'Actual incidents'\n",
    "UnfoundedIncidentsMissing['Year'].value_counts().sort_index()"
   ]
  },
  {
   "cell_type": "markdown",
   "metadata": {},
   "source": [
    "Let's check the count of rows for Unfounded Incidents for every year from 2005 to 2023"
   ]
  },
  {
   "cell_type": "code",
   "execution_count": 48,
   "metadata": {},
   "outputs": [
    {
     "data": {
      "text/plain": [
       "Year\n",
       "2005    15759\n",
       "2006    15759\n",
       "2007    15759\n",
       "2008    15759\n",
       "2009    15759\n",
       "2010    15759\n",
       "2011    15759\n",
       "2012    15759\n",
       "2013    15759\n",
       "2014    15759\n",
       "2015    15759\n",
       "2016    17784\n",
       "2017    17784\n",
       "2018    17784\n",
       "2019    17784\n",
       "2020    17784\n",
       "2021    17784\n",
       "2022    17784\n",
       "2023    17784\n",
       "Name: count, dtype: int64"
      ]
     },
     "execution_count": 48,
     "metadata": {},
     "output_type": "execute_result"
    }
   ],
   "source": [
    "#Filtering rows for 'Statistics' == 'Actual incidents' from Crime_Statistics dataframe\n",
    "UnfoundedIncidents = Crime_Statistics[Crime_Statistics['Statistics'] == 'Unfounded incidents']\n",
    "\n",
    "#Counting the number of rows per year for 'Actual incidents'\n",
    "UnfoundedIncidents['Year'].value_counts().sort_index()"
   ]
  },
  {
   "cell_type": "markdown",
   "metadata": {},
   "source": [
    "Let's calculate the percentage of missing data for every year."
   ]
  },
  {
   "cell_type": "code",
   "execution_count": 49,
   "metadata": {},
   "outputs": [
    {
     "name": "stdout",
     "output_type": "stream",
     "text": [
      "Percentage of missing data for each year for 'Unfounded incidents':\n",
      "Year 2005: 100.00%\n",
      "Year 2006: 100.00%\n",
      "Year 2007: 100.00%\n",
      "Year 2008: 100.00%\n",
      "Year 2009: 100.00%\n",
      "Year 2010: 100.00%\n",
      "Year 2011: 100.00%\n",
      "Year 2012: 100.00%\n",
      "Year 2013: 100.00%\n",
      "Year 2014: 100.00%\n",
      "Year 2015: 100.00%\n",
      "Year 2016: 100.00%\n",
      "Year 2017: 31.12%\n",
      "Year 2018: 13.41%\n",
      "Year 2019: 13.41%\n",
      "Year 2020: 11.39%\n",
      "Year 2021: 0.96%\n",
      "Year 2022: 0.00%\n",
      "Year 2023: 0.00%\n"
     ]
    }
   ],
   "source": [
    "#Initializing an empty dictionary to store missing percentage for each year\n",
    "UnfoundedIncidentMissingPercentageDictionary = {}\n",
    "\n",
    "#Looping through each unique year\n",
    "for year in UnfoundedIncidents['Year'].unique():\n",
    "    \n",
    "    #Counting the number of missing rows for the current year\n",
    "    MissingUnfoundedIncidentRows = UnfoundedIncidentsMissing[UnfoundedIncidentsMissing['Year'] == year].shape[0]\n",
    "    \n",
    "    #Counting the total number of rows for the current year\n",
    "    TotalUnfoundedIncidentRows = UnfoundedIncidents[UnfoundedIncidents['Year'] == year].shape[0]\n",
    "    \n",
    "    #Calculating the percentage of missing rows\n",
    "    MissingUnfoundedIncidentPercentage = (MissingUnfoundedIncidentRows / TotalUnfoundedIncidentRows) * 100 if TotalUnfoundedIncidentRows != 0 else 0\n",
    "    \n",
    "    #Storing the result in the dictionary\n",
    "    UnfoundedIncidentMissingPercentageDictionary[year] = MissingUnfoundedIncidentPercentage\n",
    "\n",
    "#Displaying the result\n",
    "print(\"Percentage of missing data for each year for 'Unfounded incidents':\")\n",
    "for year, percentage in UnfoundedIncidentMissingPercentageDictionary.items():\n",
    "    print(f\"Year {year}: {percentage:.2f}%\")"
   ]
  },
  {
   "cell_type": "markdown",
   "metadata": {},
   "source": [
    "The majority of data from the earlier years (2005-2016) for 'Unfounded incidents' is missing. However, starting from 2017, there is a steady decrease in missing data, with 2022 and 2023 showing no missing data at all."
   ]
  },
  {
   "cell_type": "markdown",
   "metadata": {},
   "source": [
    "Given that the majority of the data for 'Unfounded incidents' from 2005 to 2021 is missing, the best approach here is to drop the rows for these years, ensuring that the analysis only includes years with complete and relevant data. This allows for a more focused and accurate visualization."
   ]
  },
  {
   "cell_type": "code",
   "execution_count": 50,
   "metadata": {},
   "outputs": [],
   "source": [
    "#Dropping rows for 'Unfounded incidents' and 'Percent unfounded' for years up to 2021\n",
    "Crime_Statistics = Crime_Statistics[\n",
    "    ~((Crime_Statistics['Statistics'].isin(['Unfounded incidents', 'Percent unfounded'])) & (Crime_Statistics['Year'] <= 2021))\n",
    "]"
   ]
  },
  {
   "cell_type": "markdown",
   "metadata": {},
   "source": [
    "The dataset has been filtered to include only the years 2022 and 2023. These years have no missing values for 'Unfounded incidents' 'Percent unfounded', making them the most reliable and up-to-date years for analysis.\n",
    "\n",
    "By focusing solely on 2022 and 2023, the visualizations and subsequent analysis will be based on complete data, ensuring accuracy and providing a clearer understanding of the current state of 'Unfounded incidents'. This approach also helps to avoid any skewing or inaccuracies that may arise from missing data in the earlier years."
   ]
  },
  {
   "cell_type": "markdown",
   "metadata": {},
   "source": [
    "Now, let's first verify from which year is the data missing for actual incident. As per metadata \"As of 2016, rates are suppressed when populations are less than 1,000. Use data prior to this year with caution.\""
   ]
  },
  {
   "cell_type": "code",
   "execution_count": 51,
   "metadata": {},
   "outputs": [
    {
     "data": {
      "text/plain": [
       "array([2005, 2006, 2007, 2008, 2009, 2010, 2011, 2012, 2013, 2014, 2015,\n",
       "       2016, 2017, 2018, 2019, 2020, 2021])"
      ]
     },
     "execution_count": 51,
     "metadata": {},
     "output_type": "execute_result"
    }
   ],
   "source": [
    "#Filtering rows for 'Statistics' == 'Actual incidents' from MissingValueDataframe\n",
    "ActualIncidentsMissing = MissingValueDataFrame[MissingValueDataFrame['Statistics'] == 'Actual incidents']\n",
    "\n",
    "#Displaying the unique years\n",
    "ActualIncidentsMissing['Year'].unique()"
   ]
  },
  {
   "cell_type": "markdown",
   "metadata": {},
   "source": [
    "So, we are missing actual incidents from 2005 to 2021. Let's check the total number of rows missing for each year."
   ]
  },
  {
   "cell_type": "code",
   "execution_count": 52,
   "metadata": {},
   "outputs": [
    {
     "data": {
      "text/plain": [
       "Year\n",
       "2005    6519\n",
       "2006    4959\n",
       "2007    4959\n",
       "2008    4863\n",
       "2009    4863\n",
       "2010    4815\n",
       "2011    4719\n",
       "2012    4719\n",
       "2013    4383\n",
       "2014    3567\n",
       "2015    3375\n",
       "2016    4984\n",
       "2017    4784\n",
       "2018    2384\n",
       "2019    2384\n",
       "2020    2025\n",
       "2021     171\n",
       "Name: count, dtype: int64"
      ]
     },
     "execution_count": 52,
     "metadata": {},
     "output_type": "execute_result"
    }
   ],
   "source": [
    "#Counting the number of missing rows per year for 'Actual incidents'\n",
    "ActualIncidentsMissing['Year'].value_counts().sort_index()"
   ]
  },
  {
   "cell_type": "markdown",
   "metadata": {},
   "source": [
    "Let's check the count of rows for Actual Incidents for every year from 2005 to 2023"
   ]
  },
  {
   "cell_type": "code",
   "execution_count": 53,
   "metadata": {},
   "outputs": [
    {
     "data": {
      "text/plain": [
       "Year\n",
       "2005    15759\n",
       "2006    15759\n",
       "2007    15759\n",
       "2008    15759\n",
       "2009    15759\n",
       "2010    15759\n",
       "2011    15759\n",
       "2012    15855\n",
       "2013    15855\n",
       "2014    15855\n",
       "2015    15759\n",
       "2016    17784\n",
       "2017    17784\n",
       "2018    17784\n",
       "2019    17784\n",
       "2020    17784\n",
       "2021    17784\n",
       "2022    17784\n",
       "2023    17784\n",
       "Name: count, dtype: int64"
      ]
     },
     "execution_count": 53,
     "metadata": {},
     "output_type": "execute_result"
    }
   ],
   "source": [
    "#Filtering rows for 'Statistics' == 'Actual incidents' from Crime_Statistics dataframe\n",
    "ActualIncidents = Crime_Statistics[Crime_Statistics['Statistics'] == 'Actual incidents']\n",
    "\n",
    "#Counting the number of rows per year for 'Actual incidents'\n",
    "ActualIncidents['Year'].value_counts().sort_index()"
   ]
  },
  {
   "cell_type": "markdown",
   "metadata": {},
   "source": [
    "Let's calculate the percentage of missing data for every year"
   ]
  },
  {
   "cell_type": "code",
   "execution_count": 54,
   "metadata": {},
   "outputs": [
    {
     "name": "stdout",
     "output_type": "stream",
     "text": [
      "Percentage of missing data for each year for 'Actual incidents':\n",
      "Year 2005: 41.37%\n",
      "Year 2006: 31.47%\n",
      "Year 2007: 31.47%\n",
      "Year 2008: 30.86%\n",
      "Year 2009: 30.86%\n",
      "Year 2010: 30.55%\n",
      "Year 2011: 29.94%\n",
      "Year 2012: 29.76%\n",
      "Year 2013: 27.64%\n",
      "Year 2014: 22.50%\n",
      "Year 2015: 21.42%\n",
      "Year 2016: 28.03%\n",
      "Year 2017: 26.90%\n",
      "Year 2018: 13.41%\n",
      "Year 2019: 13.41%\n",
      "Year 2020: 11.39%\n",
      "Year 2021: 0.96%\n",
      "Year 2022: 0.00%\n",
      "Year 2023: 0.00%\n"
     ]
    }
   ],
   "source": [
    "#Initializing an empty dictionary to store missing percentage for each year\n",
    "MissingPercentageDictionary = {}\n",
    "\n",
    "#Looping through each unique year\n",
    "for year in ActualIncidents['Year'].unique():\n",
    "    \n",
    "    #Counting the number of missing rows for the current year\n",
    "    MissingRows = ActualIncidentsMissing[ActualIncidentsMissing['Year'] == year].shape[0]\n",
    "    \n",
    "    #Counting the total number of rows for the current year\n",
    "    TotalRows = ActualIncidents[ActualIncidents['Year'] == year].shape[0]\n",
    "    \n",
    "    #Calculating the percentage of missing rows\n",
    "    MissingPercentage = (MissingRows / TotalRows) * 100 if TotalRows != 0 else 0\n",
    "    \n",
    "    #Store the result in the dictionary\n",
    "    MissingPercentageDictionary[year] = MissingPercentage\n",
    "\n",
    "#Displaying the result\n",
    "print(\"Percentage of missing data for each year for 'Actual incidents':\")\n",
    "for year, percentage in MissingPercentageDictionary.items():\n",
    "    print(f\"Year {year}: {percentage:.2f}%\")"
   ]
  },
  {
   "cell_type": "markdown",
   "metadata": {},
   "source": [
    "The percentage of missing data for 'Actual incidents' varies by year, with a clear trend of decreasing missing data over time.\n",
    "\n",
    "- Earlier Years (2005-2015): The percentage of missing data is relatively high, with the peak occurring in 2005 (41.37%). It gradually decreases over the years, showing a steady decline in missing data. In 2015, the missing data percentage is 21.42%, reflecting an overall improvement in data availability for that year.\n",
    "- Mid Years (2016-2020): From 2016 onward, the percentage of missing data starts to significantly drop. In 2016, the percentage stands at 28.03%, but by 2020, it has decreased to 11.39%. This sharp reduction suggests better data coverage or improved reporting mechanisms during this period.\n",
    "- Recent Years (2021-2023): The percentage of missing data is very low in the recent years, with 2021 showing only 0.96%, and both 2022 and 2023 having no missing data (0.00%). This suggests that the data reporting for 'Actual incidents' has become almost complete in the most recent years."
   ]
  },
  {
   "cell_type": "markdown",
   "metadata": {},
   "source": [
    "The analysis indicates a noticeable improvement in data reporting for 'Actual incidents,' with missing data declining sharply after 2015. The recent years, especially 2022 and 2023, have almost complete data for 'Actual incidents,' making the dataset highly reliable for these years."
   ]
  },
  {
   "cell_type": "markdown",
   "metadata": {},
   "source": [
    "Based on the metadata description, the missing values were categorized as either:\n",
    " \n",
    "- Rounded to 0 (zero): Where there is a meaningful distinction between true zero and the rounded value.\n",
    "- Not Applicable or Status Indicators: Represented by \"...\", suggesting that the data was not available or applicable.\n",
    " \n",
    "So the best approach would be to:\n",
    "- Missing values interpreted as rounded zeros (based on metadata) to be replaced with 0\n",
    "- To remove the rows where the value is \"..\" as they indicate that the data was not applicable"
   ]
  },
  {
   "cell_type": "code",
   "execution_count": 55,
   "metadata": {},
   "outputs": [],
   "source": [
    "#Removing rows where STATUS is \"..\"\n",
    "Crime_Statistics = Crime_Statistics[Crime_Statistics['STATUS'] != '..']\n",
    "\n",
    "#Filling VALUE with 0 where STATUS is '0s'\n",
    "Crime_Statistics.loc[Crime_Statistics['STATUS'] == '0s', 'VALUE'] = 0"
   ]
  },
  {
   "cell_type": "code",
   "execution_count": 56,
   "metadata": {},
   "outputs": [
    {
     "data": {
      "text/plain": [
       "array([nan, '0s'], dtype=object)"
      ]
     },
     "execution_count": 56,
     "metadata": {},
     "output_type": "execute_result"
    }
   ],
   "source": [
    "#Checking the unique values of STATUS column after removing rows with STATUS \"\"..\"\"\n",
    "Crime_Statistics[\"STATUS\"].unique()"
   ]
  },
  {
   "cell_type": "markdown",
   "metadata": {},
   "source": [
    "We no longer need the column STATUS so dropping it would be best."
   ]
  },
  {
   "cell_type": "code",
   "execution_count": 57,
   "metadata": {},
   "outputs": [],
   "source": [
    "#Dropping the column STATUS\n",
    "Crime_Statistics.drop([\"STATUS\"], axis=1, inplace=True)"
   ]
  },
  {
   "cell_type": "code",
   "execution_count": 58,
   "metadata": {},
   "outputs": [
    {
     "name": "stdout",
     "output_type": "stream",
     "text": [
      "Year          0\n",
      "GEO           0\n",
      "Violations    0\n",
      "Statistics    0\n",
      "UOM           0\n",
      "VECTOR        0\n",
      "COORDINATE    0\n",
      "VALUE         0\n",
      "TERMINATED    0\n",
      "dtype: int64\n"
     ]
    }
   ],
   "source": [
    "#Verifying if there are any remaining missing values\n",
    "print(Crime_Statistics.isnull().sum())"
   ]
  },
  {
   "cell_type": "markdown",
   "metadata": {},
   "source": [
    "There is no any missing values in the dataset."
   ]
  },
  {
   "cell_type": "markdown",
   "metadata": {},
   "source": [
    "## 7. Check for Duplicates"
   ]
  },
  {
   "cell_type": "code",
   "execution_count": 59,
   "metadata": {},
   "outputs": [
    {
     "name": "stdout",
     "output_type": "stream",
     "text": [
      "Duplicates: 0\n"
     ]
    }
   ],
   "source": [
    "#Checking for duplicates\n",
    "print(f\"Duplicates: {Crime_Statistics.duplicated().sum()}\")"
   ]
  },
  {
   "cell_type": "markdown",
   "metadata": {},
   "source": [
    "There is no duplicates in the dataset."
   ]
  },
  {
   "cell_type": "markdown",
   "metadata": {},
   "source": [
    "## 8. Check for Inconsistent Data Types"
   ]
  },
  {
   "cell_type": "code",
   "execution_count": 60,
   "metadata": {},
   "outputs": [
    {
     "name": "stdout",
     "output_type": "stream",
     "text": [
      "Year            int64\n",
      "GEO            object\n",
      "Violations     object\n",
      "Statistics     object\n",
      "UOM            object\n",
      "VECTOR         object\n",
      "COORDINATE     object\n",
      "VALUE         float64\n",
      "TERMINATED     object\n",
      "dtype: object\n"
     ]
    }
   ],
   "source": [
    "#Checking the data types of all columns\n",
    "print(Crime_Statistics.dtypes)"
   ]
  },
  {
   "cell_type": "markdown",
   "metadata": {},
   "source": [
    "All the data types for each columns makes sense. Looks great."
   ]
  },
  {
   "cell_type": "markdown",
   "metadata": {},
   "source": [
    "## 9. Check Outliers, and handle if any"
   ]
  },
  {
   "cell_type": "code",
   "execution_count": 61,
   "metadata": {},
   "outputs": [
    {
     "data": {
      "image/png": "[encoded data removed]",
      "text/plain": [
       "<Figure size 1000x600 with 1 Axes>"
      ]
     },
     "metadata": {},
     "output_type": "display_data"
    }
   ],
   "source": [
    "#Plotting box plot to detect outliers in the 'VALUE' column\n",
    "plt.figure(figsize=(10, 6))\n",
    "sns.boxplot(x='UOM', y='VALUE', data=Crime_Statistics)\n",
    "plt.title('Boxplot of Crime Statistics by UOM')\n",
    "plt.xlabel('Unit of Measurement')\n",
    "plt.ylabel('Crime Value')\n",
    "plt.show()"
   ]
  },
  {
   "cell_type": "markdown",
   "metadata": {},
   "source": [
    "Outliers are detected in. the dataset. However, after careful consideration of the nature of the data, the decision was made not to remove the outliers.\n",
    " \n",
    "The dataset contains crime statistics, and crime rates can vary significantly depending on the location, year, and type of crime. Removing outliers could lead to unreliable and incorrect conclusions, as these extreme values may represent real-world scenarios. Ignoring them would result in a loss of critical information.\n",
    " \n",
    "Crime rates can naturally range from 0 to 100 or more, depending on the specific metric and location. These variations are expected and are reflective of the dataset's diversity. Since the goal is to analyze crime statistics comprehensively, retaining all data points ensures a complete and unbiased analysis. We will proceed with further data analysis using the full dataset, including outliers, to ensure the results reflect real-world variations."
   ]
  },
  {
   "cell_type": "markdown",
   "metadata": {},
   "source": [
    "## 10. Initial Data Visualization"
   ]
  },
  {
   "cell_type": "code",
   "execution_count": 62,
   "metadata": {},
   "outputs": [
    {
     "data": {
      "image/png": "[encoded data removed]",
      "text/plain": [
       "<Figure size 800x500 with 1 Axes>"
      ]
     },
     "metadata": {},
     "output_type": "display_data"
    }
   ],
   "source": [
    "#Counting the occurrences of 'yes' and 'no' in the TERMINATED column\n",
    "terminated_counts = Crime_Statistics['TERMINATED'].value_counts()\n",
    "\n",
    "#Creating the bar chart\n",
    "plt.figure(figsize=(8, 5))\n",
    "terminated_counts.plot(kind='bar', color=['lightcoral', 'lightgreen'], edgecolor='black')\n",
    "\n",
    "#Adding chart labels and title\n",
    "plt.title('Distribution of TERMINATED Column (Yes/No)', fontsize=16)\n",
    "plt.xlabel('TERMINATED', fontsize=14)\n",
    "plt.ylabel('Count', fontsize=14)\n",
    "plt.xticks(rotation=0, fontsize=12)\n",
    "plt.grid(axis='y', linestyle='--', alpha=0.7)\n",
    "\n",
    "#Showing the plot\n",
    "plt.tight_layout()\n",
    "plt.show()"
   ]
  },
  {
   "cell_type": "markdown",
   "metadata": {},
   "source": [
    "Before, the dataset initially included rows with both Terminate Status: Yes and No. Upon closer inspection, rows with Terminate Status: Yes corresponded to cases where the data was labeled as \"not applicable\". As all the rows with STATUS: .., which meant \"Not Applicable\" were removed, we are left only with rows where Terminate Status: No ensuring that the data retained is valid and applicable."
   ]
  },
  {
   "cell_type": "markdown",
   "metadata": {},
   "source": [
    "As, we only have one value \"No\" in TERMINATED column, we no longer need the column, so the best decision would be to drop this column."
   ]
  },
  {
   "cell_type": "code",
   "execution_count": 63,
   "metadata": {},
   "outputs": [],
   "source": [
    "#Dropping the column \"TERMINATED\"\n",
    "Crime_Statistics.drop(['TERMINATED'], axis=1, inplace=True)"
   ]
  },
  {
   "cell_type": "markdown",
   "metadata": {},
   "source": [
    "## 11. Segmenting Crime Data into National, Provincial, and City Level Breakdown"
   ]
  },
  {
   "cell_type": "markdown",
   "metadata": {},
   "source": [
    "### Segmenting into National Level"
   ]
  },
  {
   "cell_type": "code",
   "execution_count": 64,
   "metadata": {},
   "outputs": [],
   "source": [
    "#Extracting only national-level crime data\n",
    "NationalLevelCrime = Crime_Statistics[Crime_Statistics['GEO'] == \"Canada\"].copy()"
   ]
  },
  {
   "cell_type": "code",
   "execution_count": 65,
   "metadata": {},
   "outputs": [
    {
     "data": {
      "text/html": [
       "<div>\n",
       "<style scoped>\n",
       "    .dataframe tbody tr th:only-of-type {\n",
       "        vertical-align: middle;\n",
       "    }\n",
       "\n",
       "    .dataframe tbody tr th {\n",
       "        vertical-align: top;\n",
       "    }\n",
       "\n",
       "    .dataframe thead th {\n",
       "        text-align: right;\n",
       "    }\n",
       "</style>\n",
       "<table border=\"1\" class=\"dataframe\">\n",
       "  <thead>\n",
       "    <tr style=\"text-align: right;\">\n",
       "      <th></th>\n",
       "      <th>Year</th>\n",
       "      <th>GEO</th>\n",
       "      <th>Violations</th>\n",
       "      <th>Statistics</th>\n",
       "      <th>UOM</th>\n",
       "      <th>VECTOR</th>\n",
       "      <th>COORDINATE</th>\n",
       "      <th>VALUE</th>\n",
       "    </tr>\n",
       "  </thead>\n",
       "  <tbody>\n",
       "    <tr>\n",
       "      <th>1875321</th>\n",
       "      <td>2005</td>\n",
       "      <td>Canada</td>\n",
       "      <td>Total, all violations [0]</td>\n",
       "      <td>Actual incidents</td>\n",
       "      <td>Number</td>\n",
       "      <td>v44348247</td>\n",
       "      <td>1.1.1</td>\n",
       "      <td>2608741.00</td>\n",
       "    </tr>\n",
       "    <tr>\n",
       "      <th>1875322</th>\n",
       "      <td>2005</td>\n",
       "      <td>Canada</td>\n",
       "      <td>Total, all violations [0]</td>\n",
       "      <td>Rate per 100,000 population</td>\n",
       "      <td>Rate</td>\n",
       "      <td>v44396346</td>\n",
       "      <td>1.1.2</td>\n",
       "      <td>8090.32</td>\n",
       "    </tr>\n",
       "    <tr>\n",
       "      <th>1875323</th>\n",
       "      <td>2005</td>\n",
       "      <td>Canada</td>\n",
       "      <td>Total, all violations [0]</td>\n",
       "      <td>Percentage change in rate</td>\n",
       "      <td>Percent</td>\n",
       "      <td>v44391402</td>\n",
       "      <td>1.1.3</td>\n",
       "      <td>-3.59</td>\n",
       "    </tr>\n",
       "    <tr>\n",
       "      <th>1875324</th>\n",
       "      <td>2005</td>\n",
       "      <td>Canada</td>\n",
       "      <td>Total, all violations [0]</td>\n",
       "      <td>Percentage contribution to the Crime Severity ...</td>\n",
       "      <td>Percent</td>\n",
       "      <td>v1545644596</td>\n",
       "      <td>1.1.17</td>\n",
       "      <td>100.00</td>\n",
       "    </tr>\n",
       "    <tr>\n",
       "      <th>1875327</th>\n",
       "      <td>2005</td>\n",
       "      <td>Canada</td>\n",
       "      <td>Total, all violations [0]</td>\n",
       "      <td>Total cleared</td>\n",
       "      <td>Number</td>\n",
       "      <td>v44327422</td>\n",
       "      <td>1.1.4</td>\n",
       "      <td>1025889.00</td>\n",
       "    </tr>\n",
       "  </tbody>\n",
       "</table>\n",
       "</div>"
      ],
      "text/plain": [
       "         Year     GEO                 Violations  \\\n",
       "1875321  2005  Canada  Total, all violations [0]   \n",
       "1875322  2005  Canada  Total, all violations [0]   \n",
       "1875323  2005  Canada  Total, all violations [0]   \n",
       "1875324  2005  Canada  Total, all violations [0]   \n",
       "1875327  2005  Canada  Total, all violations [0]   \n",
       "\n",
       "                                                Statistics      UOM  \\\n",
       "1875321                                   Actual incidents   Number   \n",
       "1875322                        Rate per 100,000 population     Rate   \n",
       "1875323                          Percentage change in rate  Percent   \n",
       "1875324  Percentage contribution to the Crime Severity ...  Percent   \n",
       "1875327                                      Total cleared   Number   \n",
       "\n",
       "              VECTOR COORDINATE       VALUE  \n",
       "1875321    v44348247      1.1.1  2608741.00  \n",
       "1875322    v44396346      1.1.2     8090.32  \n",
       "1875323    v44391402      1.1.3       -3.59  \n",
       "1875324  v1545644596     1.1.17      100.00  \n",
       "1875327    v44327422      1.1.4  1025889.00  "
      ]
     },
     "execution_count": 65,
     "metadata": {},
     "output_type": "execute_result"
    }
   ],
   "source": [
    "#Loading the first five rows of the NationalLevelCrime dataset\n",
    "NationalLevelCrime.head(5)"
   ]
  },
  {
   "cell_type": "code",
   "execution_count": 66,
   "metadata": {},
   "outputs": [
    {
     "data": {
      "text/plain": [
       "(74299, 8)"
      ]
     },
     "execution_count": 66,
     "metadata": {},
     "output_type": "execute_result"
    }
   ],
   "source": [
    "#Checking the shape of the NationalLevelCrime dataset\n",
    "NationalLevelCrime.shape"
   ]
  },
  {
   "cell_type": "code",
   "execution_count": 67,
   "metadata": {},
   "outputs": [],
   "source": [
    "#Filtering \"Actual incidents\" and grouping by Year\n",
    "NationalLevelActualIncidents = NationalLevelCrime[NationalLevelCrime['Statistics'] == \"Actual incidents\"] \\\n",
    "    .groupby('Year')['VALUE'].sum().reset_index()"
   ]
  },
  {
   "cell_type": "code",
   "execution_count": 68,
   "metadata": {},
   "outputs": [
    {
     "name": "stdout",
     "output_type": "stream",
     "text": [
      "Year-wise Crime Statistics for Actual Incidents:\n",
      "    Year       VALUE\n",
      "0   2005  14481191.0\n",
      "1   2006  14477436.0\n",
      "2   2007  14051669.0\n",
      "3   2008  13746892.0\n",
      "4   2009  13557827.0\n",
      "5   2010  13144419.0\n",
      "6   2011  12552846.0\n",
      "7   2012  12381432.0\n",
      "8   2013  11569927.0\n",
      "9   2014  11325703.0\n",
      "10  2015  11706162.0\n",
      "11  2016  11952328.0\n",
      "12  2017  12237069.0\n",
      "13  2018  12633477.0\n",
      "14  2019  13559533.0\n",
      "15  2020  12396078.0\n",
      "16  2021  12511587.0\n",
      "17  2022  13397950.0\n",
      "18  2023  13964193.0\n"
     ]
    }
   ],
   "source": [
    "#Displaying the table\n",
    "print(\"Year-wise Crime Statistics for Actual Incidents:\")\n",
    "print(NationalLevelActualIncidents)"
   ]
  },
  {
   "cell_type": "code",
   "execution_count": 69,
   "metadata": {},
   "outputs": [
    {
     "data": {
      "image/png": "[encoded data removed]",
      "text/plain": [
       "<Figure size 1000x600 with 1 Axes>"
      ]
     },
     "metadata": {},
     "output_type": "display_data"
    }
   ],
   "source": [
    "#Showing the trend over year from 2005 to 2023\n",
    "#Setting plot style\n",
    "sns.set(style=\"whitegrid\")\n",
    "\n",
    "#Plotting the crime data for Actual incidents\n",
    "plt.figure(figsize=(10,6))\n",
    "plt.plot(NationalLevelActualIncidents['Year'], NationalLevelActualIncidents['VALUE'], marker='o', linestyle='-', color='r', label='Actual Incidents')\n",
    "\n",
    "#Adding titles and labels\n",
    "plt.title('Year-wise Crime Statistics for Actual Incidents in Canada (2005 - 2023)', fontsize=16)\n",
    "plt.xlabel('Year', fontsize=12)\n",
    "plt.ylabel('Total Crime Value (Actual Incidents)', fontsize=12)\n",
    "plt.xticks(NationalLevelActualIncidents['Year'], rotation=45)\n",
    "plt.tight_layout()\n",
    "\n",
    "#Showing the plot\n",
    "plt.legend()\n",
    "plt.show()"
   ]
  },
  {
   "cell_type": "code",
   "execution_count": 70,
   "metadata": {},
   "outputs": [
    {
     "name": "stdout",
     "output_type": "stream",
     "text": [
      "Top 10 Violations in Canada: \n",
      "                                            Violations       VALUE\n",
      "293  Total, all Criminal Code violations (including...  42171493.0\n",
      "292  Total, all Criminal Code violations (excluding...  39680568.0\n",
      "280              Total property crime violations [200]  24421586.0\n",
      "287  Total theft under $5,000 (non-motor vehicle) [...   9907157.0\n",
      "290       Total violent Criminal Code violations [100]   8450906.0\n",
      "271         Total other Criminal Code violations [300]   6808076.0\n",
      "267                               Total mischief [250]   5938150.0\n",
      "148                                    Mischief [2170]   5935699.0\n",
      "246                       Theft $5,000 or under [2140]   4406743.0\n",
      "255   Total administration of justice violations [330]   3653267.0\n"
     ]
    }
   ],
   "source": [
    "#Getting the top 10 violations for \"Actual incidents\"\n",
    "NationalLevelTopViolations = NationalLevelCrime[NationalLevelCrime['Statistics'] == \"Actual incidents\"] \\\n",
    "    .groupby('Violations')['VALUE'].sum().reset_index()\n",
    "\n",
    "#Excluding \"Total, all violations [0]\"\n",
    "NationalLevelTopViolations = NationalLevelTopViolations[NationalLevelTopViolations['Violations'] != \"Total, all violations [0]\"]\n",
    "\n",
    "#Displaying the top 10 violations\n",
    "NationalLevelTopViolations = NationalLevelTopViolations.sort_values(by='VALUE', ascending=False).head(10)\n",
    "print(\"Top 10 Violations in Canada: \")\n",
    "print(NationalLevelTopViolations)"
   ]
  },
  {
   "cell_type": "code",
   "execution_count": 71,
   "metadata": {},
   "outputs": [
    {
     "data": {
      "image/png": "[encoded data removed]",
      "text/plain": [
       "<Figure size 1200x800 with 1 Axes>"
      ]
     },
     "metadata": {},
     "output_type": "display_data"
    }
   ],
   "source": [
    "#Setting plot style\n",
    "sns.set(style=\"whitegrid\")\n",
    "\n",
    "#CCreate a bar plot for the top 10 violations\n",
    "plt.figure(figsize=(12,8))\n",
    "sns.barplot(data=NationalLevelTopViolations, x='VALUE', y='Violations', hue='Violations', palette='viridis', legend=False)\n",
    "\n",
    "#Adding titles and labels\n",
    "plt.title('Top 10 Violations in Canada', fontsize=16)\n",
    "plt.xlabel('Total Crime Value', fontsize=12)\n",
    "plt.ylabel('Violations', fontsize=12)\n",
    "plt.tight_layout()\n",
    "\n",
    "#Showing the plot\n",
    "plt.show()"
   ]
  },
  {
   "cell_type": "markdown",
   "metadata": {},
   "source": [
    "To facilitate further exploration and analysis of crime data, we are exporting the NationalLevelCrime dataframe to a CSV file. This file can then be imported into Power BI or any other data visualization tool to gain deeper insights and create interactive visualizations."
   ]
  },
  {
   "cell_type": "code",
   "execution_count": 72,
   "metadata": {},
   "outputs": [
    {
     "name": "stdout",
     "output_type": "stream",
     "text": [
      "Data saved successfully as NationalLevelCrimeStatistics.csv\n"
     ]
    }
   ],
   "source": [
    "#Saving the NationalLevelCrime dataframe to a CSV file\n",
    "NationalLevelCrime.to_csv(\"./NationalLevelCrimeStatistics.csv\", index=False)\n",
    "\n",
    "print(\"Data saved successfully as NationalLevelCrimeStatistics.csv\")"
   ]
  },
  {
   "cell_type": "markdown",
   "metadata": {},
   "source": [
    "### Segmenting into Provincial Level"
   ]
  },
  {
   "cell_type": "code",
   "execution_count": 73,
   "metadata": {},
   "outputs": [
    {
     "name": "stdout",
     "output_type": "stream",
     "text": [
      "List of provinces in the dataset:\n",
      "['Newfoundland and Labrador [10]' 'Prince Edward Island [11]'\n",
      " 'Nova Scotia [12]' 'New Brunswick [13]' 'Quebec [24]' 'Ontario [35]'\n",
      " 'Manitoba [46]' 'Saskatchewan [47]' 'Alberta [48]'\n",
      " 'British Columbia [59]' 'Yukon [60]' 'Northwest Territories [61]'\n",
      " 'Nunavut [62]']\n"
     ]
    }
   ],
   "source": [
    "#Listing known provinces in Canada\n",
    "CanadaProvince = [\n",
    "    'Alberta', 'British Columbia', 'Manitoba', 'New Brunswick', 'Newfoundland and Labrador', \n",
    "    'Northwest Territories', 'Nova Scotia', 'Nunavut', 'Ontario', 'Prince Edward Island', \n",
    "    'Quebec', 'Saskatchewan', 'Yukon'\n",
    "]\n",
    "\n",
    "#Function to extract provinces from the GEO column that starts with a known province name\n",
    "def match_province(geo_value):\n",
    "    for province in CanadaProvince:\n",
    "        if geo_value.startswith(province):  #Checking if the GEO starts with the known province\n",
    "            \n",
    "            #Extracting the province\n",
    "            match = re.match(r'([A-Za-z\\s&]+)\\s\\[(\\d+)\\]', geo_value)\n",
    "            if match:\n",
    "                return f\"{match.group(1)} [{match.group(2)}]\"\n",
    "    return None  #If no match is found, return None\n",
    "\n",
    "# xtracting and cleaning provinces from the GEO column\n",
    "Crime_Statistics['Province'] = Crime_Statistics['GEO'].apply(match_province)\n",
    "\n",
    "#Filtering out None values (no match found)\n",
    "ExtractedProvinces = Crime_Statistics['Province'].dropna().unique()\n",
    "\n",
    "#Displaying the list of provinces found in the dataset\n",
    "print(\"List of provinces in the dataset:\")\n",
    "print(ExtractedProvinces)"
   ]
  },
  {
   "cell_type": "code",
   "execution_count": 74,
   "metadata": {},
   "outputs": [],
   "source": [
    "#Filtering the Crime_Statistics dataframe for each province and creating a new dataframe\n",
    "ProvinceLevelCrime = Crime_Statistics[Crime_Statistics['GEO'].isin(ExtractedProvinces)].copy()\n",
    "\n",
    "#Resetting index for better handling\n",
    "ProvinceLevelCrime.reset_index(drop=True, inplace=True)"
   ]
  },
  {
   "cell_type": "code",
   "execution_count": 75,
   "metadata": {},
   "outputs": [
    {
     "data": {
      "text/html": [
       "<div>\n",
       "<style scoped>\n",
       "    .dataframe tbody tr th:only-of-type {\n",
       "        vertical-align: middle;\n",
       "    }\n",
       "\n",
       "    .dataframe tbody tr th {\n",
       "        vertical-align: top;\n",
       "    }\n",
       "\n",
       "    .dataframe thead th {\n",
       "        text-align: right;\n",
       "    }\n",
       "</style>\n",
       "<table border=\"1\" class=\"dataframe\">\n",
       "  <thead>\n",
       "    <tr style=\"text-align: right;\">\n",
       "      <th></th>\n",
       "      <th>Year</th>\n",
       "      <th>GEO</th>\n",
       "      <th>Violations</th>\n",
       "      <th>Statistics</th>\n",
       "      <th>UOM</th>\n",
       "      <th>VECTOR</th>\n",
       "      <th>COORDINATE</th>\n",
       "      <th>VALUE</th>\n",
       "      <th>Province</th>\n",
       "    </tr>\n",
       "  </thead>\n",
       "  <tbody>\n",
       "    <tr>\n",
       "      <th>0</th>\n",
       "      <td>2005</td>\n",
       "      <td>Newfoundland and Labrador [10]</td>\n",
       "      <td>Total, all violations [0]</td>\n",
       "      <td>Actual incidents</td>\n",
       "      <td>Number</td>\n",
       "      <td>v44339986</td>\n",
       "      <td>2.1.1</td>\n",
       "      <td>34504.00</td>\n",
       "      <td>Newfoundland and Labrador [10]</td>\n",
       "    </tr>\n",
       "    <tr>\n",
       "      <th>1</th>\n",
       "      <td>2005</td>\n",
       "      <td>Newfoundland and Labrador [10]</td>\n",
       "      <td>Total, all violations [0]</td>\n",
       "      <td>Rate per 100,000 population</td>\n",
       "      <td>Rate</td>\n",
       "      <td>v44348517</td>\n",
       "      <td>2.1.2</td>\n",
       "      <td>6708.10</td>\n",
       "      <td>Newfoundland and Labrador [10]</td>\n",
       "    </tr>\n",
       "    <tr>\n",
       "      <th>2</th>\n",
       "      <td>2005</td>\n",
       "      <td>Newfoundland and Labrador [10]</td>\n",
       "      <td>Total, all violations [0]</td>\n",
       "      <td>Percentage change in rate</td>\n",
       "      <td>Percent</td>\n",
       "      <td>v44347823</td>\n",
       "      <td>2.1.3</td>\n",
       "      <td>-2.24</td>\n",
       "      <td>Newfoundland and Labrador [10]</td>\n",
       "    </tr>\n",
       "    <tr>\n",
       "      <th>3</th>\n",
       "      <td>2005</td>\n",
       "      <td>Newfoundland and Labrador [10]</td>\n",
       "      <td>Total, all violations [0]</td>\n",
       "      <td>Percentage contribution to the Crime Severity ...</td>\n",
       "      <td>Percent</td>\n",
       "      <td>v1545648017</td>\n",
       "      <td>2.1.17</td>\n",
       "      <td>100.00</td>\n",
       "      <td>Newfoundland and Labrador [10]</td>\n",
       "    </tr>\n",
       "    <tr>\n",
       "      <th>4</th>\n",
       "      <td>2005</td>\n",
       "      <td>Newfoundland and Labrador [10]</td>\n",
       "      <td>Total, all violations [0]</td>\n",
       "      <td>Total cleared</td>\n",
       "      <td>Number</td>\n",
       "      <td>v44395152</td>\n",
       "      <td>2.1.4</td>\n",
       "      <td>13329.00</td>\n",
       "      <td>Newfoundland and Labrador [10]</td>\n",
       "    </tr>\n",
       "  </tbody>\n",
       "</table>\n",
       "</div>"
      ],
      "text/plain": [
       "   Year                             GEO                 Violations  \\\n",
       "0  2005  Newfoundland and Labrador [10]  Total, all violations [0]   \n",
       "1  2005  Newfoundland and Labrador [10]  Total, all violations [0]   \n",
       "2  2005  Newfoundland and Labrador [10]  Total, all violations [0]   \n",
       "3  2005  Newfoundland and Labrador [10]  Total, all violations [0]   \n",
       "4  2005  Newfoundland and Labrador [10]  Total, all violations [0]   \n",
       "\n",
       "                                          Statistics      UOM       VECTOR  \\\n",
       "0                                   Actual incidents   Number    v44339986   \n",
       "1                        Rate per 100,000 population     Rate    v44348517   \n",
       "2                          Percentage change in rate  Percent    v44347823   \n",
       "3  Percentage contribution to the Crime Severity ...  Percent  v1545648017   \n",
       "4                                      Total cleared   Number    v44395152   \n",
       "\n",
       "  COORDINATE     VALUE                        Province  \n",
       "0      2.1.1  34504.00  Newfoundland and Labrador [10]  \n",
       "1      2.1.2   6708.10  Newfoundland and Labrador [10]  \n",
       "2      2.1.3     -2.24  Newfoundland and Labrador [10]  \n",
       "3     2.1.17    100.00  Newfoundland and Labrador [10]  \n",
       "4      2.1.4  13329.00  Newfoundland and Labrador [10]  "
      ]
     },
     "execution_count": 75,
     "metadata": {},
     "output_type": "execute_result"
    }
   ],
   "source": [
    "#Loading the first five rows of ProvinceLevelCrime dataset\n",
    "ProvinceLevelCrime.head(5)"
   ]
  },
  {
   "cell_type": "code",
   "execution_count": 76,
   "metadata": {},
   "outputs": [
    {
     "data": {
      "text/plain": [
       "(944092, 9)"
      ]
     },
     "execution_count": 76,
     "metadata": {},
     "output_type": "execute_result"
    }
   ],
   "source": [
    "#Checking the shape of ProvinceLevelCrime dataset\n",
    "ProvinceLevelCrime.shape"
   ]
  },
  {
   "cell_type": "markdown",
   "metadata": {},
   "source": [
    "Before moving further, let's conduct the analysis to compare the National Level Crime and Province Level Crime values for the years 2005 to 2023."
   ]
  },
  {
   "cell_type": "code",
   "execution_count": 93,
   "metadata": {},
   "outputs": [
    {
     "name": "stdout",
     "output_type": "stream",
     "text": [
      "    Year  National Level Crime Value  Province Level Crime Value Matched\n",
      "0   2005                   2608741.0                   2608741.0     Yes\n",
      "1   2006                   2606887.0                   2606887.0     Yes\n",
      "2   2007                   2534730.0                   2534730.0     Yes\n",
      "3   2008                   2485043.0                   2485043.0     Yes\n",
      "4   2009                   2448654.0                   2448654.0     Yes\n",
      "5   2010                   2379130.0                   2379130.0     Yes\n",
      "6   2011                   2275917.0                   2275917.0     Yes\n",
      "7   2012                   2244458.0                   2244458.0     Yes\n",
      "8   2013                   2098776.0                   2098776.0     Yes\n",
      "9   2014                   2052925.0                   2052925.0     Yes\n",
      "10  2015                   2118681.0                   2118681.0     Yes\n",
      "11  2016                   2161927.0                   2161927.0     Yes\n",
      "12  2017                   2213293.0                   2213293.0     Yes\n",
      "13  2018                   2280328.0                   2280328.0     Yes\n",
      "14  2019                   2440496.0                   2440496.0     Yes\n",
      "15  2020                   2242459.0                   2241409.0      No\n",
      "16  2021                   2264285.0                   2262772.0      No\n",
      "17  2022                   2425672.0                   2423742.0      No\n",
      "18  2023                   2526877.0                   2524667.0      No\n"
     ]
    }
   ],
   "source": [
    "#Listing of years from 2005 to 2023\n",
    "Years = list(range(2005, 2024))\n",
    "\n",
    "#Initializing an empty list to store the results for each year\n",
    "CombinedTotalValues = []\n",
    "\n",
    "#Looping through each year and filter both NationalLevelCrime and ProvinceLevelCrime datasets\n",
    "for year in Years:\n",
    "    #Filtering the ProvinceLevelCrime dataset for the given year and other conditions\n",
    "    FilteredProvinceLevel = ProvinceLevelCrime[(ProvinceLevelCrime['Year'] == year) & \n",
    "                                                 (ProvinceLevelCrime['Statistics'] == \"Actual incidents\") \n",
    "                                                 & (ProvinceLevelCrime['Violations'] == \"Total, all violations [0]\")]\n",
    "    \n",
    "    #Calculating the total sum of the 'VALUE' column for the province level crime for the current year\n",
    "    ProvinceTotalValue = FilteredProvinceLevel['VALUE'].sum()\n",
    "    \n",
    "    #Filtering the NationalLevelCrime dataset for the given year and other conditions\n",
    "    FilteredNationalLevel = NationalLevelCrime[(NationalLevelCrime['Year'] == year) & \n",
    "                                                  (NationalLevelCrime['Statistics'] == \"Actual incidents\") \n",
    "                                                  & (NationalLevelCrime['Violations'] == \"Total, all violations [0]\")]\n",
    "    \n",
    "    #Calculating the total sum of the 'VALUE' column for the national level crime for the current year\n",
    "    NationalTotalValue = FilteredNationalLevel['VALUE'].sum()\n",
    "    \n",
    "    #Checking if the values match\n",
    "    Matched = 'Yes' if NationalTotalValue == ProvinceTotalValue else 'No'\n",
    "    \n",
    "    #Appending the result for both national and province total values along with the match status\n",
    "    CombinedTotalValues.append({'Year': year, \n",
    "                                  'National Level Crime Value': NationalTotalValue, \n",
    "                                  'Province Level Crime Value': ProvinceTotalValue,\n",
    "                                  'Matched': Matched})\n",
    "\n",
    "#Converting the results to a DataFrame for better readability\n",
    "CombinedTotalValuesDataframe = pd.DataFrame(CombinedTotalValues)\n",
    "\n",
    "#Displaying the results\n",
    "print(CombinedTotalValuesDataframe)"
   ]
  },
  {
   "cell_type": "markdown",
   "metadata": {},
   "source": [
    "The comparison shows that for the majority of the years, the values from both the national and provincial datasets match perfectly. However, there are discrepancies in the values for the years 2020, 2021, 2022, and 2023, where the values for Province Level Crime slightly differ from the National Level Crime values."
   ]
  },
  {
   "cell_type": "markdown",
   "metadata": {},
   "source": [
    "The discrepancies observed are likely due to the inclusion of Canadian Forces Military Police (CF MP Gp) data at the national level, which is not reflected at the provincial level. As per the metadata, the Canadian Forces Military Police (CF MP Gp) began reporting incidents to the Uniform Crime Reporting (UCR) Survey from January 2020."
   ]
  },
  {
   "cell_type": "markdown",
   "metadata": {},
   "source": [
    "Let's verify the counts for Canadian Forces Military Police [99001] for the years with the discrepancy to see if this is the reason for discrepancies or not."
   ]
  },
  {
   "cell_type": "code",
   "execution_count": 96,
   "metadata": {},
   "outputs": [
    {
     "name": "stdout",
     "output_type": "stream",
     "text": [
      "         Year   VALUE\n",
      "6332622  2020  1050.0\n",
      "6634950  2021  1513.0\n",
      "6937278  2022  1930.0\n",
      "7239606  2023  2210.0\n"
     ]
    }
   ],
   "source": [
    "#Filtering the dataset for Canadian Forces Military Police [99001]\n",
    "MilitaryPoliceData = Crime_Statistics[\n",
    "    (Crime_Statistics['GEO'] == \"Canadian Forces Military Police [99001]\") & \n",
    "    (Crime_Statistics['Statistics'] == \"Actual incidents\") & \n",
    "    (Crime_Statistics['Violations'] == \"Total, all violations [0]\")\n",
    "]\n",
    "\n",
    "#Displaying the filtered data\n",
    "print(MilitaryPoliceData[['Year', 'VALUE']])"
   ]
  },
  {
   "cell_type": "markdown",
   "metadata": {},
   "source": [
    "The discrepancy observed in the National Level Crime and Province Level Crime data for the years 2020, 2021, 2022, and 2023 aligns with the inclusion of crime data reported by the Canadian Forces Military Police (CF MP Gp) at the national level, which is not reflected in the province-level data.\n",
    "\n",
    "The CF MP Gp data is aggregated at the national level for confidentiality and small count protection, further confirming that the discrepancy is due to the absence of this data in the province-level breakdown."
   ]
  },
  {
   "cell_type": "code",
   "execution_count": null,
   "metadata": {},
   "outputs": [],
   "source": []
  }
 ],
 "metadata": {
  "kernelspec": {
   "display_name": "Python 3",
   "language": "python",
   "name": "python3"
  },
  "language_info": {
   "codemirror_mode": {
    "name": "ipython",
    "version": 3
   },
   "file_extension": ".py",
   "mimetype": "text/x-python",
   "name": "python",
   "nbconvert_exporter": "python",
   "pygments_lexer": "ipython3",
   "version": "3.11.10"
  }
 },
 "nbformat": 4,
 "nbformat_minor": 2
}
